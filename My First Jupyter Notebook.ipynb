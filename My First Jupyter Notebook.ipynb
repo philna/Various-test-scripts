{
 "cells": [
  {
   "cell_type": "markdown",
   "metadata": {},
   "source": [
    "---\n",
    "# This is my August 2018 Hackathon Jupyter Notebook\n"
   ]
  },
  {
   "cell_type": "markdown",
   "metadata": {},
   "source": [
    "#### How you created this notebook\n",
    "\n",
    "You launched this notebook by typing at bash terminal <code>jupyter notebook</code>.  \n",
    "\n",
    "It launches a localhost server instance that must be kept running.  Don't close the terminal window.  \n",
    "\n",
    "The kernel, or language, for this workbook is <i>Python 3</i>.\n",
    "\n",
    "To kill the server instance from the bash terminal, type:\n",
    "\n",
    "<code>Ctrl + C</code>\n",
    "\n",
    "\n",
    "####  Handy keyboard shortcut\n",
    "\n",
    "Ctrl + Enter - run the cell\n",
    "\n",
    "B new cell below\n",
    "A  new cell above\n",
    "DD delete current cell when not in edit mode"
   ]
  },
  {
   "cell_type": "code",
   "execution_count": 65,
   "metadata": {
    "scrolled": true
   },
   "outputs": [
    {
     "name": "stdout",
     "output_type": "stream",
     "text": [
      "7\n"
     ]
    },
    {
     "data": {
      "text/plain": [
       "7"
      ]
     },
     "execution_count": 65,
     "metadata": {},
     "output_type": "execute_result"
    }
   ],
   "source": [
    "# This is how you run Python in a notebook\n",
    "\n",
    "def add_stuff(a, b):\n",
    "    return a + b\n",
    "\n",
    "print(add_stuff(3,4))\n",
    "\n",
    "#  You don't need to use the print command\n",
    "\n",
    "add_stuff(3,4)\n",
    "\n",
    "#  The In[number] and Out[number]  syntax tells the you execution sequence."
   ]
  },
  {
   "cell_type": "markdown",
   "metadata": {},
   "source": [
    "💡 Helpful tip:  I can add ? following a object to see type and other general information.  This is called <b>object introspection</b>.  For example:"
   ]
  },
  {
   "cell_type": "code",
   "execution_count": 66,
   "metadata": {},
   "outputs": [],
   "source": [
    "import numpy as np\n",
    "\n",
    "foo = np.random.rand(5)\n",
    "\n",
    "# This prints the ndarray - another tip is that you don't need to say print(foo) in IPython\n",
    "foo\n",
    "\n",
    "# This tells me the type \n",
    "foo?\n",
    "\n",
    "#  This shows me the source code (maybe)\n",
    "foo??\n"
   ]
  },
  {
   "cell_type": "markdown",
   "metadata": {},
   "source": [
    "## Learning about magic commands"
   ]
  },
  {
   "cell_type": "markdown",
   "metadata": {},
   "source": [
    "These are special commands built into IPython (not part of Python).  It lets you run command lines program inside of the IPython system.  You can use it to run bash command or, even, code from other languages in this Jupyter notebook."
   ]
  },
  {
   "cell_type": "code",
   "execution_count": 67,
   "metadata": {},
   "outputs": [
    {
     "data": {
      "application/json": {
       "cell": {
        "!": "OSMagics",
        "HTML": "Other",
        "SVG": "Other",
        "bash": "Other",
        "capture": "ExecutionMagics",
        "debug": "ExecutionMagics",
        "file": "Other",
        "html": "DisplayMagics",
        "javascript": "DisplayMagics",
        "js": "DisplayMagics",
        "latex": "DisplayMagics",
        "markdown": "DisplayMagics",
        "perl": "Other",
        "prun": "ExecutionMagics",
        "pypy": "Other",
        "python": "Other",
        "python2": "Other",
        "python3": "Other",
        "ruby": "Other",
        "script": "ScriptMagics",
        "sh": "Other",
        "svg": "DisplayMagics",
        "sx": "OSMagics",
        "system": "OSMagics",
        "time": "ExecutionMagics",
        "timeit": "ExecutionMagics",
        "writefile": "OSMagics"
       },
       "line": {
        "alias": "OSMagics",
        "alias_magic": "BasicMagics",
        "autocall": "AutoMagics",
        "automagic": "AutoMagics",
        "autosave": "KernelMagics",
        "bookmark": "OSMagics",
        "cat": "Other",
        "cd": "OSMagics",
        "clear": "KernelMagics",
        "colors": "BasicMagics",
        "config": "ConfigMagics",
        "connect_info": "KernelMagics",
        "cp": "Other",
        "debug": "ExecutionMagics",
        "dhist": "OSMagics",
        "dirs": "OSMagics",
        "doctest_mode": "BasicMagics",
        "ed": "Other",
        "edit": "KernelMagics",
        "env": "OSMagics",
        "gui": "BasicMagics",
        "hist": "Other",
        "history": "HistoryMagics",
        "killbgscripts": "ScriptMagics",
        "ldir": "Other",
        "less": "KernelMagics",
        "lf": "Other",
        "lk": "Other",
        "ll": "Other",
        "load": "CodeMagics",
        "load_ext": "ExtensionMagics",
        "loadpy": "CodeMagics",
        "logoff": "LoggingMagics",
        "logon": "LoggingMagics",
        "logstart": "LoggingMagics",
        "logstate": "LoggingMagics",
        "logstop": "LoggingMagics",
        "ls": "Other",
        "lsmagic": "BasicMagics",
        "lx": "Other",
        "macro": "ExecutionMagics",
        "magic": "BasicMagics",
        "man": "KernelMagics",
        "matplotlib": "PylabMagics",
        "mkdir": "Other",
        "more": "KernelMagics",
        "mv": "Other",
        "notebook": "BasicMagics",
        "page": "BasicMagics",
        "pastebin": "CodeMagics",
        "pdb": "ExecutionMagics",
        "pdef": "NamespaceMagics",
        "pdoc": "NamespaceMagics",
        "pfile": "NamespaceMagics",
        "pinfo": "NamespaceMagics",
        "pinfo2": "NamespaceMagics",
        "pip": "BasicMagics",
        "popd": "OSMagics",
        "pprint": "BasicMagics",
        "precision": "BasicMagics",
        "profile": "BasicMagics",
        "prun": "ExecutionMagics",
        "psearch": "NamespaceMagics",
        "psource": "NamespaceMagics",
        "pushd": "OSMagics",
        "pwd": "OSMagics",
        "pycat": "OSMagics",
        "pylab": "PylabMagics",
        "qtconsole": "KernelMagics",
        "quickref": "BasicMagics",
        "recall": "HistoryMagics",
        "rehashx": "OSMagics",
        "reload_ext": "ExtensionMagics",
        "rep": "Other",
        "rerun": "HistoryMagics",
        "reset": "NamespaceMagics",
        "reset_selective": "NamespaceMagics",
        "rm": "Other",
        "rmdir": "Other",
        "run": "ExecutionMagics",
        "save": "CodeMagics",
        "sc": "OSMagics",
        "set_env": "OSMagics",
        "store": "StoreMagics",
        "sx": "OSMagics",
        "system": "OSMagics",
        "tb": "ExecutionMagics",
        "time": "ExecutionMagics",
        "timeit": "ExecutionMagics",
        "unalias": "OSMagics",
        "unload_ext": "ExtensionMagics",
        "who": "NamespaceMagics",
        "who_ls": "NamespaceMagics",
        "whos": "NamespaceMagics",
        "xdel": "NamespaceMagics",
        "xmode": "BasicMagics"
       }
      },
      "text/plain": [
       "Available line magics:\n",
       "%alias  %alias_magic  %autocall  %automagic  %autosave  %bookmark  %cat  %cd  %clear  %colors  %config  %connect_info  %cp  %debug  %dhist  %dirs  %doctest_mode  %ed  %edit  %env  %gui  %hist  %history  %killbgscripts  %ldir  %less  %lf  %lk  %ll  %load  %load_ext  %loadpy  %logoff  %logon  %logstart  %logstate  %logstop  %ls  %lsmagic  %lx  %macro  %magic  %man  %matplotlib  %mkdir  %more  %mv  %notebook  %page  %pastebin  %pdb  %pdef  %pdoc  %pfile  %pinfo  %pinfo2  %popd  %pprint  %precision  %profile  %prun  %psearch  %psource  %pushd  %pwd  %pycat  %pylab  %qtconsole  %quickref  %recall  %rehashx  %reload_ext  %rep  %rerun  %reset  %reset_selective  %rm  %rmdir  %run  %save  %sc  %set_env  %store  %sx  %system  %tb  %time  %timeit  %unalias  %unload_ext  %who  %who_ls  %whos  %xdel  %xmode\n",
       "\n",
       "Available cell magics:\n",
       "%%!  %%HTML  %%SVG  %%bash  %%capture  %%debug  %%file  %%html  %%javascript  %%js  %%latex  %%markdown  %%perl  %%prun  %%pypy  %%python  %%python2  %%python3  %%ruby  %%script  %%sh  %%svg  %%sx  %%system  %%time  %%timeit  %%writefile\n",
       "\n",
       "Automagic is ON, % prefix IS NOT needed for line magics."
      ]
     },
     "execution_count": 67,
     "metadata": {},
     "output_type": "execute_result"
    }
   ],
   "source": [
    "%lsmagic"
   ]
  },
  {
   "cell_type": "code",
   "execution_count": 68,
   "metadata": {},
   "outputs": [
    {
     "name": "stdout",
     "output_type": "stream",
     "text": [
      "total 552\r\n",
      "drwxr-xr-x  28 pnaranjo  TSI\\Domain Users     952 Aug 29 13:36 \u001b[34m.\u001b[m\u001b[m/\r\n",
      "drwxr-xr-x  13 pnaranjo  TSI\\Domain Users     442 Aug 27 18:00 \u001b[34m..\u001b[m\u001b[m/\r\n",
      "drwxr-xr-x  14 pnaranjo  TSI\\Domain Users     476 Aug 28 16:29 \u001b[34m.git\u001b[m\u001b[m/\r\n",
      "drwxr-xr-x   9 pnaranjo  TSI\\Domain Users     306 Aug 28 16:29 \u001b[34m.idea\u001b[m\u001b[m/\r\n",
      "drwxr-xr-x   3 pnaranjo  TSI\\Domain Users     102 Aug 29 10:09 \u001b[34m.ipynb_checkpoints\u001b[m\u001b[m/\r\n",
      "-rw-r--r--   1 pnaranjo  TSI\\Domain Users    2049 Dec 31  2017 Apollo 12 3rd Stage.py\r\n",
      "-rw-r--r--   1 pnaranjo  TSI\\Domain Users      22 Sep  7  2017 Hello World.py\r\n",
      "-rw-r--r--   1 pnaranjo  TSI\\Domain Users    2025 Nov 10  2017 ISS-api-test.py\r\n",
      "-rw-r--r--   1 pnaranjo  TSI\\Domain Users  191983 Aug 29 13:36 My First Jupyter Notebook.ipynb\r\n",
      "-rw-r--r--   1 pnaranjo  TSI\\Domain Users      78 Sep  7  2017 README.md\r\n",
      "-rw-r--r--   1 pnaranjo  TSI\\Domain Users    1462 Sep  7  2017 analema_Seattle\r\n",
      "-rw-r--r--   1 pnaranjo  TSI\\Domain Users     799 Nov 10  2017 arrow_test.py\r\n",
      "-rw-r--r--   1 pnaranjo  TSI\\Domain Users    1885 Sep  8  2017 asterank.py\r\n",
      "-rw-r--r--   1 pnaranjo  TSI\\Domain Users     699 Sep  7  2017 classlesson.py\r\n",
      "-rw-r--r--   1 pnaranjo  TSI\\Domain Users    3427 Sep  7  2017 iss-passes.csv\r\n",
      "-rw-r--r--   1 pnaranjo  TSI\\Domain Users    4581 Nov 10  2017 iss_generate_test_passes.py\r\n",
      "-rw-r--r--   1 pnaranjo  TSI\\Domain Users     955 Sep  7  2017 isstrack.py\r\n",
      "-rw-r--r--   1 pnaranjo  TSI\\Domain Users     192 Sep  7  2017 json-test.py\r\n",
      "-rw-r--r--   1 pnaranjo  TSI\\Domain Users     268 Aug 28 15:31 matplotlib test.py\r\n",
      "-rw-r--r--   1 pnaranjo  TSI\\Domain Users    1317 Sep  7  2017 mytestprogram.py\r\n",
      "-rw-r--r--   1 pnaranjo  TSI\\Domain Users    1033 Sep  7  2017 pyephem_sunposition.py\r\n",
      "-rw-r--r--   1 pnaranjo  TSI\\Domain Users     878 Sep  7  2017 pyephem_test.py\r\n",
      "-rw-r--r--   1 pnaranjo  TSI\\Domain Users     388 Sep  7  2017 screenscraper\r\n",
      "-rw-r--r--   1 pnaranjo  TSI\\Domain Users     708 Sep  7  2017 telescope list\r\n",
      "-rw-r--r--   1 pnaranjo  TSI\\Domain Users     398 Sep  7  2017 test JSON\r\n",
      "-rw-r--r--   1 pnaranjo  TSI\\Domain Users     129 Sep  7  2017 test-dictionary.py\r\n",
      "-rw-r--r--   1 pnaranjo  TSI\\Domain Users     440 Sep  7  2017 teststuff.py\r\n",
      "drwxr-xr-x   6 pnaranjo  TSI\\Domain Users     204 May  7 12:28 \u001b[34mvenv\u001b[m\u001b[m/\r\n"
     ]
    }
   ],
   "source": [
    "#  This is an bash ls command showing user attributes\n",
    "%ls -la"
   ]
  },
  {
   "cell_type": "markdown",
   "metadata": {},
   "source": [
    "###  Some useful magic commands\n",
    "\n",
    "%timeit - time execution of Python scripts\n",
    "\n",
    "%run script.py - run other Python scripts inside of IPython\n",
    "\n",
    "%debug Enter the interactive debugger \n",
    "\n",
    "%pwd - show the working directory  \n",
    "\n",
    "Some like %pwd, can be assigned to a variable\n",
    "\n",
    "foo = %pwd\n",
    "\n",
    "To read about more magic command, try %quickref or %magic"
   ]
  },
  {
   "cell_type": "markdown",
   "metadata": {},
   "source": [
    "## Learning pandas"
   ]
  },
  {
   "cell_type": "code",
   "execution_count": 69,
   "metadata": {},
   "outputs": [
    {
     "data": {
      "text/html": [
       "<div>\n",
       "<style scoped>\n",
       "    .dataframe tbody tr th:only-of-type {\n",
       "        vertical-align: middle;\n",
       "    }\n",
       "\n",
       "    .dataframe tbody tr th {\n",
       "        vertical-align: top;\n",
       "    }\n",
       "\n",
       "    .dataframe thead th {\n",
       "        text-align: right;\n",
       "    }\n",
       "</style>\n",
       "<table border=\"1\" class=\"dataframe\">\n",
       "  <thead>\n",
       "    <tr style=\"text-align: right;\">\n",
       "      <th></th>\n",
       "      <th>0</th>\n",
       "      <th>1</th>\n",
       "      <th>2</th>\n",
       "      <th>3</th>\n",
       "      <th>4</th>\n",
       "    </tr>\n",
       "  </thead>\n",
       "  <tbody>\n",
       "    <tr>\n",
       "      <th>0</th>\n",
       "      <td>-0.303314</td>\n",
       "      <td>1.016066</td>\n",
       "      <td>1.793085</td>\n",
       "      <td>-0.350340</td>\n",
       "      <td>0.748252</td>\n",
       "    </tr>\n",
       "    <tr>\n",
       "      <th>1</th>\n",
       "      <td>-0.660273</td>\n",
       "      <td>-0.066849</td>\n",
       "      <td>-0.451946</td>\n",
       "      <td>-0.092437</td>\n",
       "      <td>-0.063671</td>\n",
       "    </tr>\n",
       "    <tr>\n",
       "      <th>2</th>\n",
       "      <td>-1.032809</td>\n",
       "      <td>1.336526</td>\n",
       "      <td>-1.517838</td>\n",
       "      <td>0.153527</td>\n",
       "      <td>-1.790878</td>\n",
       "    </tr>\n",
       "    <tr>\n",
       "      <th>3</th>\n",
       "      <td>0.046922</td>\n",
       "      <td>1.314473</td>\n",
       "      <td>0.304575</td>\n",
       "      <td>0.589070</td>\n",
       "      <td>0.969345</td>\n",
       "    </tr>\n",
       "    <tr>\n",
       "      <th>4</th>\n",
       "      <td>0.297540</td>\n",
       "      <td>1.469748</td>\n",
       "      <td>0.302219</td>\n",
       "      <td>1.851014</td>\n",
       "      <td>0.535369</td>\n",
       "    </tr>\n",
       "    <tr>\n",
       "      <th>5</th>\n",
       "      <td>-0.154076</td>\n",
       "      <td>-0.097945</td>\n",
       "      <td>1.094895</td>\n",
       "      <td>-0.295749</td>\n",
       "      <td>0.370503</td>\n",
       "    </tr>\n",
       "    <tr>\n",
       "      <th>6</th>\n",
       "      <td>0.948324</td>\n",
       "      <td>-1.424496</td>\n",
       "      <td>0.522213</td>\n",
       "      <td>0.482731</td>\n",
       "      <td>0.160195</td>\n",
       "    </tr>\n",
       "    <tr>\n",
       "      <th>7</th>\n",
       "      <td>-0.578823</td>\n",
       "      <td>-0.304831</td>\n",
       "      <td>-1.654188</td>\n",
       "      <td>0.675086</td>\n",
       "      <td>-0.908707</td>\n",
       "    </tr>\n",
       "    <tr>\n",
       "      <th>8</th>\n",
       "      <td>0.774373</td>\n",
       "      <td>-0.746819</td>\n",
       "      <td>-0.255800</td>\n",
       "      <td>-0.575062</td>\n",
       "      <td>0.276211</td>\n",
       "    </tr>\n",
       "    <tr>\n",
       "      <th>9</th>\n",
       "      <td>-0.009163</td>\n",
       "      <td>-0.170417</td>\n",
       "      <td>-0.589539</td>\n",
       "      <td>1.059411</td>\n",
       "      <td>-0.123271</td>\n",
       "    </tr>\n",
       "  </tbody>\n",
       "</table>\n",
       "</div>"
      ],
      "text/plain": [
       "          0         1         2         3         4\n",
       "0 -0.303314  1.016066  1.793085 -0.350340  0.748252\n",
       "1 -0.660273 -0.066849 -0.451946 -0.092437 -0.063671\n",
       "2 -1.032809  1.336526 -1.517838  0.153527 -1.790878\n",
       "3  0.046922  1.314473  0.304575  0.589070  0.969345\n",
       "4  0.297540  1.469748  0.302219  1.851014  0.535369\n",
       "5 -0.154076 -0.097945  1.094895 -0.295749  0.370503\n",
       "6  0.948324 -1.424496  0.522213  0.482731  0.160195\n",
       "7 -0.578823 -0.304831 -1.654188  0.675086 -0.908707\n",
       "8  0.774373 -0.746819 -0.255800 -0.575062  0.276211\n",
       "9 -0.009163 -0.170417 -0.589539  1.059411 -0.123271"
      ]
     },
     "execution_count": 69,
     "metadata": {},
     "output_type": "execute_result"
    }
   ],
   "source": [
    "import pandas as pd\n",
    "import numpy as np\n",
    "\n",
    "df = pd.DataFrame(np.random.randn(10,5))\n",
    "df"
   ]
  },
  {
   "cell_type": "markdown",
   "metadata": {},
   "source": [
    "## Learning about Matplotlib"
   ]
  },
  {
   "cell_type": "code",
   "execution_count": 70,
   "metadata": {},
   "outputs": [],
   "source": [
    "%matplotlib inline"
   ]
  },
  {
   "cell_type": "code",
   "execution_count": 71,
   "metadata": {},
   "outputs": [
    {
     "data": {
      "image/png": "[encoded data removed]",
      "text/plain": [
       "<Figure size 432x288 with 1 Axes>"
      ]
     },
     "metadata": {},
     "output_type": "display_data"
    },
    {
     "name": "stdout",
     "output_type": "stream",
     "text": [
      "1.99 µs ± 50.7 ns per loop (mean ± std. dev. of 7 runs, 1000000 loops each)\n"
     ]
    }
   ],
   "source": [
    "import matplotlib.pyplot as plt\n",
    "import numpy as np\n",
    "\n",
    "#Create ndarrays of length 500 populated with random values\n",
    "\n",
    "N = 500\n",
    "x = np.random.rand(N)\n",
    "y = np.random.rand(N)\n",
    "\n",
    "# Define plot\n",
    "#plt.plot([1,2,3,4], [1, 3, 5, 7], 'r+')\n",
    "plt.plot(x,y,'r+')\n",
    "plt.ylabel('some numbers')\n",
    "plt.xlabel('more numbers')\n",
    "\n",
    "#Generate plot and use the %timeit magic command to measure the execution time\n",
    "%timeit plt.show()"
   ]
  },
  {
   "cell_type": "markdown",
   "metadata": {},
   "source": [
    "## Create another scatter plot with fancy marks"
   ]
  },
  {
   "cell_type": "code",
   "execution_count": 72,
   "metadata": {},
   "outputs": [],
   "source": [
    "%matplotlib inline"
   ]
  },
  {
   "cell_type": "code",
   "execution_count": 73,
   "metadata": {},
   "outputs": [
    {
     "data": {
      "image/png": "[encoded data removed]",
      "text/plain": [
       "<Figure size 432x288 with 1 Axes>"
      ]
     },
     "metadata": {},
     "output_type": "display_data"
    }
   ],
   "source": [
    "'''\n",
    "Create a simple chart\n",
    "'''\n",
    "import numpy as np\n",
    "import matplotlib.pyplot as plt\n",
    "\n",
    "N = 200\n",
    "x = np.random.rand(N)\n",
    "y = np.random.rand(N)\n",
    "colors = np.random.rand(N)\n",
    "area = np.pi * (15 * np.random.rand(N))**2\n",
    "\n",
    "plt.scatter(x, y, s=area, c=colors, alpha=0.5)\n",
    "plt.show()"
   ]
  },
  {
   "cell_type": "markdown",
   "metadata": {},
   "source": [
    "### Make a line chart with matplotlib"
   ]
  },
  {
   "cell_type": "code",
   "execution_count": 74,
   "metadata": {},
   "outputs": [],
   "source": [
    "%matplotlib inline"
   ]
  },
  {
   "cell_type": "code",
   "execution_count": 75,
   "metadata": {},
   "outputs": [
    {
     "data": {
      "text/plain": [
       "[<matplotlib.lines.Line2D at 0x119f6c7b8>]"
      ]
     },
     "execution_count": 75,
     "metadata": {},
     "output_type": "execute_result"
    },
    {
     "data": {
      "image/png": "[encoded data removed]",
      "text/plain": [
       "<Figure size 432x288 with 1 Axes>"
      ]
     },
     "metadata": {},
     "output_type": "display_data"
    }
   ],
   "source": [
    "import matplotlib.pyplot as plt\n",
    "\n",
    "plt.plot(np.random.randn(50).cumsum())"
   ]
  },
  {
   "cell_type": "markdown",
   "metadata": {},
   "source": [
    "### make a 3d plot using numpy and matplotlib"
   ]
  },
  {
   "cell_type": "code",
   "execution_count": 513,
   "metadata": {},
   "outputs": [
    {
     "data": {
      "image/png": "[encoded data removed]",
      "text/plain": [
       "<Figure size 432x288 with 1 Axes>"
      ]
     },
     "metadata": {},
     "output_type": "display_data"
    }
   ],
   "source": [
    "# Jupyter notebook source \n",
    "# https://colab.research.google.com/github/jakevdp/PythonDataScienceHandbook/blob/master/notebooks/04.12-Three-Dimensional-Plotting.ipynb\n",
    "#  Make a spiral 3d plot \n",
    "\n",
    "%matplotlib inline\n",
    "\n",
    "# What is mpl_toolkits?\n",
    "from mpl_toolkits import mplot3d\n",
    "\n",
    "import numpy as np\n",
    "import matplotlib.pyplot as plt\n",
    "\n",
    "# Define 3d grid axes\n",
    "fig = plt.figure()\n",
    "ax = plt.axes(projection='3d')\n",
    "\n",
    "# Data for a three-dimensional line\n",
    "zline = np.linspace(0, 15, 1000)\n",
    "xline = np.sin(zline)\n",
    "yline = np.cos(zline)\n",
    "ax.plot3D(xline, yline, zline, 'gray')\n",
    "\n",
    "# Data for three-dimensional scattered points\n",
    "zdata = 15 * np.random.random(100)\n",
    "xdata = np.sin(zdata) + 0.1 * np.random.randn(100)\n",
    "ydata = np.cos(zdata) + 0.1 * np.random.randn(100)\n",
    "ax.scatter3D(xdata, ydata, zdata, c=zdata, cmap='Greens');"
   ]
  },
  {
   "cell_type": "markdown",
   "metadata": {},
   "source": [
    "##  Okay...this is a refresher session to build up a deeper understanding Python and its data structures\n",
    "\n",
    "This will also create a little primer for basic stuff that I keep forgetting.  The material comes from the book:\n",
    "\n",
    "Python for Data Anaysis\n"
   ]
  },
  {
   "cell_type": "code",
   "execution_count": 81,
   "metadata": {},
   "outputs": [],
   "source": [
    "#  References to the same object - variables point to the same object in memory and not a copy.\n",
    "#  Variable assignment is known as binding\n",
    "\n",
    "a = [1,2,3]\n",
    "b = a\n"
   ]
  },
  {
   "cell_type": "code",
   "execution_count": 82,
   "metadata": {},
   "outputs": [
    {
     "name": "stdout",
     "output_type": "stream",
     "text": [
      "[1, 2, 3] [1, 2, 3]\n"
     ]
    }
   ],
   "source": [
    "print(a, b)\n"
   ]
  },
  {
   "cell_type": "code",
   "execution_count": 84,
   "metadata": {},
   "outputs": [],
   "source": [
    "a.append(4)"
   ]
  },
  {
   "cell_type": "code",
   "execution_count": 85,
   "metadata": {},
   "outputs": [
    {
     "name": "stdout",
     "output_type": "stream",
     "text": [
      "[1, 2, 3, 4] [1, 2, 3, 4]\n"
     ]
    }
   ],
   "source": [
    "#a and b both point to the same list\n",
    "print(a,b)"
   ]
  },
  {
   "cell_type": "code",
   "execution_count": 86,
   "metadata": {},
   "outputs": [
    {
     "data": {
      "text/plain": [
       "True"
      ]
     },
     "execution_count": 86,
     "metadata": {},
     "output_type": "execute_result"
    }
   ],
   "source": [
    "#Checking that an object is an instance of a particular type\n",
    "\n",
    "a = 5; b = 3.4\n",
    "\n",
    "isinstance(a,int)"
   ]
  },
  {
   "cell_type": "code",
   "execution_count": 87,
   "metadata": {},
   "outputs": [
    {
     "data": {
      "text/plain": [
       "True"
      ]
     },
     "execution_count": 87,
     "metadata": {},
     "output_type": "execute_result"
    }
   ],
   "source": [
    "isinstance(b, float)"
   ]
  },
  {
   "cell_type": "code",
   "execution_count": 90,
   "metadata": {},
   "outputs": [
    {
     "data": {
      "text/plain": [
       "True"
      ]
     },
     "execution_count": 90,
     "metadata": {},
     "output_type": "execute_result"
    }
   ],
   "source": [
    "#  You can also use a tuple as a argument for checking multiple types\n",
    "isinstance(b, (int,float, bool))\n"
   ]
  },
  {
   "cell_type": "code",
   "execution_count": 92,
   "metadata": {},
   "outputs": [],
   "source": [
    "b?"
   ]
  },
  {
   "cell_type": "code",
   "execution_count": 101,
   "metadata": {},
   "outputs": [
    {
     "data": {
      "text/plain": [
       "True"
      ]
     },
     "execution_count": 101,
     "metadata": {},
     "output_type": "execute_result"
    }
   ],
   "source": [
    "#   Interable objects\n",
    "#   From https://stackoverflow.com/questions/9884132/what-exactly-are-iterator-iterable-and-iteration\n",
    "#\n",
    "#   When an object is said to be iterable, it means that you can step through (i.e. iterate) the object as a collection. Arrays for example are iterable. ... \n",
    "#   Dictionaries (pairs of key/value, also called associative arrays) are also iterable. You can step through their keys\n",
    "\n",
    "a = [1,2,3]\n",
    "\n",
    "#    This function throw an exception if the object is not iterable\n",
    "def isiterable(obj):\n",
    "    try:\n",
    "        iter(obj)\n",
    "        return True\n",
    "    except TypeError:  #not iterable\n",
    "        return False\n",
    "    \n",
    "isiterable(a)\n",
    "\n"
   ]
  },
  {
   "cell_type": "code",
   "execution_count": 105,
   "metadata": {},
   "outputs": [
    {
     "data": {
      "text/plain": [
       "numpy.ndarray"
      ]
     },
     "execution_count": 105,
     "metadata": {},
     "output_type": "execute_result"
    }
   ],
   "source": [
    "#  You can use this check type and iternability and convert as needed\n",
    "\n",
    "import numpy as np\n",
    "\n",
    "foo = np.random.rand(5)\n",
    "type(foo)\n",
    "\n",
    "\n"
   ]
  },
  {
   "cell_type": "code",
   "execution_count": 106,
   "metadata": {},
   "outputs": [
    {
     "data": {
      "text/plain": [
       "list"
      ]
     },
     "execution_count": 106,
     "metadata": {},
     "output_type": "execute_result"
    }
   ],
   "source": [
    "if not isinstance(foo, list) and isiterable(foo):\n",
    "    foo = list(foo)\n",
    "    \n",
    "type(foo)"
   ]
  },
  {
   "cell_type": "code",
   "execution_count": 163,
   "metadata": {},
   "outputs": [
    {
     "data": {
      "text/plain": [
       "['__add__',\n",
       " '__class__',\n",
       " '__contains__',\n",
       " '__delattr__',\n",
       " '__delitem__',\n",
       " '__dir__',\n",
       " '__doc__',\n",
       " '__eq__',\n",
       " '__format__',\n",
       " '__ge__',\n",
       " '__getattribute__',\n",
       " '__getitem__',\n",
       " '__gt__',\n",
       " '__hash__',\n",
       " '__iadd__',\n",
       " '__imul__',\n",
       " '__init__',\n",
       " '__init_subclass__',\n",
       " '__iter__',\n",
       " '__le__',\n",
       " '__len__',\n",
       " '__lt__',\n",
       " '__mul__',\n",
       " '__ne__',\n",
       " '__new__',\n",
       " '__reduce__',\n",
       " '__reduce_ex__',\n",
       " '__repr__',\n",
       " '__reversed__',\n",
       " '__rmul__',\n",
       " '__setattr__',\n",
       " '__setitem__',\n",
       " '__sizeof__',\n",
       " '__str__',\n",
       " '__subclasshook__',\n",
       " 'append',\n",
       " 'clear',\n",
       " 'copy',\n",
       " 'count',\n",
       " 'extend',\n",
       " 'index',\n",
       " 'insert',\n",
       " 'pop',\n",
       " 'remove',\n",
       " 'reverse',\n",
       " 'sort']"
      ]
     },
     "execution_count": 163,
     "metadata": {},
     "output_type": "execute_result"
    }
   ],
   "source": [
    "#  Return a list of valid attributes for that object.  You can use this to look for the _iter_ function object. \n",
    "#  That means it's an iterator or it's iterable...maybe \n",
    "dir(foo)"
   ]
  },
  {
   "cell_type": "code",
   "execution_count": 108,
   "metadata": {},
   "outputs": [
    {
     "name": "stdout",
     "output_type": "stream",
     "text": [
      "False\n",
      "True\n"
     ]
    }
   ],
   "source": [
    "#Using is keyword to check whether two ojects are the same\n",
    "a = 1; b = 2; c = 1\n",
    "\n",
    "print(a is b)\n",
    "print(a is c)"
   ]
  },
  {
   "cell_type": "code",
   "execution_count": 110,
   "metadata": {},
   "outputs": [
    {
     "ename": "TypeError",
     "evalue": "'tuple' object does not support item assignment",
     "output_type": "error",
     "traceback": [
      "\u001b[0;31m---------------------------------------------------------------------------\u001b[0m",
      "\u001b[0;31mTypeError\u001b[0m                                 Traceback (most recent call last)",
      "\u001b[0;32m<ipython-input-110-abd6ef9d86ca>\u001b[0m in \u001b[0;36m<module>\u001b[0;34m()\u001b[0m\n\u001b[1;32m      7\u001b[0m \u001b[0;31m# This generates error\u001b[0m\u001b[0;34m\u001b[0m\u001b[0;34m\u001b[0m\u001b[0m\n\u001b[1;32m      8\u001b[0m \u001b[0;34m\u001b[0m\u001b[0m\n\u001b[0;32m----> 9\u001b[0;31m \u001b[0ma_tuple\u001b[0m\u001b[0;34m[\u001b[0m\u001b[0;36m0\u001b[0m\u001b[0;34m]\u001b[0m \u001b[0;34m=\u001b[0m \u001b[0;36m6\u001b[0m\u001b[0;34m\u001b[0m\u001b[0m\n\u001b[0m\u001b[1;32m     10\u001b[0m \u001b[0;34m\u001b[0m\u001b[0m\n\u001b[1;32m     11\u001b[0m \u001b[0;34m\u001b[0m\u001b[0m\n",
      "\u001b[0;31mTypeError\u001b[0m: 'tuple' object does not support item assignment"
     ]
    }
   ],
   "source": [
    "# Object mutablity\n",
    "\n",
    "a_list = [2, 'foo', [3,4]]  #mutable\n",
    "\n",
    "a_tuple = (4,5) #immutable\n",
    "\n",
    "# This generates error beause tuples are immutable, \n",
    "\n",
    "a_tuple[0] = 6\n",
    "\n",
    "\n",
    "\n"
   ]
  },
  {
   "cell_type": "code",
   "execution_count": 111,
   "metadata": {},
   "outputs": [
    {
     "data": {
      "text/plain": [
       "'\\n\\nThis is a very long\\nstring\\nspanning\\nmultiple \\nlines\\n\\n'"
      ]
     },
     "execution_count": 111,
     "metadata": {},
     "output_type": "execute_result"
    }
   ],
   "source": [
    "a = '''\n",
    "\n",
    "This is a very long\n",
    "string\n",
    "spanning\n",
    "multiple \n",
    "lines\n",
    "\n",
    "'''\n"
   ]
  },
  {
   "cell_type": "code",
   "execution_count": 112,
   "metadata": {},
   "outputs": [
    {
     "data": {
      "text/plain": [
       "'this is a party!!'"
      ]
     },
     "execution_count": 112,
     "metadata": {},
     "output_type": "execute_result"
    }
   ],
   "source": [
    "a = 'this is a string'\n",
    "\n",
    "b = a.replace('string', 'party!!')\n",
    "\n",
    "b"
   ]
  },
  {
   "cell_type": "code",
   "execution_count": 120,
   "metadata": {},
   "outputs": [
    {
     "data": {
      "text/plain": [
       "'149.2 is some number'"
      ]
     },
     "execution_count": 120,
     "metadata": {},
     "output_type": "execute_result"
    }
   ],
   "source": [
    "a = 149.2\n",
    "a = str(a)\n",
    "b = \"is some number\"\n",
    "\n",
    "a + \" \" + b"
   ]
  },
  {
   "cell_type": "code",
   "execution_count": 117,
   "metadata": {},
   "outputs": [
    {
     "data": {
      "text/plain": [
       "['m', 'a', 'g', 'i', 'c', ' ', 's', 'e', 'a', 'w', 'e', 'e', 'd']"
      ]
     },
     "execution_count": 117,
     "metadata": {},
     "output_type": "execute_result"
    }
   ],
   "source": [
    "s = 'magic seaweed'\n",
    "list(s)"
   ]
  },
  {
   "cell_type": "code",
   "execution_count": 118,
   "metadata": {},
   "outputs": [
    {
     "data": {
      "text/plain": [
       "'seaweed'"
      ]
     },
     "execution_count": 118,
     "metadata": {},
     "output_type": "execute_result"
    }
   ],
   "source": [
    "s[6:]"
   ]
  },
  {
   "cell_type": "code",
   "execution_count": 122,
   "metadata": {},
   "outputs": [
    {
     "data": {
      "text/plain": [
       "float"
      ]
     },
     "execution_count": 122,
     "metadata": {},
     "output_type": "execute_result"
    }
   ],
   "source": [
    "#  A little type casting\n",
    "s = 3.14159\n",
    "\n",
    "a = float(s)\n",
    "type(a)\n"
   ]
  },
  {
   "cell_type": "code",
   "execution_count": 123,
   "metadata": {},
   "outputs": [
    {
     "data": {
      "text/plain": [
       "3"
      ]
     },
     "execution_count": 123,
     "metadata": {},
     "output_type": "execute_result"
    }
   ],
   "source": [
    "a = int(s)\n",
    "a"
   ]
  },
  {
   "cell_type": "code",
   "execution_count": 124,
   "metadata": {},
   "outputs": [
    {
     "data": {
      "text/plain": [
       "int"
      ]
     },
     "execution_count": 124,
     "metadata": {},
     "output_type": "execute_result"
    }
   ],
   "source": [
    "type(a)"
   ]
  },
  {
   "cell_type": "code",
   "execution_count": 125,
   "metadata": {},
   "outputs": [
    {
     "data": {
      "text/plain": [
       "True"
      ]
     },
     "execution_count": 125,
     "metadata": {},
     "output_type": "execute_result"
    }
   ],
   "source": [
    "a = bool(s)\n",
    "a"
   ]
  },
  {
   "cell_type": "code",
   "execution_count": 126,
   "metadata": {},
   "outputs": [
    {
     "data": {
      "text/plain": [
       "False"
      ]
     },
     "execution_count": 126,
     "metadata": {},
     "output_type": "execute_result"
    }
   ],
   "source": [
    "a = bool(0)\n",
    "a"
   ]
  },
  {
   "cell_type": "code",
   "execution_count": 131,
   "metadata": {},
   "outputs": [
    {
     "data": {
      "text/plain": [
       "NoneType"
      ]
     },
     "execution_count": 131,
     "metadata": {},
     "output_type": "execute_result"
    }
   ],
   "source": [
    "# How to set an object to null type\n",
    "a = None\n",
    "type(a)"
   ]
  },
  {
   "cell_type": "code",
   "execution_count": 134,
   "metadata": {},
   "outputs": [
    {
     "data": {
      "text/plain": [
       "30"
      ]
     },
     "execution_count": 134,
     "metadata": {},
     "output_type": "execute_result"
    }
   ],
   "source": [
    "# Datetime refresher\n",
    "\n",
    "from datetime import datetime, date, time\n",
    "\n",
    "dt = datetime(2018, 3, 20, 10, 30, 12)\n",
    "\n",
    "dt.minute"
   ]
  },
  {
   "cell_type": "code",
   "execution_count": 136,
   "metadata": {},
   "outputs": [
    {
     "data": {
      "text/plain": [
       "12"
      ]
     },
     "execution_count": 136,
     "metadata": {},
     "output_type": "execute_result"
    }
   ],
   "source": [
    "dt.second\n"
   ]
  },
  {
   "cell_type": "code",
   "execution_count": 140,
   "metadata": {},
   "outputs": [
    {
     "data": {
      "text/plain": [
       "'03/20/18 10:30:12'"
      ]
     },
     "execution_count": 140,
     "metadata": {},
     "output_type": "execute_result"
    }
   ],
   "source": [
    "dt.strftime('%m/%d/%y %H:%M:%S')\n"
   ]
  },
  {
   "cell_type": "code",
   "execution_count": 142,
   "metadata": {},
   "outputs": [
    {
     "data": {
      "text/plain": [
       "datetime.datetime(2018, 3, 20, 10, 0)"
      ]
     },
     "execution_count": 142,
     "metadata": {},
     "output_type": "execute_result"
    }
   ],
   "source": [
    "dt.replace(minute=0, second=0)\n"
   ]
  },
  {
   "cell_type": "code",
   "execution_count": 145,
   "metadata": {},
   "outputs": [
    {
     "data": {
      "text/plain": [
       "12"
      ]
     },
     "execution_count": 145,
     "metadata": {},
     "output_type": "execute_result"
    }
   ],
   "source": [
    "dt.second"
   ]
  },
  {
   "cell_type": "code",
   "execution_count": 146,
   "metadata": {},
   "outputs": [
    {
     "data": {
      "text/plain": [
       "datetime.datetime(2018, 3, 20, 10, 30, 12)"
      ]
     },
     "execution_count": 146,
     "metadata": {},
     "output_type": "execute_result"
    }
   ],
   "source": [
    "dt"
   ]
  },
  {
   "cell_type": "code",
   "execution_count": 161,
   "metadata": {},
   "outputs": [
    {
     "name": "stdout",
     "output_type": "stream",
     "text": [
      "negative value\n"
     ]
    }
   ],
   "source": [
    "# Flow control\n",
    "\n",
    "import numpy as np\n",
    "\n",
    "x = np.random.randn()\n",
    "\n",
    "if x < 0:\n",
    "    print(\"negative value\")\n",
    "elif x == 0:\n",
    "    print(\"zero value\")\n",
    "else:\n",
    "    print(\"positive value\")\n"
   ]
  },
  {
   "cell_type": "code",
   "execution_count": 166,
   "metadata": {},
   "outputs": [
    {
     "data": {
      "text/plain": [
       "7"
      ]
     },
     "execution_count": 166,
     "metadata": {},
     "output_type": "execute_result"
    }
   ],
   "source": [
    "#Create a list with several null values\n",
    "seqence = [1,2, None, 4, None, 5]\n",
    "total = 0\n",
    "\n",
    "#Create a loop that only sums non-null values and breaks loop if value = 5\n",
    "for value in seqence:\n",
    "    if value is None:\n",
    "        continue\n",
    "    elif value == 5:\n",
    "        break\n",
    "    total += value\n",
    "    \n",
    "total\n",
    "\n",
    "\n",
    "\n",
    "    \n",
    "    "
   ]
  },
  {
   "cell_type": "code",
   "execution_count": 179,
   "metadata": {},
   "outputs": [
    {
     "name": "stdout",
     "output_type": "stream",
     "text": [
      "-9.898113664722475\n",
      "-7.879241585545014\n",
      "-12.171850187717457\n",
      "-0.6603435789164316\n",
      "-25.00135240175764\n",
      "-2.8507521559359033\n"
     ]
    },
    {
     "data": {
      "text/plain": [
       "-58.46165357459492"
      ]
     },
     "execution_count": 179,
     "metadata": {},
     "output_type": "execute_result"
    }
   ],
   "source": [
    "import numpy as np\n",
    "\n",
    "N = 10  # Set array length\n",
    "sequence = np.random.randn(N)*10  # Generate random floats\n",
    "total = 0\n",
    "\n",
    "for i in sequence:\n",
    "    if i < 0:\n",
    "        print(i)\n",
    "        total += i\n",
    "\n",
    "total        \n",
    "\n",
    "        \n"
   ]
  },
  {
   "cell_type": "code",
   "execution_count": 175,
   "metadata": {},
   "outputs": [
    {
     "data": {
      "text/plain": [
       "10"
      ]
     },
     "execution_count": 175,
     "metadata": {},
     "output_type": "execute_result"
    }
   ],
   "source": [
    "sequence.size"
   ]
  },
  {
   "cell_type": "code",
   "execution_count": 210,
   "metadata": {},
   "outputs": [
    {
     "name": "stdout",
     "output_type": "stream",
     "text": [
      "(-1, 0.04862155312500971)\n",
      "(-1, 0.029896206415828463)\n",
      "(-1, 0.2459027840888489)\n",
      "(0, 0.7558109225795131)\n",
      "(0, 0.9211140101214428)\n",
      "(0, 0.790928030916989)\n",
      "(1, 0.5510428656054822)\n",
      "(1, 0.206977581185393)\n",
      "(1, 0.061559410364199874)\n",
      "(2, 0.7466392868962156)\n",
      "(2, 0.31722371454465537)\n",
      "(2, 0.16233351333697132)\n",
      "(3, 0.5819461751560554)\n",
      "(3, 0.030672577926663558)\n",
      "(3, 0.5000558588661795)\n",
      "(4, 0.30270403314201466)\n",
      "(4, 0.09331611862257405)\n",
      "(4, 0.5912037600594318)\n"
     ]
    }
   ],
   "source": [
    "# For loop using range\n",
    "\n",
    "import numpy as np\n",
    "\n",
    "for i in range(-1,5):\n",
    "    for j in range(-1, 5):\n",
    "        if (j%2) == 0:\n",
    "            q = np.random.rand()\n",
    "            print((i,q))\n",
    "        "
   ]
  },
  {
   "cell_type": "code",
   "execution_count": 217,
   "metadata": {},
   "outputs": [
    {
     "name": "stdout",
     "output_type": "stream",
     "text": [
      "1\n",
      "2\n",
      "3\n",
      "4\n"
     ]
    }
   ],
   "source": [
    "sequence = [1,2,3,4]\n",
    "for i in range(len(sequence)):\n",
    "    val = sequence[i]\n",
    "    print (val)    \n",
    "    "
   ]
  },
  {
   "cell_type": "code",
   "execution_count": 229,
   "metadata": {},
   "outputs": [
    {
     "data": {
      "text/plain": [
       "'meh'"
      ]
     },
     "execution_count": 229,
     "metadata": {},
     "output_type": "execute_result"
    }
   ],
   "source": [
    "# Ternary expressions\n",
    "\n",
    "import numpy as np\n",
    "\n",
    "x = np.random.randn()\n",
    "\n",
    "\"wow!\" if x >= 0 else \"meh\""
   ]
  },
  {
   "cell_type": "markdown",
   "metadata": {},
   "source": [
    "## Python data structures refresher"
   ]
  },
  {
   "cell_type": "markdown",
   "metadata": {},
   "source": [
    "###  Tuples"
   ]
  },
  {
   "cell_type": "code",
   "execution_count": 230,
   "metadata": {},
   "outputs": [
    {
     "data": {
      "text/plain": [
       "(4, 5, 6)"
      ]
     },
     "execution_count": 230,
     "metadata": {},
     "output_type": "execute_result"
    }
   ],
   "source": [
    "# Tuples\n",
    "\n",
    "# A way to think about tuples - imagine querying a database, the results are a list but the rows have a structure that includes different types of stuff in an order.  \n",
    "# the order and type of the fields matters. \n",
    "\n",
    "tup = 4, 5, 6\n",
    "\n",
    "tup"
   ]
  },
  {
   "cell_type": "code",
   "execution_count": 231,
   "metadata": {},
   "outputs": [],
   "source": [
    "nested_tup = (4,5,6), (1,2)"
   ]
  },
  {
   "cell_type": "code",
   "execution_count": 243,
   "metadata": {},
   "outputs": [
    {
     "data": {
      "text/plain": [
       "('engine bell', True, 'merlin', 149, 'Hawthorne', 'CA')"
      ]
     },
     "execution_count": 243,
     "metadata": {},
     "output_type": "execute_result"
    }
   ],
   "source": [
    "## Convert to tuple\n",
    "\n",
    "my_list = ['engine bell', True, 'merlin', 149, 'Hawthorne', 'CA']\n",
    "\n",
    "my_tup = tuple(my_list)\n",
    "\n",
    "my_tup\n"
   ]
  },
  {
   "cell_type": "code",
   "execution_count": 238,
   "metadata": {
    "scrolled": true
   },
   "outputs": [
    {
     "data": {
      "text/plain": [
       "('r',\n",
       " 'e',\n",
       " '-',\n",
       " 'e',\n",
       " 'n',\n",
       " 't',\n",
       " 'r',\n",
       " 'y',\n",
       " ' ',\n",
       " 'c',\n",
       " 'a',\n",
       " 'p',\n",
       " 's',\n",
       " 'u',\n",
       " 'l',\n",
       " 'e')"
      ]
     },
     "execution_count": 238,
     "metadata": {},
     "output_type": "execute_result"
    }
   ],
   "source": [
    "tup = tuple('re-entry capsule')\n",
    "tup"
   ]
  },
  {
   "cell_type": "code",
   "execution_count": 244,
   "metadata": {},
   "outputs": [
    {
     "data": {
      "text/plain": [
       "'e'"
      ]
     },
     "execution_count": 244,
     "metadata": {},
     "output_type": "execute_result"
    }
   ],
   "source": [
    "tup[3]"
   ]
  },
  {
   "cell_type": "code",
   "execution_count": 235,
   "metadata": {},
   "outputs": [
    {
     "data": {
      "text/plain": [
       "[1, 2]"
      ]
     },
     "execution_count": 235,
     "metadata": {},
     "output_type": "execute_result"
    }
   ],
   "source": [
    "# Convert to list from tuple?\n",
    "\n",
    "my_tup = (1,2)\n",
    "\n",
    "my_list = list(my_tup)\n",
    "\n",
    "my_list"
   ]
  },
  {
   "cell_type": "code",
   "execution_count": 248,
   "metadata": {},
   "outputs": [
    {
     "ename": "TypeError",
     "evalue": "'tuple' object does not support item assignment",
     "output_type": "error",
     "traceback": [
      "\u001b[0;31m---------------------------------------------------------------------------\u001b[0m",
      "\u001b[0;31mTypeError\u001b[0m                                 Traceback (most recent call last)",
      "\u001b[0;32m<ipython-input-248-4355633587ca>\u001b[0m in \u001b[0;36m<module>\u001b[0;34m()\u001b[0m\n\u001b[1;32m      3\u001b[0m \u001b[0mmy_tup\u001b[0m \u001b[0;34m=\u001b[0m \u001b[0;34m(\u001b[0m\u001b[0;34m'Titan'\u001b[0m\u001b[0;34m,\u001b[0m \u001b[0;34m'Enceladus'\u001b[0m\u001b[0;34m,\u001b[0m \u001b[0;34m'Mimas'\u001b[0m\u001b[0;34m,\u001b[0m \u001b[0;34m'Dione'\u001b[0m\u001b[0;34m)\u001b[0m\u001b[0;34m\u001b[0m\u001b[0m\n\u001b[1;32m      4\u001b[0m \u001b[0;34m\u001b[0m\u001b[0m\n\u001b[0;32m----> 5\u001b[0;31m \u001b[0mmy_tup\u001b[0m\u001b[0;34m[\u001b[0m\u001b[0;36m0\u001b[0m\u001b[0;34m]\u001b[0m \u001b[0;34m=\u001b[0m \u001b[0;34m'Phoebe'\u001b[0m\u001b[0;34m\u001b[0m\u001b[0m\n\u001b[0m\u001b[1;32m      6\u001b[0m \u001b[0;34m\u001b[0m\u001b[0m\n\u001b[1;32m      7\u001b[0m \u001b[0mmy_tup\u001b[0m\u001b[0;34m\u001b[0m\u001b[0m\n",
      "\u001b[0;31mTypeError\u001b[0m: 'tuple' object does not support item assignment"
     ]
    }
   ],
   "source": [
    "# Immutability of tuples\n",
    "\n",
    "my_tup = ('Titan', 'Enceladus', 'Mimas', 'Dione', 'Rhea', 'Pandora')\n",
    "\n",
    "my_tup[0] = 'Phoebe' # This will produce an error\n",
    "\n",
    "my_tup\n",
    "\n",
    "\n"
   ]
  },
  {
   "cell_type": "code",
   "execution_count": 251,
   "metadata": {},
   "outputs": [
    {
     "data": {
      "text/plain": [
       "(1, [1, 2, 9], False, 'gamma')"
      ]
     },
     "execution_count": 251,
     "metadata": {},
     "output_type": "execute_result"
    }
   ],
   "source": [
    "# Object is tuples are mutable\n",
    "\n",
    "my_tup = (1, [1,2], False, 'gamma')\n",
    "\n",
    "my_tup[1].append(9) # append 9 to list inside of tuple\n",
    "\n",
    "my_tup\n"
   ]
  },
  {
   "cell_type": "code",
   "execution_count": 253,
   "metadata": {},
   "outputs": [
    {
     "data": {
      "text/plain": [
       "(1, 3, 4, 5)"
      ]
     },
     "execution_count": 253,
     "metadata": {},
     "output_type": "execute_result"
    }
   ],
   "source": [
    "# Concantenation is valid\n",
    "\n",
    "my_tup1 = (1,3)\n",
    "\n",
    "my_tup2 = (4,5)\n",
    "\n",
    "my_tup3 = my_tup1 + my_tup2\n"
   ]
  },
  {
   "cell_type": "code",
   "execution_count": 257,
   "metadata": {},
   "outputs": [
    {
     "data": {
      "text/plain": [
       "(1, 3, 4, 5, 1, 3, 4, 5)"
      ]
     },
     "execution_count": 257,
     "metadata": {},
     "output_type": "execute_result"
    }
   ],
   "source": [
    "#  This is valid.  It does not create copies by update the refrences to the object in the tuple\n",
    "\n",
    "my_tup3 += my_tup3\n",
    "\n",
    "my_tup3"
   ]
  },
  {
   "cell_type": "code",
   "execution_count": 258,
   "metadata": {},
   "outputs": [
    {
     "data": {
      "text/plain": [
       "'engine bell'"
      ]
     },
     "execution_count": 258,
     "metadata": {},
     "output_type": "execute_result"
    }
   ],
   "source": [
    "# Unpacking a tuple\n",
    "\n",
    "my_tup = ('engine bell', True, 'merlin', 282, 'Hawthorne', 'CA')\n",
    "\n",
    "part, in_stock, engine_family, isp, city, state = my_tup\n",
    "\n",
    "part"
   ]
  },
  {
   "cell_type": "code",
   "execution_count": 260,
   "metadata": {},
   "outputs": [
    {
     "data": {
      "text/plain": [
       "1"
      ]
     },
     "execution_count": 260,
     "metadata": {},
     "output_type": "execute_result"
    }
   ],
   "source": [
    "# nested tuples\n",
    "\n",
    "my_tup = True, False, (1,2)\n",
    "\n",
    "a, b, c = my_tup\n",
    "\n",
    "print(c)  # Unpack nested tuple\n",
    "\n",
    "d,f = c  # Unpack value in the nested tuple...how cool is that!\n",
    "\n",
    "d\n"
   ]
  },
  {
   "cell_type": "code",
   "execution_count": 267,
   "metadata": {},
   "outputs": [
    {
     "name": "stdout",
     "output_type": "stream",
     "text": [
      "a = 1, b= 2\n",
      "<class 'int'> <class 'int'>\n",
      "a = 2, b= 3\n",
      "<class 'int'> <class 'int'>\n",
      "a = 3, b= 4\n",
      "<class 'int'> <class 'int'>\n"
     ]
    }
   ],
   "source": [
    "# Iterating over sequences of tuples\n",
    "\n",
    "sequence = [ (1,2), (2,3), (3,4)]\n",
    "\n",
    "for a, b in sequence:\n",
    "    print ('a = {0}, b= {1}'.format(a,b))\n",
    "   \n"
   ]
  },
  {
   "cell_type": "code",
   "execution_count": 272,
   "metadata": {},
   "outputs": [
    {
     "data": {
      "text/plain": [
       "(1, 2)"
      ]
     },
     "execution_count": 272,
     "metadata": {},
     "output_type": "execute_result"
    }
   ],
   "source": [
    "#  how to pluck a long list of value from a tuple\n",
    "\n",
    "values = 1, 2, 3, 4, 5, 6, 7, 8, 9, 10\n",
    "\n",
    "a, b, *rest = values\n",
    "a, b\n"
   ]
  },
  {
   "cell_type": "code",
   "execution_count": 273,
   "metadata": {},
   "outputs": [
    {
     "data": {
      "text/plain": [
       "[3, 4, 5, 6, 7, 8, 9, 10]"
      ]
     },
     "execution_count": 273,
     "metadata": {},
     "output_type": "execute_result"
    }
   ],
   "source": [
    "#  the value are pluck out at as list\n",
    "rest"
   ]
  },
  {
   "cell_type": "code",
   "execution_count": 274,
   "metadata": {},
   "outputs": [],
   "source": [
    "rest?  # See, it's a list"
   ]
  },
  {
   "cell_type": "code",
   "execution_count": 275,
   "metadata": {},
   "outputs": [
    {
     "data": {
      "text/plain": [
       "(3, 4, 5, 6, 7, 8, 9, 10)"
      ]
     },
     "execution_count": 275,
     "metadata": {},
     "output_type": "execute_result"
    }
   ],
   "source": [
    "my_tup = tuple(rest)\n",
    "\n",
    "my_tup"
   ]
  },
  {
   "cell_type": "code",
   "execution_count": 276,
   "metadata": {},
   "outputs": [],
   "source": [
    "#  *  You don't have to use the word rest.  Many devs use *_.  \n",
    "#  a, b, *_ = values"
   ]
  },
  {
   "cell_type": "code",
   "execution_count": 278,
   "metadata": {},
   "outputs": [
    {
     "data": {
      "text/plain": [
       "1"
      ]
     },
     "execution_count": 278,
     "metadata": {},
     "output_type": "execute_result"
    }
   ],
   "source": [
    "my_tup.count(4)  # Count the number of instances of a value in a tuple"
   ]
  },
  {
   "cell_type": "markdown",
   "metadata": {},
   "source": [
    "### Lists"
   ]
  },
  {
   "cell_type": "code",
   "execution_count": 280,
   "metadata": {},
   "outputs": [
    {
     "data": {
      "text/plain": [
       "range(0, 10)"
      ]
     },
     "execution_count": 280,
     "metadata": {},
     "output_type": "execute_result"
    }
   ],
   "source": [
    "gen = range(10)\n",
    "\n",
    "gen"
   ]
  },
  {
   "cell_type": "code",
   "execution_count": 281,
   "metadata": {},
   "outputs": [],
   "source": [
    "my_list = list(range(10))"
   ]
  },
  {
   "cell_type": "code",
   "execution_count": 282,
   "metadata": {},
   "outputs": [
    {
     "data": {
      "text/plain": [
       "[0, 1, 2, 3, 4, 5, 6, 7, 8, 9]"
      ]
     },
     "execution_count": 282,
     "metadata": {},
     "output_type": "execute_result"
    }
   ],
   "source": [
    "my_list"
   ]
  },
  {
   "cell_type": "code",
   "execution_count": 283,
   "metadata": {},
   "outputs": [
    {
     "data": {
      "text/plain": [
       "range(0, 10)"
      ]
     },
     "execution_count": 283,
     "metadata": {},
     "output_type": "execute_result"
    }
   ],
   "source": [
    "gen"
   ]
  },
  {
   "cell_type": "code",
   "execution_count": 284,
   "metadata": {},
   "outputs": [],
   "source": [
    "gen?  # It's a range object"
   ]
  },
  {
   "cell_type": "code",
   "execution_count": 285,
   "metadata": {},
   "outputs": [
    {
     "name": "stdout",
     "output_type": "stream",
     "text": [
      "0\n",
      "1\n",
      "2\n",
      "3\n",
      "4\n",
      "5\n",
      "6\n",
      "7\n",
      "8\n",
      "9\n"
     ]
    }
   ],
   "source": [
    "for i in gen:\n",
    "    print(i)"
   ]
  },
  {
   "cell_type": "code",
   "execution_count": 286,
   "metadata": {},
   "outputs": [
    {
     "data": {
      "text/plain": [
       "[0, True, 1, 2, 3, 4, 5, 6, 7, 8, 9]"
      ]
     },
     "execution_count": 286,
     "metadata": {},
     "output_type": "execute_result"
    }
   ],
   "source": [
    "my_list.insert(1,True)\n",
    "\n",
    "my_list"
   ]
  },
  {
   "cell_type": "code",
   "execution_count": 287,
   "metadata": {},
   "outputs": [],
   "source": [
    "my_list.append(False)"
   ]
  },
  {
   "cell_type": "code",
   "execution_count": 288,
   "metadata": {},
   "outputs": [
    {
     "data": {
      "text/plain": [
       "[0, True, 1, 2, 3, 4, 5, 6, 7, 8, 9, False]"
      ]
     },
     "execution_count": 288,
     "metadata": {},
     "output_type": "execute_result"
    }
   ],
   "source": [
    "my_list"
   ]
  },
  {
   "cell_type": "code",
   "execution_count": 289,
   "metadata": {},
   "outputs": [
    {
     "data": {
      "text/plain": [
       "[0, True, 1, 3, 4, 5, 6, 7, 8, 9, False]"
      ]
     },
     "execution_count": 289,
     "metadata": {},
     "output_type": "execute_result"
    }
   ],
   "source": [
    "my_list.pop(3)\n",
    "my_list"
   ]
  },
  {
   "cell_type": "code",
   "execution_count": 290,
   "metadata": {},
   "outputs": [
    {
     "data": {
      "text/plain": [
       "True"
      ]
     },
     "execution_count": 290,
     "metadata": {},
     "output_type": "execute_result"
    }
   ],
   "source": [
    "1 in my_list  # Is the value 1 in the list"
   ]
  },
  {
   "cell_type": "code",
   "execution_count": 291,
   "metadata": {},
   "outputs": [
    {
     "data": {
      "text/plain": [
       "[1, 2, 'soyuz', 3, 4, 'apollo']"
      ]
     },
     "execution_count": 291,
     "metadata": {},
     "output_type": "execute_result"
    }
   ],
   "source": [
    "[1,2,'soyuz'] + [3,4, 'apollo']  # Computationally expensive\n",
    "\n",
    "\n"
   ]
  },
  {
   "cell_type": "code",
   "execution_count": 292,
   "metadata": {},
   "outputs": [
    {
     "data": {
      "text/plain": [
       "[1, 2, 'soyuz', 3, 4, 'apollo', 5, 6, 'astp']"
      ]
     },
     "execution_count": 292,
     "metadata": {},
     "output_type": "execute_result"
    }
   ],
   "source": [
    "# To add mutiple items, do this\n",
    "\n",
    "my_list = [1, 2, 'soyuz', 3, 4, 'apollo']\n",
    "my_list.extend([5, 6, 'astp'])\n",
    "my_list"
   ]
  },
  {
   "cell_type": "code",
   "execution_count": 295,
   "metadata": {},
   "outputs": [
    {
     "data": {
      "text/plain": [
       "[-1.1612943544483263, 0.02659244724346801, 0.07936868708093214]"
      ]
     },
     "execution_count": 295,
     "metadata": {},
     "output_type": "execute_result"
    }
   ],
   "source": [
    "# Sorting lists\n",
    "import numpy as np\n",
    "\n",
    "my_list = list(np.random.randn(3))\n",
    "my_list.sort()\n",
    "\n",
    "my_list"
   ]
  },
  {
   "cell_type": "code",
   "execution_count": 296,
   "metadata": {},
   "outputs": [
    {
     "data": {
      "text/plain": [
       "4"
      ]
     },
     "execution_count": 296,
     "metadata": {},
     "output_type": "execute_result"
    }
   ],
   "source": [
    "#  Built in function to check where insert an element to keep list sorted\n",
    "import bisect\n",
    "\n",
    "c = [1, 2, 2, 2, 3, 4, 7]\n",
    "\n",
    "bisect.bisect(c,2)"
   ]
  },
  {
   "cell_type": "code",
   "execution_count": 297,
   "metadata": {},
   "outputs": [
    {
     "data": {
      "text/plain": [
       "[1, 2, 2, 2, 3, 4, 7]"
      ]
     },
     "execution_count": 297,
     "metadata": {},
     "output_type": "execute_result"
    }
   ],
   "source": [
    "c"
   ]
  },
  {
   "cell_type": "code",
   "execution_count": 298,
   "metadata": {},
   "outputs": [
    {
     "data": {
      "text/plain": [
       "7"
      ]
     },
     "execution_count": 298,
     "metadata": {},
     "output_type": "execute_result"
    }
   ],
   "source": [
    "bisect.bisect(c,8)"
   ]
  },
  {
   "cell_type": "code",
   "execution_count": 302,
   "metadata": {},
   "outputs": [],
   "source": [
    "b = bisect.bisect(c,8)\n",
    "bisect.insort(c,b)  # Insert element at specified location"
   ]
  },
  {
   "cell_type": "code",
   "execution_count": 300,
   "metadata": {},
   "outputs": [
    {
     "data": {
      "text/plain": [
       "[1, 2, 2, 2, 3, 4, 7, 7]"
      ]
     },
     "execution_count": 300,
     "metadata": {},
     "output_type": "execute_result"
    }
   ],
   "source": [
    "c\n"
   ]
  },
  {
   "cell_type": "code",
   "execution_count": 303,
   "metadata": {},
   "outputs": [
    {
     "data": {
      "text/plain": [
       "[1, 2, 2, 2]"
      ]
     },
     "execution_count": 303,
     "metadata": {},
     "output_type": "execute_result"
    }
   ],
   "source": [
    "# Slicing\n",
    "\n",
    "c[:4]  # first four elements"
   ]
  },
  {
   "cell_type": "code",
   "execution_count": 304,
   "metadata": {},
   "outputs": [
    {
     "data": {
      "text/plain": [
       "[2, 3, 4, 7, 7, 8, 9]"
      ]
     },
     "execution_count": 304,
     "metadata": {},
     "output_type": "execute_result"
    }
   ],
   "source": [
    "c[3:]  # Last three elements"
   ]
  },
  {
   "cell_type": "code",
   "execution_count": 305,
   "metadata": {},
   "outputs": [
    {
     "data": {
      "text/plain": [
       "[1, 2, 2, 2, 3, 4, 7, 7, 8, 9]"
      ]
     },
     "execution_count": 305,
     "metadata": {},
     "output_type": "execute_result"
    }
   ],
   "source": [
    "c[0:]"
   ]
  },
  {
   "cell_type": "code",
   "execution_count": 306,
   "metadata": {},
   "outputs": [
    {
     "data": {
      "text/plain": [
       "[2, 2]"
      ]
     },
     "execution_count": 306,
     "metadata": {},
     "output_type": "execute_result"
    }
   ],
   "source": [
    "c[1:3]"
   ]
  },
  {
   "cell_type": "code",
   "execution_count": 307,
   "metadata": {},
   "outputs": [
    {
     "data": {
      "text/plain": [
       "[9]"
      ]
     },
     "execution_count": 307,
     "metadata": {},
     "output_type": "execute_result"
    }
   ],
   "source": [
    "c[-1:]  # Slice relative to the end by using a negative index"
   ]
  },
  {
   "cell_type": "code",
   "execution_count": 308,
   "metadata": {},
   "outputs": [
    {
     "data": {
      "text/plain": [
       "[0, 2, 4]"
      ]
     },
     "execution_count": 308,
     "metadata": {},
     "output_type": "execute_result"
    }
   ],
   "source": [
    "# Slice with a step increment of every 2\n",
    "\n",
    "a = list(range(5))\n",
    "a[:: 2]  # Whole list but skip by 2\n"
   ]
  },
  {
   "cell_type": "markdown",
   "metadata": {},
   "source": [
    "Handy visual reference\n",
    "\n",
    "<img src=\"https://cdn-images-1.medium.com/max/1555/1*HqdR129XR8-1ojtTYLou7g.png\"></img>"
   ]
  },
  {
   "cell_type": "code",
   "execution_count": 316,
   "metadata": {},
   "outputs": [
    {
     "data": {
      "text/plain": [
       "{'Armstrong': 0, 'Aldrin': 1, 'Collins': 2}"
      ]
     },
     "execution_count": 316,
     "metadata": {},
     "output_type": "execute_result"
    }
   ],
   "source": [
    "# Enumeration - a way to create an index for items in a list. Create a dict mapping values in sequence to an index\n",
    "\n",
    "my_list = ['Armstrong', 'Aldrin', 'Collins']\n",
    "\n",
    "mapping = {}  #  Create a dict\n",
    "\n",
    "for index, value in enumerate(my_list):\n",
    "    mapping[value] = index\n",
    "    \n",
    "mapping\n",
    "\n",
    "    "
   ]
  },
  {
   "cell_type": "code",
   "execution_count": 317,
   "metadata": {},
   "outputs": [
    {
     "ename": "KeyError",
     "evalue": "0",
     "output_type": "error",
     "traceback": [
      "\u001b[0;31m---------------------------------------------------------------------------\u001b[0m",
      "\u001b[0;31mKeyError\u001b[0m                                  Traceback (most recent call last)",
      "\u001b[0;32m<ipython-input-317-8a5b0ed77f1b>\u001b[0m in \u001b[0;36m<module>\u001b[0;34m()\u001b[0m\n\u001b[0;32m----> 1\u001b[0;31m \u001b[0mmapping\u001b[0m\u001b[0;34m[\u001b[0m\u001b[0;36m0\u001b[0m\u001b[0;34m]\u001b[0m\u001b[0;34m\u001b[0m\u001b[0m\n\u001b[0m",
      "\u001b[0;31mKeyError\u001b[0m: 0"
     ]
    }
   ],
   "source": [
    "mapping[0]  # Why doesn't this work??"
   ]
  },
  {
   "cell_type": "code",
   "execution_count": 318,
   "metadata": {},
   "outputs": [
    {
     "data": {
      "text/plain": [
       "[' ',\n",
       " 'a',\n",
       " 'a',\n",
       " 'c',\n",
       " 'c',\n",
       " 'c',\n",
       " 'e',\n",
       " 'e',\n",
       " 'e',\n",
       " 'g',\n",
       " 'h',\n",
       " 'i',\n",
       " 'i',\n",
       " 'n',\n",
       " 'r',\n",
       " 'r',\n",
       " 'r',\n",
       " 's',\n",
       " 't',\n",
       " 't',\n",
       " 'y']"
      ]
     },
     "execution_count": 318,
     "metadata": {},
     "output_type": "execute_result"
    }
   ],
   "source": [
    "#  Sorted function\n",
    "\n",
    "sorted(\"characteristic energy\")"
   ]
  },
  {
   "cell_type": "code",
   "execution_count": 320,
   "metadata": {},
   "outputs": [
    {
     "data": {
      "text/plain": [
       "['boo', 'foo', 'goo']"
      ]
     },
     "execution_count": 320,
     "metadata": {},
     "output_type": "execute_result"
    }
   ],
   "source": [
    "my_list = ['foo', 'goo', 'boo']\n",
    "\n",
    "my_sorted_list = sorted(my_list)\n",
    "\n",
    "my_sorted_list"
   ]
  },
  {
   "cell_type": "code",
   "execution_count": 321,
   "metadata": {},
   "outputs": [
    {
     "data": {
      "text/plain": [
       "<list_reverseiterator at 0x119fc3240>"
      ]
     },
     "execution_count": 321,
     "metadata": {},
     "output_type": "execute_result"
    }
   ],
   "source": [
    "# Revserse \n",
    "\n",
    "reversed(my_list)"
   ]
  },
  {
   "cell_type": "code",
   "execution_count": 322,
   "metadata": {},
   "outputs": [
    {
     "data": {
      "text/plain": [
       "['boo', 'goo', 'foo']"
      ]
     },
     "execution_count": 322,
     "metadata": {},
     "output_type": "execute_result"
    }
   ],
   "source": [
    "#  It's a generate and won't materialize a reversed sequence until you use list or a for loop\n",
    "\n",
    "list(reversed(my_list))"
   ]
  },
  {
   "cell_type": "markdown",
   "metadata": {},
   "source": [
    "### Dict data structure"
   ]
  },
  {
   "cell_type": "code",
   "execution_count": 325,
   "metadata": {},
   "outputs": [
    {
     "data": {
      "text/plain": [
       "{'a': 'foo', 'b': 'goo', 2: 'hello world'}"
      ]
     },
     "execution_count": 325,
     "metadata": {},
     "output_type": "execute_result"
    }
   ],
   "source": [
    "d = {}  # Create empty dict\n",
    "\n",
    "d = {'a': 'foo', 'b': 'goo', 2: 'hello world'}\n",
    "\n",
    "d\n"
   ]
  },
  {
   "cell_type": "code",
   "execution_count": 327,
   "metadata": {},
   "outputs": [
    {
     "data": {
      "text/plain": [
       "True"
      ]
     },
     "execution_count": 327,
     "metadata": {},
     "output_type": "execute_result"
    }
   ],
   "source": [
    "'a' in d"
   ]
  },
  {
   "cell_type": "code",
   "execution_count": 331,
   "metadata": {},
   "outputs": [],
   "source": [
    "d[5] = 'orion'"
   ]
  },
  {
   "cell_type": "code",
   "execution_count": 332,
   "metadata": {},
   "outputs": [
    {
     "data": {
      "text/plain": [
       "{'a': 'foo', 'b': 'goo', 2: 'hello world', 5: 'orion'}"
      ]
     },
     "execution_count": 332,
     "metadata": {},
     "output_type": "execute_result"
    }
   ],
   "source": [
    "d"
   ]
  },
  {
   "cell_type": "code",
   "execution_count": 333,
   "metadata": {},
   "outputs": [
    {
     "name": "stdout",
     "output_type": "stream",
     "text": [
      "(0, 'a')\n",
      "(1, 'b')\n",
      "(2, 2)\n",
      "(3, 5)\n"
     ]
    }
   ],
   "source": [
    "for i in enumerate(d):\n",
    "    print(i)\n"
   ]
  },
  {
   "cell_type": "code",
   "execution_count": 334,
   "metadata": {},
   "outputs": [
    {
     "data": {
      "text/plain": [
       "'hello world'"
      ]
     },
     "execution_count": 334,
     "metadata": {},
     "output_type": "execute_result"
    }
   ],
   "source": [
    "#Pop deletes the key/value pair and return value\n",
    "\n",
    "ret = d.pop(2)\n",
    "ret"
   ]
  },
  {
   "cell_type": "code",
   "execution_count": 337,
   "metadata": {},
   "outputs": [],
   "source": [
    "ret = d.pop('b')"
   ]
  },
  {
   "cell_type": "code",
   "execution_count": 338,
   "metadata": {},
   "outputs": [
    {
     "data": {
      "text/plain": [
       "'goo'"
      ]
     },
     "execution_count": 338,
     "metadata": {},
     "output_type": "execute_result"
    }
   ],
   "source": [
    "ret"
   ]
  },
  {
   "cell_type": "code",
   "execution_count": 339,
   "metadata": {},
   "outputs": [
    {
     "data": {
      "text/plain": [
       "{'a': 'foo', 5: 'orion'}"
      ]
     },
     "execution_count": 339,
     "metadata": {},
     "output_type": "execute_result"
    }
   ],
   "source": [
    "d"
   ]
  },
  {
   "cell_type": "code",
   "execution_count": 341,
   "metadata": {},
   "outputs": [
    {
     "data": {
      "text/plain": [
       "{'a': 'foo', 5: 'orion'}"
      ]
     },
     "execution_count": 341,
     "metadata": {},
     "output_type": "execute_result"
    }
   ],
   "source": [
    "d"
   ]
  },
  {
   "cell_type": "code",
   "execution_count": 342,
   "metadata": {},
   "outputs": [],
   "source": [
    "#  Merge two dicts - add key/value pairs to d\n",
    "d.update({'x': 'almaz', 'y':'salyut', 'z' : 'mir'})"
   ]
  },
  {
   "cell_type": "code",
   "execution_count": 343,
   "metadata": {},
   "outputs": [
    {
     "data": {
      "text/plain": [
       "{'a': 'foo', 5: 'orion', 'x': 'almaz', 'y': 'salyut', 'z': 'mir'}"
      ]
     },
     "execution_count": 343,
     "metadata": {},
     "output_type": "execute_result"
    }
   ],
   "source": [
    "d"
   ]
  },
  {
   "cell_type": "code",
   "execution_count": 344,
   "metadata": {},
   "outputs": [
    {
     "data": {
      "text/plain": [
       "'orion'"
      ]
     },
     "execution_count": 344,
     "metadata": {},
     "output_type": "execute_result"
    }
   ],
   "source": [
    "# Get method get the value for the specified key\n",
    "\n",
    "d.get(5)"
   ]
  },
  {
   "cell_type": "code",
   "execution_count": 345,
   "metadata": {},
   "outputs": [
    {
     "data": {
      "text/plain": [
       "{'a': 'foo', 5: 'orion', 'x': 'almaz', 'y': 'salyut', 'z': 'mir'}"
      ]
     },
     "execution_count": 345,
     "metadata": {},
     "output_type": "execute_result"
    }
   ],
   "source": [
    "d"
   ]
  },
  {
   "cell_type": "code",
   "execution_count": 346,
   "metadata": {},
   "outputs": [
    {
     "data": {
      "text/plain": [
       "'orion'"
      ]
     },
     "execution_count": 346,
     "metadata": {},
     "output_type": "execute_result"
    }
   ],
   "source": [
    "ret = d.get(5)\n",
    "ret"
   ]
  },
  {
   "cell_type": "code",
   "execution_count": 351,
   "metadata": {},
   "outputs": [
    {
     "data": {
      "text/plain": [
       "{0: 4, 1: 3, 2: 2, 3: 1, 4: 0}"
      ]
     },
     "execution_count": 351,
     "metadata": {},
     "output_type": "execute_result"
    }
   ],
   "source": [
    "list1 = range(5)\n",
    "list2 = reversed(range(5))  # Reverse list 1\n",
    "\n",
    "mapping = {}  # Create an empty dict\n",
    "mapping = dict(zip(list1, list2 ))  # Zip groups corresponding items in both lists to create a dict\n",
    "\n",
    "mapping"
   ]
  },
  {
   "cell_type": "code",
   "execution_count": 357,
   "metadata": {},
   "outputs": [],
   "source": [
    "mapping[5] = 'blue' # Add a key value pair.  Key is 5 and value is 'blue'"
   ]
  },
  {
   "cell_type": "code",
   "execution_count": 358,
   "metadata": {},
   "outputs": [
    {
     "data": {
      "text/plain": [
       "{0: 4, 1: 3, 2: 2, 3: 1, 4: 0, 5: 'blue'}"
      ]
     },
     "execution_count": 358,
     "metadata": {},
     "output_type": "execute_result"
    }
   ],
   "source": [
    "mapping"
   ]
  },
  {
   "cell_type": "code",
   "execution_count": 361,
   "metadata": {},
   "outputs": [],
   "source": [
    "# Example\n",
    "\n",
    "words = ['apple','atom','bat', 'bar', 'book']\n",
    "\n",
    "by_letter = {}\n",
    "\n",
    "for word in words:  # Generate a list of the first letter of each item in list\n",
    "    letter = word[0]  #  Assign to the first letter of each item in the list, e.g., a for apple\n",
    "    if letter not in by_letter: #  If the letter is not a key in by_letter\n",
    "        by_letter[letter]  = [word]   # For the key letter, assign the word to it\n",
    "    else:\n",
    "        by_letter[letter].append(word)    # Append the word to its matching key where it also starts with the same letter"
   ]
  },
  {
   "cell_type": "code",
   "execution_count": 362,
   "metadata": {},
   "outputs": [
    {
     "data": {
      "text/plain": [
       "{'a': ['apple', 'atom'], 'b': ['bat', 'bar', 'book']}"
      ]
     },
     "execution_count": 362,
     "metadata": {},
     "output_type": "execute_result"
    }
   ],
   "source": [
    "by_letter\n"
   ]
  },
  {
   "cell_type": "code",
   "execution_count": 363,
   "metadata": {},
   "outputs": [
    {
     "data": {
      "text/plain": [
       "-8352111344595128485"
      ]
     },
     "execution_count": 363,
     "metadata": {},
     "output_type": "execute_result"
    }
   ],
   "source": [
    "# Hashability \n",
    "\n",
    "#  dict keys must be immutable Python object so keys, which are mutable, cannot be keys\n",
    "#  use the hash function to test whether a key is mutable\n",
    "\n",
    "# So dict keys are converted into hash values (internally) by Python\n",
    "#  Use hash function to see whether a prospective key is hashable (hence, immutable)\n",
    "\n",
    "hash('boo')\n",
    "\n"
   ]
  },
  {
   "cell_type": "code",
   "execution_count": 364,
   "metadata": {},
   "outputs": [
    {
     "data": {
      "text/plain": [
       "3713081631934410656"
      ]
     },
     "execution_count": 364,
     "metadata": {},
     "output_type": "execute_result"
    }
   ],
   "source": [
    "hash ((1,2))  # a tuple is immutable and a valid key"
   ]
  },
  {
   "cell_type": "code",
   "execution_count": 365,
   "metadata": {},
   "outputs": [
    {
     "ename": "TypeError",
     "evalue": "unhashable type: 'list'",
     "output_type": "error",
     "traceback": [
      "\u001b[0;31m---------------------------------------------------------------------------\u001b[0m",
      "\u001b[0;31mTypeError\u001b[0m                                 Traceback (most recent call last)",
      "\u001b[0;32m<ipython-input-365-9ce67481a686>\u001b[0m in \u001b[0;36m<module>\u001b[0;34m()\u001b[0m\n\u001b[0;32m----> 1\u001b[0;31m \u001b[0mhash\u001b[0m\u001b[0;34m(\u001b[0m\u001b[0;34m[\u001b[0m\u001b[0;36m1\u001b[0m\u001b[0;34m,\u001b[0m\u001b[0;36m2\u001b[0m\u001b[0;34m]\u001b[0m\u001b[0;34m)\u001b[0m\u001b[0;34m\u001b[0m\u001b[0m\n\u001b[0m",
      "\u001b[0;31mTypeError\u001b[0m: unhashable type: 'list'"
     ]
    }
   ],
   "source": [
    "hash([1,2])  # lists are mutable and cannot be hashed."
   ]
  },
  {
   "cell_type": "markdown",
   "metadata": {},
   "source": [
    "This illustrates how human readable/created keys are hashed\n",
    "\n",
    "<img src=\"https://svbtleusercontent.com/dvp2mqhvzcqyqa.jpg\">"
   ]
  },
  {
   "cell_type": "markdown",
   "metadata": {},
   "source": [
    "###  Functions\n"
   ]
  },
  {
   "cell_type": "code",
   "execution_count": 374,
   "metadata": {},
   "outputs": [
    {
     "ename": "TypeError",
     "evalue": "moo() missing 1 required positional argument: 'c'",
     "output_type": "error",
     "traceback": [
      "\u001b[0;31m---------------------------------------------------------------------------\u001b[0m",
      "\u001b[0;31mTypeError\u001b[0m                                 Traceback (most recent call last)",
      "\u001b[0;32m<ipython-input-374-656dce3ca61d>\u001b[0m in \u001b[0;36m<module>\u001b[0;34m()\u001b[0m\n\u001b[1;32m     14\u001b[0m \u001b[0;31m#  If I omit an agrument:\u001b[0m\u001b[0;34m\u001b[0m\u001b[0;34m\u001b[0m\u001b[0m\n\u001b[1;32m     15\u001b[0m \u001b[0;34m\u001b[0m\u001b[0m\n\u001b[0;32m---> 16\u001b[0;31m \u001b[0mmoo\u001b[0m\u001b[0;34m(\u001b[0m\u001b[0;36m1\u001b[0m\u001b[0;34m,\u001b[0m\u001b[0;36m2\u001b[0m\u001b[0;34m,\u001b[0m\u001b[0;34m)\u001b[0m\u001b[0;34m\u001b[0m\u001b[0m\n\u001b[0m",
      "\u001b[0;31mTypeError\u001b[0m: moo() missing 1 required positional argument: 'c'"
     ]
    }
   ],
   "source": [
    "#  Difference between keyword and positional arguments\n",
    "\n",
    "#  keyword arguments must alway follow positional arguments in the function signature\n",
    "#  keyword arguments are optional\n",
    "\n",
    "#  Example of postional arguments - a, b, c - the have an implicit order\n",
    "def moo(a, b, c):\n",
    "    result = \"{0}, {1}, {2}\".format(a,b,c)\n",
    "    return result\n",
    "\n",
    "#  So, the function sig has an order 1, 2, 3 corresponding to a, b, c\n",
    "moo (1, 2, 3)\n",
    "\n",
    "#  If I omit an agrument:\n",
    "\n",
    "moo(1,2,)"
   ]
  },
  {
   "cell_type": "code",
   "execution_count": 379,
   "metadata": {},
   "outputs": [
    {
     "data": {
      "text/plain": [
       "'1, 2, 0'"
      ]
     },
     "execution_count": 379,
     "metadata": {},
     "output_type": "execute_result"
    }
   ],
   "source": [
    "#  You see that all three are required\n",
    "\n",
    "#  Now add a key word arguments to the function for c.  It must follow the positional arguments, a and b\n",
    "\n",
    "def moo(a, b, c=0):\n",
    "    result = \"{0}, {1}, {2}\".format(a,b,c)\n",
    "    return result\n",
    "\n",
    "moo(1,2)"
   ]
  },
  {
   "cell_type": "code",
   "execution_count": 420,
   "metadata": {},
   "outputs": [
    {
     "ename": "TypeError",
     "evalue": "foo() missing 1 required positional argument: 'required'",
     "output_type": "error",
     "traceback": [
      "\u001b[0;31m---------------------------------------------------------------------------\u001b[0m",
      "\u001b[0;31mTypeError\u001b[0m                                 Traceback (most recent call last)",
      "\u001b[0;32m<ipython-input-420-fa97114cc2c4>\u001b[0m in \u001b[0;36m<module>\u001b[0;34m()\u001b[0m\n\u001b[1;32m     10\u001b[0m     \u001b[0;32mreturn\u001b[0m\u001b[0;34m\u001b[0m\u001b[0m\n\u001b[1;32m     11\u001b[0m \u001b[0;34m\u001b[0m\u001b[0m\n\u001b[0;32m---> 12\u001b[0;31m \u001b[0mfoo\u001b[0m\u001b[0;34m(\u001b[0m\u001b[0;34m)\u001b[0m\u001b[0;34m\u001b[0m\u001b[0m\n\u001b[0m\u001b[1;32m     13\u001b[0m \u001b[0;34m\u001b[0m\u001b[0m\n",
      "\u001b[0;31mTypeError\u001b[0m: foo() missing 1 required positional argument: 'required'"
     ]
    }
   ],
   "source": [
    "#  What are *args and **kwargs?\n",
    "\n",
    "def foo(required, *args, **kwargs):\n",
    "    print (required)\n",
    "    if args:  # if not null\n",
    "        print(args)     \n",
    "    if kwargs:  # if not null\n",
    "        print(kwargs)\n",
    "    return\n",
    "\n",
    "#  This will generate an error because the sig requires at least one required argument\n",
    "foo()\n",
    "        "
   ]
  },
  {
   "cell_type": "code",
   "execution_count": 381,
   "metadata": {},
   "outputs": [
    {
     "name": "stdout",
     "output_type": "stream",
     "text": [
      "1\n"
     ]
    }
   ],
   "source": [
    "foo(1)"
   ]
  },
  {
   "cell_type": "code",
   "execution_count": 389,
   "metadata": {
    "scrolled": true
   },
   "outputs": [
    {
     "name": "stdout",
     "output_type": "stream",
     "text": [
      "1\n",
      "<class 'int'>\n",
      "(3, 4, 5)\n",
      "{'c': 9}\n"
     ]
    }
   ],
   "source": [
    "foo(1,3,4,5,c=9)"
   ]
  },
  {
   "cell_type": "code",
   "execution_count": 390,
   "metadata": {},
   "outputs": [],
   "source": [
    "#  Notice that the positional arguments are tuples and the keyword arguments is a dict\n",
    "#  Also notice that the first argument is the required argument\n"
   ]
  },
  {
   "cell_type": "code",
   "execution_count": 398,
   "metadata": {},
   "outputs": [
    {
     "data": {
      "text/plain": [
       "3"
      ]
     },
     "execution_count": 398,
     "metadata": {},
     "output_type": "execute_result"
    }
   ],
   "source": [
    "#  Returning multiple values\n",
    "\n",
    "def f():\n",
    "    a = 1\n",
    "    b = 2\n",
    "    c = 3\n",
    "    return a, b, c\n",
    "\n",
    "e, f, g = f()\n",
    "\n",
    "#  These values are unpacked from the tuple returned by the function.  They're ints.\n",
    "e, f, g\n",
    "\n"
   ]
  },
  {
   "cell_type": "code",
   "execution_count": 397,
   "metadata": {},
   "outputs": [
    {
     "data": {
      "text/plain": [
       "(1, 2, 3)"
      ]
     },
     "execution_count": 397,
     "metadata": {},
     "output_type": "execute_result"
    }
   ],
   "source": [
    "def f():\n",
    "    a = 1\n",
    "    b = 2\n",
    "    c = 3\n",
    "    return a, b, c\n",
    "\n",
    "return_value = f()\n",
    "\n",
    "#  In this case, return_value is a tuple\n",
    "return_value"
   ]
  },
  {
   "cell_type": "code",
   "execution_count": 403,
   "metadata": {},
   "outputs": [
    {
     "data": {
      "text/plain": [
       "list"
      ]
     },
     "execution_count": 403,
     "metadata": {},
     "output_type": "execute_result"
    }
   ],
   "source": [
    "type (a)"
   ]
  },
  {
   "cell_type": "code",
   "execution_count": 399,
   "metadata": {},
   "outputs": [
    {
     "data": {
      "text/plain": [
       "tuple"
      ]
     },
     "execution_count": 399,
     "metadata": {},
     "output_type": "execute_result"
    }
   ],
   "source": [
    "type(return_value)"
   ]
  },
  {
   "cell_type": "markdown",
   "metadata": {},
   "source": [
    "### Lambda functions"
   ]
  },
  {
   "cell_type": "code",
   "execution_count": 404,
   "metadata": {},
   "outputs": [
    {
     "data": {
      "text/plain": [
       "4"
      ]
     },
     "execution_count": 404,
     "metadata": {},
     "output_type": "execute_result"
    }
   ],
   "source": [
    "# Lamdda functions - anonymous functions\n",
    "\n",
    "def f(x):\n",
    "    return x*2\n",
    "\n",
    "f(2)"
   ]
  },
  {
   "cell_type": "code",
   "execution_count": 405,
   "metadata": {},
   "outputs": [],
   "source": [
    "result = lambda x: x*2"
   ]
  },
  {
   "cell_type": "code",
   "execution_count": 409,
   "metadata": {},
   "outputs": [
    {
     "data": {
      "text/plain": [
       "4"
      ]
     },
     "execution_count": 409,
     "metadata": {},
     "output_type": "execute_result"
    }
   ],
   "source": [
    "result(2)"
   ]
  },
  {
   "cell_type": "code",
   "execution_count": 417,
   "metadata": {},
   "outputs": [
    {
     "data": {
      "text/plain": [
       "[2, 4, 6, 8]"
      ]
     },
     "execution_count": 417,
     "metadata": {},
     "output_type": "execute_result"
    }
   ],
   "source": [
    "def multiply2(x):\n",
    "    return x * 2\n",
    "    \n",
    "list(map(multiply2, [1, 2, 3, 4]))"
   ]
  },
  {
   "cell_type": "code",
   "execution_count": 414,
   "metadata": {},
   "outputs": [
    {
     "data": {
      "text/plain": [
       "[2, 4, 6, 8]"
      ]
     },
     "execution_count": 414,
     "metadata": {},
     "output_type": "execute_result"
    }
   ],
   "source": [
    "#  The map() function in Python takes in a function and a list of arguments.  This way you don't have to iterate through arguments with a for loop\n",
    "\n",
    "list(map(lambda x : x*2, [1, 2, 3, 4]))"
   ]
  },
  {
   "cell_type": "code",
   "execution_count": 416,
   "metadata": {},
   "outputs": [
    {
     "data": {
      "text/plain": [
       "[1, 2]"
      ]
     },
     "execution_count": 416,
     "metadata": {},
     "output_type": "execute_result"
    }
   ],
   "source": [
    "#  Filter function creates a list of elements for which a function returns true. \n",
    "\n",
    "list(filter(lambda x : x <= 2, [1, 2, 3, 4]))"
   ]
  },
  {
   "cell_type": "code",
   "execution_count": 419,
   "metadata": {},
   "outputs": [],
   "source": [
    "filter?"
   ]
  },
  {
   "cell_type": "code",
   "execution_count": 425,
   "metadata": {},
   "outputs": [
    {
     "name": "stdout",
     "output_type": "stream",
     "text": [
      "yes\n"
     ]
    }
   ],
   "source": [
    "#  Useful trick - if something is not null, you can test for null using the if statement\n",
    "\n",
    "foo = 'hello'\n",
    "boo = 2\n",
    "goo = None\n",
    "\n",
    "if foo:\n",
    "    print(\"yes\")\n",
    "else:\n",
    "    print(\"no\")"
   ]
  },
  {
   "cell_type": "code",
   "execution_count": 430,
   "metadata": {},
   "outputs": [
    {
     "data": {
      "text/plain": [
       "['wombat', 'canberra', 'deployer', 'xibalba']"
      ]
     },
     "execution_count": 430,
     "metadata": {},
     "output_type": "execute_result"
    }
   ],
   "source": [
    "#  Comphrehensions - super cool and much beloved\n",
    "\n",
    "strings = ['a', 'b', 'wombat', 'canberra', 'dove', 'deployer', 'xibalba','lidar', 'namib']\n",
    "\n",
    "[x.upper() for x in strings if len(x) >5]  # filter out string len <= 5 and make strings upper case"
   ]
  },
  {
   "cell_type": "code",
   "execution_count": 431,
   "metadata": {},
   "outputs": [
    {
     "data": {
      "text/plain": [
       "[1, 1, 6, 8, 4, 8, 7, 5, 5]"
      ]
     },
     "execution_count": 431,
     "metadata": {},
     "output_type": "execute_result"
    }
   ],
   "source": [
    "[len(x) for x in strings]\n",
    "\n"
   ]
  },
  {
   "cell_type": "code",
   "execution_count": null,
   "metadata": {},
   "outputs": [],
   "source": [
    "# the set {} is an unordered collection of unique elements\n",
    "\n"
   ]
  },
  {
   "cell_type": "code",
   "execution_count": 432,
   "metadata": {},
   "outputs": [
    {
     "data": {
      "text/plain": [
       "{1, 4, 5, 6, 7, 8}"
      ]
     },
     "execution_count": 432,
     "metadata": {},
     "output_type": "execute_result"
    }
   ],
   "source": [
    "my_set = {len(x) for x in strings}\n",
    "my_set"
   ]
  },
  {
   "cell_type": "code",
   "execution_count": 437,
   "metadata": {},
   "outputs": [
    {
     "name": "stdout",
     "output_type": "stream",
     "text": [
      "a\n",
      "b\n",
      "c\n"
     ]
    }
   ],
   "source": [
    "# How to list keys and values\n",
    "\n",
    "some_dict = {'a': 1, 'b' : 2, 'c':3}\n",
    "\n",
    "for key in some_dict:\n",
    "    print(key)"
   ]
  },
  {
   "cell_type": "code",
   "execution_count": 439,
   "metadata": {},
   "outputs": [
    {
     "name": "stdout",
     "output_type": "stream",
     "text": [
      "1\n",
      "2\n",
      "3\n"
     ]
    }
   ],
   "source": [
    "for i in some_dict:\n",
    "    print(some_dict.get(i)) # Don't forget that get method"
   ]
  },
  {
   "cell_type": "markdown",
   "metadata": {},
   "source": [
    "### Files and the OS\n",
    "\n",
    "pandas has powerful tools for accessing/saving tools from the file system, but this initially covers Python built in tools.\n"
   ]
  },
  {
   "cell_type": "code",
   "execution_count": 460,
   "metadata": {},
   "outputs": [
    {
     "name": "stdout",
     "output_type": "stream",
     "text": [
      "0.994772 0.023164 -0.099456 28 4.61 3\n",
      "\n"
     ]
    }
   ],
   "source": [
    "#  Python 3.4 introduced a new standard library for dealing with files and paths called pathlib\n",
    "#  you just pass a path or filename into a new Path() object using forward slashes and it handles the rest:\n",
    "\n",
    "from pathlib import Path\n",
    "\n",
    "data_folder = Path(\"Data\")\n",
    "\n",
    "file_to_open = data_folder / \"stars.txt\"\n",
    "\n",
    "f = open(file_to_open)\n",
    "\n",
    "print(f.readline())"
   ]
  },
  {
   "cell_type": "code",
   "execution_count": 461,
   "metadata": {},
   "outputs": [
    {
     "name": "stdout",
     "output_type": "stream",
     "text": [
      "0.435119 0.012234 0.900290 144 5.57 7\n",
      "0.998442 0.0\n",
      "0.998448 0.035746 -0.042707 352 6.18 14\n",
      "0.873265 0\n",
      "0.512379 0.020508 0.858515 432 2.28 21\n",
      "0.949168 0.\n",
      "0.882312 0.036017 -0.469285 493 5.42 24\n",
      "0.697240 0\n",
      "0.980198 0.042952 0.193306 560 5.54 26\n",
      "0.693047 0.\n",
      "0.135171 0.005924 -0.990805 636 5.29 30\n",
      "0.962619 0\n",
      "0.883455 0.044652 -0.466383 720 5.41 34\n",
      "0.816743 0\n",
      "0.963482 0.055705 0.261913 886 2.83 39\n",
      "0.752989 0.\n",
      "0.936549 0.059751 0.345408 1013 4.79 45\n",
      "0.943971 0\n",
      "0.986062 0.064542 0.153349 1061 6.02 50\n",
      "0.987091 0\n",
      "0.778460 0.058165 0.624993 1280 4.61 63\n",
      "0.621566 0\n",
      "0.798325 0.063981 0.598819 1404 4.51 68\n",
      "0.719465 0\n",
      "0.984616 0.083667 -0.153397 1522 3.56 74\n",
      "0.422933 \n",
      "0.985806 0.088838 0.142461 1635 5.38 80\n",
      "0.785002 0\n",
      "0.346752 0.031329 -0.937433 1685 5.50 83\n",
      "0.870924 \n",
      "0.935111 0.089096 -0.342971 1760 5.61 85\n",
      "0.967790 \n",
      "0.972523 0.097324 -0.211488 1835 6.39 88\n",
      "0.777474 \n",
      "0.469314 0.050966 0.881559 2011 5.38 93\n",
      "0.993294 0\n",
      "0.219231 0.024642 -0.975362 2151 2.82 98\n",
      "0.734714 \n",
      "0.718488 0.082503 -0.690629 2262 3.93 100\n",
      "0.993260\n",
      "0.944514 0.116170 0.307242 2411 5.01 103\n",
      "0.832385 \n",
      "0.951834 0.117762 0.283097 2436 6.05 106\n",
      "0.860696 \n",
      "0.989059 0.130384 -0.069013 2637 5.72 117\n",
      "0.394696\n",
      "0.574817 0.080202 0.814342 2772 4.74 123\n",
      "0.652465 \n",
      "0.450343 0.062375 -0.890674 2884 4.36 126\n",
      "0.450226\n",
      "0.450342 0.065296 0.890465 2905 4.17 130\n",
      "0.928456 \n",
      "0.982740 0.139846 0.121097 2913 5.69 132\n",
      "0.448886 \n",
      "0.390296 0.059053 0.918794 3038 6.47 137\n",
      "0.317769 \n",
      "0.986257 0.152875 -0.062664 3196 5.20 142\n",
      "0.987958\n",
      "0.661027 0.103767 -0.743153 3302 5.51 147\n",
      "0.581589\n",
      "0.821020 0.133273 0.555126 3369 4.34 154\n",
      "0.952467 \n",
      "0.859652 0.146010 0.489571 3546 4.34 163\n",
      "0.845805 \n",
      "0.918283 0.159309 0.362460 3651 5.88 166\n",
      "0.916721 \n",
      "0.542802 0.096948 0.834246 3712 2.24 168\n",
      "0.759689 \n",
      "0.625228 0.116062 0.771764 3901 4.80 179\n",
      "0.682345 \n",
      "0.542774 0.100038 -0.833900 3980 5.72 183\n",
      "0.669459\n",
      "0.769445 0.145092 -0.622016 4065 6.05 185\n",
      "0.408090\n",
      "0.933979 0.179802 -0.308796 4128 2.04 188\n",
      "0.658321\n",
      "0.528248 0.101137 -0.843045 4150 4.36 191\n",
      "0.253897\n",
      "0.652803 0.129036 0.746457 4180 4.48 193\n",
      "0.964691 \n",
      "0.768931 0.150157 -0.621448 4211 5.90 195\n",
      "0.955707\n",
      "0.255731 0.054086 0.965234 4382 5.42 208\n",
      "0.943933 \n",
      "0.957723 0.199311 0.207467 4482 5.51 213\n",
      "0.922249 \n",
      "0.892258 0.186971 0.410996 4502 4.08 215\n",
      "0.971928 \n",
      "0.913710 0.193849 0.357151 4568 6.51 217\n",
      "0.520462 \n",
      "0.969959 0.207450 0.127063 4627 5.92 221\n",
      "0.615510 \n",
      "0.968971 0.208975 0.132000 4656 4.44 224\n",
      "0.934843 \n",
      "0.736069 0.162555 0.657098 4727 4.53 226\n",
      "0.864421 \n",
      "0.864419 0.191189 0.465001 4758 7.10 231\n",
      "0.959379 \n",
      "0.254288 0.054730 -0.965579 4815 5.09 236\n",
      "0.614166\n",
      "0.973177 0.229189 -0.019969 5112 4.78 248\n",
      "0.341034\n",
      "0.500672 0.122521 0.856923 5234 4.83 253\n",
      "0.917780 \n",
      "0.960782 0.231963 -0.151960 5268 6.15 255\n",
      "0.889940\n",
      "0.862948 0.215058 0.457243 5382 6.08 262\n",
      "0.474230 \n",
      "0.496744 0.125389 0.858792 5395 4.62 265\n",
      "0.951571 \n",
      "0.758744 0.191822 0.622504 5448 3.86 269\n",
      "0.339741 \n",
      "0.889192 0.226682 0.397432 5516 4.40 271\n",
      "0.846981 \n",
      "0.948326 0.248486 -0.197314 5722 5.62 279\n",
      "0.843236\n",
      "0.062365 0.019286 0.997867 5848 4.24 285\n",
      "0.750391 \n",
      "0.722642 0.203482 0.660594 6116 5.95 290\n",
      "0.818128 \n",
      "0.820734 0.229306 -0.523273 6178 5.50 293\n",
      "0.953409\n",
      "0.524778 0.145608 -0.838694 6192 6.12 295\n",
      "0.958977\n",
      "0.961209 0.274787 0.023855 6288 6.06 301\n",
      "0.955525 \n",
      "0.927465 0.270723 0.257909 6397 5.64 308\n",
      "0.892633 \n",
      "0.892666 0.263127 0.365940 6457 5.55 311\n",
      "0.955525 \n",
      "0.955478 0.282379 0.085581 6480 7.42 314\n",
      "0.944782 \n",
      "0.944612 0.280190 -0.170886 6530 5.58 317\n",
      "0.933731\n",
      "0.549391 0.168530 0.818393 6582 5.17 321\n",
      "0.657278 \n",
      "0.688566 0.210555 0.693933 6658 5.04 324\n",
      "0.810863 \n",
      "0.894395 0.273238 0.354117 6695 5.56 328\n",
      "0.942682 \n",
      "0.951185 0.292497 0.098455 6763 5.51 330\n",
      "0.716568 \n",
      "0.452681 0.136909 -0.881099 6793 5.36 332\n",
      "0.940503\n",
      "0.647926 0.202743 0.734226 6811 4.26 335\n",
      "0.344906 \n",
      "0.775553 0.243527 0.582419 6860 2.07 337\n",
      "0.544867 \n",
      "0.898352 0.282474 0.336411 6903 5.57 339\n",
      "0.707534 \n",
      "0.544153 0.174444 0.820650 6961 4.34 343\n",
      "0.401826 \n",
      "0.941960 0.297900 -0.154814 6976 6.40 346\n",
      "0.952112\n",
      "0.753132 0.241701 0.611860 7019 5.80 348\n",
      "0.812575 \n",
      "0.888367 0.286306 0.358933 7087 4.66 351\n",
      "0.823289 \n",
      "0.950692 0.307641 -0.039278 7147 5.93 353\n",
      "0.862677\n",
      "0.940417 0.313428 0.131833 7344 5.21 361\n",
      "0.940379 \n",
      "0.910806 0.305315 0.277877 7374 5.97 364\n",
      "0.938721 \n",
      "0.940289 0.317844 0.121786 7446 6.04 367\n",
      "0.947046 \n",
      "0.663161 0.225681 -0.713643 7570 4.97 370\n",
      "0.943755\n",
      "0.340873 0.116970 -0.932804 7788 4.25 377\n",
      "0.941057\n",
      "0.494671 0.180246 0.850183 7927 4.95 382\n",
      "0.836003 \n",
      "0.401506 0.148296 0.903770 8003 6.33 384\n",
      "0.939946 \n",
      "0.822467 0.303923 0.480811 8126 5.23 389\n",
      "0.655822 \n",
      "0.935754 0.352567 -0.007848 8335 6.50 393\n",
      "0.738921\n",
      "0.346624 0.136419 0.928031 8491 4.72 399\n",
      "0.924416 \n",
      "0.924038 0.354817 -0.142331 8512 3.60 402\n",
      "0.462045\n",
      "0.900965 0.353176 -0.252048 8705 4.90 412\n",
      "0.878427\n",
      "0.877395 0.348689 0.329535 8763 5.50 414\n",
      "0.651344 \n",
      "0.905019 0.360422 -0.225912 8829 5.51 421\n",
      "0.783017\n",
      "0.010128 0.007897 0.999918 8890 1.97 424\n",
      "0.311275 \n",
      "0.674147 0.273625 -0.686043 9053 3.41 429\n",
      "0.629881\n",
      "0.877062 0.362755 0.314915 9100 6.01 432\n",
      "0.859444 \n",
      "0.918270 0.381216 0.107027 9138 4.84 434\n",
      "0.888533 \n",
      "0.603854 0.253991 -0.755546 9362 3.93 440\n",
      "0.469193\n",
      "0.881892 0.386337 -0.270203 9672 5.62 451\n",
      "0.884186\n",
      "0.265165 0.121564 0.956509 9774 5.28 456\n",
      "0.684125 \n",
      "0.880774 0.392066 -0.265560 9856 5.41 459\n",
      "0.791674\n",
      "0.891193 0.401918 0.210327 9919 5.54 463\n",
      "0.601439 \n",
      "0.648539 0.300184 0.699490 10072 5.01 469\n",
      "0.492725\n",
      "0.869974 0.404195 0.282440 10164 5.98 475\n",
      "0.687555\n",
      "0.337246 0.161474 0.927465 10221 5.57 478\n",
      "0.298887\n",
      "0.504440 0.234654 -0.830950 10360 5.76 486\n",
      "0.50445\n",
      "0.899508 0.426309 0.095631 10380 4.45 489\n",
      "0.442515\n",
      "0.845806 0.405693 0.346447 10476 5.24 493\n",
      "0.569826\n",
      "0.762466 0.364266 -0.534749 10537 5.25 497\n",
      "0.53328\n",
      "0.842463 0.415141 0.343388 10697 6.27 508\n",
      "0.864080\n",
      "0.884691 0.438170 0.159151 10761 4.26 510\n",
      "0.811366\n",
      "0.852828 0.427939 0.299252 10845 6.55 515\n",
      "0.170156\n",
      "0.565307 0.282156 -0.775123 10934 5.49 519\n",
      "0.53193\n",
      "0.851931 0.434931 0.291631 10982 5.86 522\n",
      "0.820549\n",
      "0.872445 0.452167 -0.185430 11171 4.66 531\n",
      "0.50458\n",
      "0.868865 0.456488 0.191553 11257 5.92 534\n",
      "0.557932\n",
      "0.869708 0.459807 -0.179402 11353 3.74 539\n",
      "0.38942\n",
      "0.667082 0.359521 0.652493 11428 5.42 543\n",
      "0.765940\n",
      "0.830381 0.448655 0.330417 11502 3.88 546\n",
      "0.830371\n",
      "0.317916 0.176224 0.931598 11529 4.97 548\n",
      "0.878380\n",
      "0.152098 0.077312 -0.985337 11604 6.05 550\n",
      "0.82024\n",
      "0.607639 0.328710 -0.722997 11695 4.39 555\n",
      "0.69592\n",
      "0.647399 0.352855 -0.675550 11753 5.12 558\n",
      "0.80189\n",
      "0.829935 0.466455 0.305987 11909 5.09 563\n",
      "0.806576\n",
      "0.543223 0.300950 -0.783797 11937 3.69 566\n",
      "0.56787\n",
      "0.797724 0.451007 0.400286 11973 4.79 569\n",
      "0.333476\n",
      "0.281870 0.165966 0.944989 12111 4.49 575\n",
      "0.259260\n",
      "0.188161 0.114311 0.975463 12230 5.27 581\n",
      "0.864432\n",
      "0.809920 0.466523 -0.355508 12255 5.43 583\n",
      "0.80807\n",
      "0.364658 0.216679 0.905580 12279 6.00 586\n",
      "0.371469\n",
      "0.500115 0.295476 0.813989 12303 4.99 590\n",
      "0.413580\n",
      "0.204868 0.124962 0.970780 12339 5.22 592\n",
      "0.176704\n",
      "0.747622 0.437079 -0.500024 12438 5.34 594\n",
      "0.86052\n",
      "0.860524 0.507123 0.048215 12447 4.33 596\n",
      "0.718492\n",
      "0.612765 0.359891 -0.703561 12524 5.15 602\n",
      "0.63385\n",
      "0.633824 0.380507 0.673410 12534 4.84 604\n",
      "0.771537\n",
      "0.858972 0.512017 0.002242 12573 5.42 607\n",
      "0.857597\n",
      "0.746569 0.450762 -0.489334 12767 4.68 612\n",
      "0.78569\n",
      "0.766575 0.473540 0.433731 12885 6.01 615\n",
      "0.779683\n",
      "0.668664 0.419801 0.613723 13041 4.78 620\n",
      "0.691851\n",
      "0.759639 0.481252 0.437429 13174 4.98 623\n",
      "0.449471\n",
      "0.653463 0.419840 0.629857 13294 6.09 628\n",
      "0.653403\n",
      "0.793628 0.508648 0.333814 13325 5.68 631\n",
      "0.755899\n",
      "0.716061 0.462429 0.522892 13372 6.24 634\n",
      "0.830824\n",
      "0.839200 0.542889 -0.031853 13468 5.94 639\n",
      "0.33171\n",
      "0.723316 0.471398 0.504576 13480 4.94 642\n",
      "0.598838\n",
      "0.524636 0.345935 0.777873 13530 5.31 645\n",
      "0.780078\n",
      "0.806598 0.529102 0.263535 13596 5.72 648\n",
      "0.826337\n",
      "0.836061 0.547044 -0.041762 13612 5.65 650\n",
      "0.71909\n",
      "0.692573 0.466875 0.549883 13869 5.25 655\n",
      "0.747019\n",
      "0.751731 0.505684 0.423302 13872 5.57 657\n",
      "0.683373\n",
      "0.437946 0.300983 0.847120 13982 5.75 661\n",
      "0.442503\n",
      "0.685862 0.468363 0.556982 14055 4.03 664\n",
      "0.821444\n",
      "0.314296 0.208505 -0.926144 14141 5.57 667\n",
      "0.77461\n",
      "0.555891 0.386645 0.735861 14212 5.31 670\n",
      "0.515178\n",
      "0.721208 0.500086 0.479346 14252 5.29 675\n",
      "0.314446\n",
      "0.819677 0.570467 -0.051936 14386 6.47 681\n",
      "0.52332\n",
      "0.456555 0.326732 0.827528 14489 5.16 685\n",
      "0.814238\n",
      "0.813494 0.581368 -0.015441 14690 5.42 691\n",
      "0.51927\n",
      "0.743535 0.533008 -0.403806 14802 5.19 695\n",
      "0.44343\n",
      "0.514332 0.379279 0.769162 14872 4.73 699\n",
      "0.793118\n",
      "0.805565 0.590519 -0.048502 15004 6.34 704\n",
      "0.29649\n",
      "0.305802 0.232677 0.923226 15089 4.46 707\n",
      "0.785560\n",
      "0.507469 0.381928 0.772403 15138 6.16 709\n",
      "0.679941\n",
      "0.399546 0.292691 -0.868732 15233 5.36 714\n",
      "0.22860\n",
      "0.693550 0.523418 0.494997 15257 5.29 717\n",
      "0.789533\n",
      "0.690270 0.523986 0.498966 15335 5.89 720\n",
      "0.539241\n",
      "0.663507 0.500116 -0.556456 15427 5.13 724\n",
      "0.74459\n",
      "0.753481 0.582915 0.304100 15596 6.21 731\n",
      "0.636100\n",
      "0.787459 0.616102 -0.018060 15779 5.36 739\n",
      "0.76005\n",
      "0.758690 0.597580 0.259400 15814 6.00 741\n",
      "0.645773\n",
      "0.689877 0.547992 -0.473048 16046 4.96 749\n",
      "0.63951\n",
      "0.773343 0.619065 -0.136741 16074 5.74 752\n",
      "0.77378\n",
      "0.769895 0.623455 -0.136259 16212 5.53 759\n",
      "0.70393\n",
      "0.757187 0.616608 0.215551 16234 5.64 763\n",
      "0.703821\n",
      "0.672355 0.545214 -0.500680 16307 5.74 767\n",
      "0.77111\n",
      "0.637657 0.520881 -0.567518 16417 5.78 772\n",
      "0.71352\n",
      "0.149052 0.116106 -0.981989 16522 5.27 776\n",
      "0.66619\n",
      "0.470279 0.385619 -0.793811 16555 5.30 778\n",
      "0.76748\n",
      "0.750860 0.627606 -0.205719 16620 4.83 781\n",
      "0.68046\n",
      "0.433296 0.373505 0.820213 16727 5.76 785\n",
      "0.580304\n",
      "0.561650 0.470440 -0.680614 16754 4.74 789\n",
      "0.76252\n",
      "0.713522 0.611375 0.342210 16811 5.74 793\n",
      "0.586630\n",
      "0.745737 0.639639 0.186383 16861 6.32 797\n",
      "0.492492\n",
      "0.539991 0.469763 0.698379 16901 5.43 800\n",
      "0.669559\n",
      "0.443226 0.374090 -0.814621 16920 5.21 802\n",
      "0.75549\n",
      "0.284081 0.237502 -0.928919 16978 4.12 806\n",
      "0.71785\n",
      "0.726400 0.634514 0.264073 17036 5.78 809\n",
      "0.479599\n",
      "0.732399 0.637352 -0.239528 17081 4.24 811\n",
      "0.73428\n",
      "0.740327 0.648904 0.175611 17094 4.27 813\n",
      "0.257682\n",
      "0.712413 0.625317 -0.318507 17206 4.47 818\n",
      "0.64864\n",
      "0.704143 0.636992 0.313725 17459 5.83 828\n",
      "0.263444\n",
      "0.332482 0.292755 -0.896521 17504 5.73 833\n",
      "0.41224\n",
      "0.605662 0.543253 -0.581421 17528 6.51 835\n",
      "0.70527\n",
      "0.285706 0.251756 -0.924657 17566 4.83 837\n",
      "0.65543\n",
      "0.577099 0.531516 0.620038 17584 4.22 840\n",
      "0.624722\n",
      "0.599834 0.556980 0.574432 17709 4.56 843\n",
      "0.670976\n",
      "0.651581 0.596554 -0.468578 17729 5.39 845\n",
      "0.70761\n",
      "0.597062 0.548286 -0.585576 17793 5.92 848\n",
      "0.68542\n",
      "0.597298 0.550560 -0.583197 17829 5.48 851\n",
      "0.33824\n",
      "0.438470 0.417031 0.796134 17878 3.93 854\n",
      "0.569645\n",
      "0.569184 0.538121 -0.621655 18149 5.93 863\n",
      "0.68338\n",
      "0.682792 0.661862 0.309409 18256 5.58 869\n",
      "0.189628\n",
      "0.607149 0.592947 0.528947 18296 5.10 873\n",
      "0.709405\n",
      "0.667101 0.656043 0.352965 18404 5.80 878\n",
      "0.547276\n",
      "0.580290 0.575558 0.576191 18449 4.94 882\n",
      "0.653973\n",
      "0.660884 0.656356 0.363909 18519 4.63 887\n",
      "0.660886\n",
      "0.653300 0.642527 -0.400447 18535 5.82 889\n",
      "0.69944\n",
      "0.543324 0.535145 -0.646853 18622 2.88 897\n",
      "0.54330\n",
      "0.707420 0.705484 -0.043007 18633 5.56 899\n",
      "0.64053\n",
      "0.703597 0.708823 -0.050221 18760 6.11 904\n",
      "0.62774\n",
      "0.697217 0.704349 -0.133343 18784 5.75 907\n",
      "0.31080\n",
      "0.697722 0.712336 0.075899 18883 5.62 910\n",
      "0.698256\n",
      "0.619377 0.628218 -0.470865 18907 5.88 914\n",
      "0.41164\n",
      "0.692438 0.708975 -0.133735 18953 5.32 917\n",
      "0.37866\n",
      "0.641046 0.654575 -0.400738 18978 4.08 919\n",
      "0.53818\n",
      "0.687700 0.713844 -0.132272 19107 5.26 925\n",
      "0.62414\n",
      "0.624146 0.654531 0.426652 19135 7.00 928\n",
      "0.350689\n",
      "0.514650 0.552710 0.655475 19356 2.09 936\n",
      "0.439723\n",
      "0.650794 0.694409 0.307024 19374 6.13 938\n",
      "0.217479\n",
      "0.644569 0.693345 0.322184 19460 6.24 940\n",
      "0.480051\n",
      "0.591533 0.643356 0.485986 19548 5.74 944\n",
      "0.517259\n",
      "0.630997 0.698508 0.337534 19787 4.35 951\n",
      "0.594147\n",
      "0.663197 0.739402 0.115993 19926 5.55 958\n",
      "0.666478\n",
      "0.585094 0.650220 -0.484643 20010 3.80 963\n",
      "0.61566\n",
      "0.467480 0.546328 0.694973 20315 5.49 982\n",
      "0.648842\n",
      "0.414188 0.487655 0.768532 20365 5.16 987\n",
      "0.645762\n",
      "0.414228 0.489856 0.767109 20418 5.05 989\n",
      "0.648130\n",
      "0.598834 0.703430 -0.382863 20610 4.86 994\n",
      "0.57257\n",
      "0.643812 0.762922 0.058783 20630 4.84 996\n",
      "0.578096\n",
      "0.464056 0.560168 0.686195 20677 4.96 1002\n",
      "0.59849\n",
      "0.595667 0.717656 0.360764 20756 5.27 1005\n",
      "0.29950\n",
      "0.637746 0.767574 0.064109 20791 5.70 1007\n",
      "0.46983\n",
      "0.299517 0.351266 -0.887075 20807 5.24 1010\n",
      "0.5630\n",
      "0.592471 0.723565 0.354162 20893 5.10 1015\n",
      "0.40498\n",
      "0.570683 0.706673 0.418251 21017 5.50 1022\n",
      "0.14327\n",
      "0.586911 0.727595 0.355164 21050 6.07 1027\n",
      "0.61879\n",
      "0.609613 0.774463 0.169053 21364 3.73 1038\n",
      "0.50432\n",
      "0.396707 0.514053 0.760508 21428 4.67 1044\n",
      "0.56613\n",
      "0.406047 0.531927 0.743088 21552 4.36 1052\n",
      "0.50132\n",
      "0.498470 0.639114 -0.585714 21635 6.49 1058\n",
      "0.5954\n",
      "0.590361 0.775470 0.223874 21754 4.14 1066\n",
      "0.41656\n",
      "0.604243 0.791874 -0.088463 21790 4.74 1070\n",
      "0.5917\n",
      "0.277946 0.360171 -0.890518 22001 4.71 1083\n",
      "0.5903\n",
      "0.540001 0.732732 0.414129 22091 5.95 1086\n",
      "0.39068\n",
      "0.553619 0.746725 -0.368657 22203 4.26 1088\n",
      "0.5597\n",
      "0.584677 0.811236 0.007031 22484 4.29 1101\n",
      "0.44550\n",
      "0.574299 0.812755 -0.098029 22713 5.97 1111\n",
      "0.5105\n",
      "0.573287 0.817617 0.053326 22796 5.55 1115\n",
      "0.51593\n",
      "0.568930 0.817356 -0.090818 22920 5.53 1121\n",
      "0.3783\n",
      "0.468639 0.684285 0.558687 22951 4.97 1123\n",
      "0.53218\n",
      "0.471750 0.701501 0.534179 23180 3.84 1131\n",
      "0.52730\n",
      "0.479904 0.699888 -0.529007 23227 4.99 1134\n",
      "0.4085\n",
      "0.553764 0.815216 -0.169611 23249 3.52 1136\n",
      "0.5070\n",
      "0.507503 0.758638 0.408545 23302 3.72 1142\n",
      "0.44808\n",
      "0.503640 0.754906 0.420076 23324 5.66 1144\n",
      "0.50499\n",
      "0.557237 0.830105 -0.020298 23363 5.24 1146\n",
      "0.1715\n",
      "0.503343 0.759218 0.412594 23408 3.87 1149\n",
      "0.55577\n",
      "0.502328 0.758272 0.415560 23432 5.76 1151\n",
      "0.50197\n",
      "0.550042 0.828459 0.105397 23466 5.34 1153\n",
      "0.50333\n",
      "0.539167 0.815688 -0.209648 23614 4.43 1162\n",
      "0.4988\n",
      "0.479697 0.727892 -0.489963 23738 5.91 1171\n",
      "0.5042\n",
      "0.533398 0.823490 0.193265 23793 5.08 1174\n",
      "0.23773\n",
      "0.451552 0.705699 0.545976 23848 5.14 1177\n",
      "0.49345\n",
      "0.493053 0.767910 0.408917 23862 5.05 1180\n",
      "0.49917\n",
      "0.471084 0.724946 -0.502527 23940 5.52 1184\n",
      "0.4296\n",
      "0.429657 0.665410 -0.610429 24072 4.73 1190\n",
      "0.4351\n",
      "0.526463 0.842546 0.113809 24263 5.66 1199\n",
      "0.52504\n",
      "0.443248 0.724251 0.528196 24398 2.84 1203\n",
      "0.14869\n",
      "0.443231 0.733195 0.515724 24534 6.79 1209\n",
      "0.32480\n",
      "0.520727 0.852168 -0.051513 24554 6.14 1211\n",
      "0.5207\n",
      "0.476004 0.774577 -0.416475 24587 4.64 1213\n",
      "0.4304\n",
      "0.472908 0.793839 0.382333 24740 5.62 1218\n",
      "0.38916\n",
      "0.469815 0.790185 0.393550 24769 6.05 1221\n",
      "0.40874\n",
      "0.493393 0.837855 -0.233585 25025 2.97 1231\n",
      "0.4856\n",
      "0.456975 0.790903 -0.406996 25267 4.62 1240\n",
      "0.4940\n",
      "0.241610 0.413241 -0.877984 25422 4.56 1247\n",
      "0.4853\n",
      "0.441271 0.799042 0.408426 25555 5.46 1252\n",
      "0.48360\n",
      "0.446790 0.811821 0.375934 25604 4.36 1256\n",
      "0.30303\n",
      "0.444744 0.813487 0.374756 25680 5.90 1262\n",
      "0.23192\n",
      "0.239420 0.420178 -0.875288 25728 4.97 1266\n",
      "0.4207\n",
      "0.413940 0.770451 0.484829 25867 5.21 1269\n",
      "0.31416\n",
      "0.370531 0.698762 0.611913 25975 6.07 1277\n",
      "0.36789\n",
      "0.438010 0.833977 0.335605 26162 5.51 1283\n",
      "0.41042\n",
      "0.456939 0.881292 -0.120550 26409 5.44 1290\n",
      "0.4544\n",
      "0.451280 0.884404 -0.119059 26574 4.04 1298\n",
      "0.3407\n",
      "0.293859 0.595217 0.747907 26630 4.12 1303\n",
      "0.33673\n",
      "0.443891 0.885965 0.134263 26690 5.29 1309\n",
      "0.44061\n",
      "0.437551 0.881391 -0.178045 26846 4.87 1318\n",
      "0.4234\n",
      "0.434906 0.887109 0.154580 26912 4.27 1320\n",
      "0.27441\n",
      "0.437217 0.889463 -0.133027 26965 4.43 1325\n",
      "0.3300\n",
      "0.405761 0.843688 0.351494 27045 4.93 1329\n",
      "0.39892\n",
      "0.265937 0.571552 0.776277 27192 5.55 1333\n",
      "0.20544\n",
      "0.272909 0.559701 -0.782468 27290 4.26 1338\n",
      "0.3962\n",
      "0.393894 0.840983 0.370940 27309 5.34 1341\n",
      "0.34667\n",
      "0.407786 0.872434 0.269385 27371 3.65 1346\n",
      "0.35810\n",
      "0.374130 0.805569 0.459439 27382 4.97 1348\n",
      "0.28668\n",
      "0.410153 0.879181 0.242519 27397 5.58 1351\n",
      "0.22282\n",
      "0.405727 0.876106 0.260429 27459 5.26 1356\n",
      "0.41611\n",
      "0.402018 0.882735 0.243230 27628 5.72 1368\n",
      "0.37180\n",
      "0.194318 0.405896 -0.893022 27657 5.88 1372\n",
      "0.3918\n",
      "0.391648 0.873665 0.288653 27749 5.64 1376\n",
      "0.33507\n",
      "0.370713 0.832595 0.411531 27778 6.34 1378\n",
      "0.33529\n",
      "0.387670 0.871691 0.299777 27819 4.80 1380\n",
      "0.40173\n",
      "0.407135 0.911029 -0.065322 27861 5.17 1383\n",
      "0.3712\n",
      "0.371353 0.848134 0.377843 27946 5.27 1388\n",
      "0.38133\n",
      "0.384873 0.881159 0.274649 27991 6.44 1391\n",
      "0.36642\n",
      "0.337013 0.757265 -0.559439 28028 3.97 1393\n",
      "0.3826\n",
      "0.185969 0.407539 -0.894051 28093 5.24 1395\n",
      "0.3833\n",
      "0.362300 0.846235 0.390673 28149 5.53 1399\n",
      "0.37321\n",
      "0.376359 0.890847 0.254451 28294 5.90 1408\n",
      "0.36670\n",
      "0.373449 0.885951 0.275003 28307 3.84 1411\n",
      "0.37328\n",
      "0.377374 0.898121 0.225761 28355 5.02 1414\n",
      "0.38846\n",
      "0.220587 0.546181 0.808101 28446 5.78 1417\n",
      "0.36796\n",
      "0.073181 0.153404 -0.985450 28525 5.67 1426\n",
      "0.3659\n",
      "0.369321 0.898506 0.237253 28556 5.40 1430\n",
      "0.36090\n",
      "0.269497 0.679071 0.682813 28704 6.09 1434\n",
      "0.37510\n",
      "0.268433 0.654791 -0.706536 28873 5.07 1443\n",
      "0.3548\n",
      "0.364323 0.923850 -0.117345 29009 5.71 1449\n",
      "0.3619\n",
      "0.319870 0.806978 -0.496456 29085 4.49 1453\n",
      "0.2672\n",
      "0.061321 0.132966 -0.989222 29116 5.78 1456\n",
      "0.3439\n",
      "0.354135 0.918404 0.176413 29140 4.25 1458\n",
      "0.35645\n",
      "0.310156 0.803279 -0.508475 29291 3.81 1464\n",
      "0.2099\n",
      "0.203650 0.559274 0.803579 29316 5.36 1466\n",
      "0.20567\n",
      "0.353307 0.935345 0.017423 29335 5.32 1469\n",
      "0.33597\n",
      "0.341267 0.914664 0.216625 29388 4.27 1473\n",
      "0.35150\n",
      "0.332436 0.902967 0.272281 29479 5.08 1478\n",
      "0.33176\n",
      "0.338633 0.907904 -0.247060 29503 3.86 1481\n",
      "0.3340\n",
      "0.166365 0.437737 -0.883577 29712 5.59 1492\n",
      "0.2399\n",
      "0.320355 0.885471 -0.336623 29755 4.32 1496\n",
      "0.3064\n",
      "0.300117 0.862171 0.408155 29859 6.18 1499\n",
      "0.25299\n",
      "0.265893 0.751458 -0.603831 29992 5.04 1503\n",
      "0.3234\n",
      "0.323431 0.933814 -0.152919 30021 6.70 1506\n",
      "0.3216\n",
      "0.169390 0.521356 0.836358 30121 5.29 1511\n",
      "0.21038\n",
      "0.246284 0.712608 -0.656912 30202 6.24 1518\n",
      "0.3188\n",
      "0.163365 0.476824 -0.863685 30478 5.28 1530\n",
      "0.2971\n",
      "0.238897 0.756662 0.608598 30504 4.89 1533\n",
      "0.29025\n",
      "0.294391 0.913390 -0.281162 30606 5.76 1538\n",
      "0.2681\n",
      "0.107623 0.308469 -0.945126 30612 5.53 1541\n",
      "0.1138\n",
      "0.299168 0.946472 0.121198 30652 3.19 1543\n",
      "0.29456\n",
      "0.279181 0.904310 0.322926 30780 5.08 1547\n",
      "0.28796\n",
      "0.232287 0.767355 0.597670 30834 4.79 1551\n",
      "0.29426\n",
      "0.159340 0.547136 0.821738 30958 5.52 1555\n",
      "0.28122\n",
      "0.224994 0.716528 -0.660277 30985 6.06 1557\n",
      "0.2873\n",
      "0.286336 0.957129 0.043764 31139 5.33 1562\n",
      "0.17674\n",
      "0.176698 0.568561 -0.803441 31204 6.42 1564\n",
      "0.2827\n",
      "0.159785 0.569281 0.806466 31278 4.43 1568\n",
      "0.27517\n",
      "0.275882 0.944895 0.176245 31295 4.64 1570\n",
      "0.22724\n",
      "0.266488 0.935079 0.233693 31421 4.06 1580\n",
      "0.26717\n",
      "0.272831 0.957830 -0.090135 31512 5.50 1582\n",
      "0.2449\n",
      "0.155775 0.579059 0.800266 31579 6.09 1588\n",
      "0.24150\n",
      "0.206729 0.761629 0.614154 31647 4.93 1592\n",
      "0.19901\n",
      "0.264814 0.963836 0.029911 31767 4.47 1601\n",
      "0.19801\n",
      "0.120555 0.478343 0.869859 31910 4.03 1603\n",
      "0.18073\n",
      "0.251821 0.933426 -0.255544 31996 7.71 1607\n",
      "0.2553\n",
      "0.252942 0.942815 -0.217073 32045 4.78 1611\n",
      "0.1872\n",
      "0.250770 0.959958 -0.124883 32249 4.80 1617\n",
      "0.2285\n",
      "0.120021 0.501283 0.856919 32343 5.22 1622\n",
      "0.11971\n",
      "0.072520 0.249558 -0.965641 32440 5.47 1629\n",
      "0.2279\n",
      "0.143223 0.604436 0.783673 32537 4.98 1637\n",
      "0.23090\n",
      "0.173913 0.731631 0.659144 32630 3.18 1641\n",
      "0.23596\n",
      "0.161519 0.633804 -0.756441 32743 5.37 1649\n",
      "0.1955\n",
      "0.194950 0.788282 -0.583615 32846 6.32 1653\n",
      "0.2179\n",
      "0.215382 0.922714 0.319704 32923 4.91 1656\n",
      "0.22945\n",
      "0.211586 0.912972 0.348874 32977 5.28 1658\n",
      "0.20465\n",
      "0.209303 0.905219 0.369825 32991 5.84 1660\n",
      "0.22339\n",
      "0.154213 0.629809 -0.761288 33042 5.05 1663\n",
      "0.2229\n",
      "0.224698 0.970387 -0.088655 33111 2.78 1666\n",
      "0.2160\n",
      "0.221185 0.972132 -0.077698 33256 5.11 1673\n",
      "0.1266\n",
      "0.209703 0.940070 0.268874 33276 4.81 1676\n",
      "0.07924\n",
      "0.092406 0.449385 0.888546 33296 6.49 1678\n",
      "0.21751\n",
      "0.157971 0.766669 0.622305 33641 4.82 1689\n",
      "0.20222\n",
      "0.202145 0.978083 0.049917 33856 4.46 1698\n",
      "0.19583\n",
      "0.197505 0.954378 -0.223952 33949 4.36 1705\n",
      "0.1627\n",
      "0.130501 0.682303 0.719328 34029 0.08 1708\n",
      "0.17869\n",
      "0.156534 0.811010 0.563702 34078 5.99 1712\n",
      "0.19505\n",
      "0.034549 0.126399 -0.991378 34172 5.84 1716\n",
      "0.1867\n",
      "0.092933 0.519940 0.849132 34233 6.13 1719\n",
      "0.15155\n",
      "0.150370 0.817588 0.555823 34364 6.15 1728\n",
      "0.13566\n",
      "0.146139 0.816200 0.558982 34499 6.49 1734\n",
      "0.18261\n",
      "0.163774 0.911961 0.376171 34559 4.96 1739\n",
      "0.14397\n",
      "0.151288 0.806135 -0.572066 34642 4.81 1743\n",
      "0.0777\n",
      "0.176958 0.983176 0.045292 34658 5.34 1746\n",
      "0.12365\n",
      "0.085189 0.529839 0.843809 34787 5.24 1751\n",
      "0.17085\n",
      "0.169720 0.962133 -0.213297 34863 5.29 1757\n",
      "0.1660\n",
      "0.111926 0.624695 -0.772806 35072 5.44 1767\n",
      "0.1392\n",
      "0.161151 0.984991 0.061823 35149 4.99 1770\n",
      "0.12206\n",
      "0.151370 0.945789 0.287350 35189 6.09 1774\n",
      "0.14755\n",
      "0.153915 0.958320 -0.240692 35337 5.25 1783\n",
      "0.1552\n",
      "0.154339 0.987895 -0.015562 35410 5.07 1787\n",
      "0.1542\n",
      "0.153134 0.987680 0.032221 35439 4.89 1789\n",
      "0.15062\n",
      "0.128659 0.868439 0.478812 35497 1.65 1791\n",
      "0.14118\n",
      "0.091087 0.549751 -0.830347 35580 6.10 1801\n",
      "0.0587\n",
      "0.115982 0.816164 0.566061 35620 5.08 1805\n",
      "0.13580\n",
      "0.130560 0.918361 0.373586 35708 4.88 1810\n",
      "0.14398\n",
      "0.134862 0.952364 0.273525 35770 5.52 1814\n",
      "0.13281\n",
      "0.093596 0.604096 -0.791396 35860 6.26 1818\n",
      "0.1209\n",
      "0.064663 0.537516 0.840771 36066 6.44 1828\n",
      "0.12914\n",
      "0.131657 0.991112 -0.019061 36167 4.71 1834\n",
      "0.0756\n",
      "0.128743 0.988964 0.073323 36217 6.21 1837\n",
      "0.12644\n",
      "0.124944 0.990500 0.057427 36351 5.46 1842\n",
      "0.10046\n",
      "0.114636 0.940842 0.318864 36389 4.32 1845\n",
      "0.11741\n",
      "0.121832 0.992538 -0.004964 36485 6.85 1851\n",
      "0.1218\n",
      "0.121178 0.984461 -0.127091 36512 4.62 1855\n",
      "0.0432\n",
      "0.109271 0.941783 0.317970 36576 5.67 1858\n",
      "0.10203\n",
      "0.110093 0.962717 0.247093 36653 5.60 1864\n",
      "0.11301\n",
      "0.115242 0.993132 -0.020176 36695 5.36 1868\n",
      "0.1117\n",
      "0.097634 0.908030 0.407369 36819 5.37 1875\n",
      "0.10814\n",
      "0.106645 0.979216 0.172517 36861 3.39 1879\n",
      "0.10662\n",
      "0.106811 0.990695 -0.084345 37018 4.58 1892\n",
      "0.1072\n",
      "0.107228 0.989795 -0.093852 37021 7.96 1894\n",
      "0.1072\n",
      "0.107148 0.989800 -0.093894 37023 6.71 1896\n",
      "0.1067\n",
      "0.106420 0.988976 -0.102964 37043 2.75 1899\n",
      "0.1056\n",
      "0.103579 0.994400 -0.020976 37128 1.69 1903\n",
      "0.0955\n",
      "0.099278 0.981874 0.161456 37160 4.09 1907\n",
      "0.09083\n",
      "0.080213 0.857955 0.507425 37269 5.40 1914\n",
      "0.05112\n",
      "0.053039 0.458850 -0.886929 37350 3.76 1922\n",
      "0.0875\n",
      "0.079434 0.896066 0.436757 37438 5.18 1928\n",
      "0.09250\n",
      "0.092341 0.994698 -0.045261 37479 6.65 1932\n",
      "0.0904\n",
      "0.085054 0.873099 -0.480067 37495 5.28 1935\n",
      "0.0912\n",
      "0.040749 0.549242 0.834670 37601 6.05 1941\n",
      "0.03301\n",
      "0.078153 0.955459 0.284588 37711 4.84 1946\n",
      "0.08380\n",
      "0.083804 0.995905 -0.033901 37743 4.21 1949\n",
      "0.0289\n",
      "0.073456 0.825051 -0.560264 37795 2.65 1956\n",
      "0.0763\n",
      "0.071617 0.921943 -0.380647 38090 5.88 1968\n",
      "0.0328\n",
      "0.039661 0.643887 0.764092 38104 5.46 1971\n",
      "0.06270\n",
      "0.062596 0.922108 -0.381837 38393 3.59 1983\n",
      "0.0555\n",
      "0.053965 0.966693 0.250184 38545 5.72 1989\n",
      "0.05218\n",
      "0.020600 0.192779 -0.981026 38602 6.04 1991\n",
      "0.0224\n",
      "0.052009 0.969324 0.240222 38622 5.28 1993\n",
      "0.03660\n",
      "0.051605 0.843625 -0.534447 38666 5.18 1996\n",
      "0.0549\n",
      "0.051988 0.992301 0.112409 38710 5.26 1999\n",
      "0.04357\n",
      "0.052638 0.984386 -0.167967 38771 2.07 2004\n",
      "0.0173\n",
      "0.044479 0.974707 0.219018 38899 4.89 2010\n",
      "0.03108\n",
      "0.028790 0.774978 0.631332 39003 3.97 2012\n",
      "0.02728\n",
      "0.040232 0.968156 0.247095 39019 5.54 2016\n",
      "0.03484\n",
      "0.016479 0.164713 -0.986204 39091 5.65 2022\n",
      "0.0110\n",
      "0.012668 0.563284 0.826166 39283 4.96 2029\n",
      "0.03733\n",
      "0.032266 0.969029 0.244830 39317 5.60 2033\n",
      "0.02579\n",
      "0.035382 0.933674 -0.356371 39364 3.76 2035\n",
      "0.0329\n",
      "0.031999 0.810746 -0.584523 39425 3.12 2040\n",
      "0.0247\n",
      "0.022981 0.937750 0.346550 39587 4.39 2047\n",
      "0.02075\n",
      "0.024961 0.830595 -0.556317 39764 4.88 2056\n",
      "0.0117\n",
      "0.020891 0.991435 0.128917 39801 0.45 2061\n",
      "0.01581\n",
      "0.017112 0.938488 0.344889 39816 5.40 2063\n",
      "0.01729\n",
      "0.001208 0.583753 0.811930 40035 3.72 2077\n",
      "0.00786\n",
      "0.015207 0.969463 -0.244766 40136 3.71 2085\n",
      "0.0156\n",
      "0.001453 0.707754 0.706458 40183 1.90 2088\n",
      "0.00019\n",
      "0.013599 0.853602 -0.520748 40248 5.52 2092\n",
      "0.0009\n",
      "0.006946 0.999462 0.032059 40372 5.89 2100\n",
      "-0.0028\n",
      "0.011653 0.452424 -0.891727 40409 4.65 2102\n",
      "0.0051\n",
      "0.008773 0.816259 -0.577620 40494 4.36 2106\n",
      "0.0042\n",
      "0.003994 0.986110 -0.166048 40536 5.04 2108\n",
      "-0.006\n",
      "-0.010539 0.732326 0.680873 40801 6.08 2119\n",
      "0.0027\n",
      "-0.012162 0.621391 0.783406 40873 6.39 2123\n",
      "-0.010\n",
      "0.007827 0.184445 -0.982812 40953 5.46 2125\n",
      "-0.007\n",
      "-0.014197 0.941419 0.336941 41040 5.14 2130\n",
      "-0.016\n",
      "-0.016516 0.918549 0.394963 41116 4.16 2134\n",
      "-0.016\n",
      "-0.022488 0.782472 0.622279 41357 5.35 2143\n",
      "-0.021\n",
      "-0.021639 0.997132 0.072519 41380 5.63 2145\n",
      "-0.020\n",
      "-0.016021 0.846295 -0.532473 41534 5.65 2149\n",
      "-0.02\n",
      "-0.025948 0.965869 -0.257728 41695 4.67 2155\n",
      "-0.02\n",
      "-0.031942 0.966436 0.254915 41753 4.42 2159\n",
      "-0.023\n",
      "-0.031704 0.944039 -0.328306 42042 5.28 2168\n",
      "-0.02\n",
      "-0.039048 0.918900 0.392553 42087 5.75 2173\n",
      "-0.033\n",
      "-0.033413 0.659009 0.751392 42127 6.09 2176\n",
      "-0.026\n",
      "-0.025488 0.740905 -0.671126 42303 5.50 2181\n",
      "-0.04\n",
      "-0.049336 0.939642 0.338583 42509 5.76 2193\n",
      "-0.010\n",
      "-0.049486 0.919797 0.389261 42543 6.51 2197\n",
      "-0.050\n",
      "-0.050481 0.968092 0.245456 42560 4.45 2199\n",
      "-0.034\n",
      "-0.025785 0.573445 -0.818838 42933 4.72 2212\n",
      "-0.03\n",
      "-0.059932 0.921888 0.382794 42995 3.31 2216\n",
      "-0.058\n",
      "-0.061160 0.942642 0.328156 43042 5.20 2220\n",
      "-0.013\n",
      "-0.064576 0.958397 0.278039 43153 5.34 2223\n",
      "-0.064\n",
      "-0.052818 0.687291 0.724460 43244 6.53 2228\n",
      "-0.067\n",
      "-0.065003 0.911443 0.406259 43261 6.09 2230\n",
      "-0.044\n",
      "-0.054989 0.687921 0.723699 43380 6.33 2239\n",
      "-0.067\n",
      "-0.070046 0.974637 0.212548 43386 5.04 2241\n",
      "-0.020\n",
      "-0.073468 0.982238 0.172660 43525 5.39 2247\n",
      "-0.075\n",
      "-0.059009 0.815609 -0.575587 43785 4.37 2256\n",
      "-0.04\n",
      "-0.011743 0.262726 -0.964799 43834 5.08 2261\n",
      "-0.05\n",
      "-0.085110 0.987031 -0.136112 44112 5.27 2273\n",
      "-0.07\n",
      "-0.092391 0.919155 0.382907 44478 2.87 2286\n",
      "-0.070\n",
      "-0.063872 0.551374 0.831809 44691 5.53 2291\n",
      "-0.061\n",
      "-0.094069 0.946632 -0.308285 44743 1.98 2294\n",
      "-0.08\n",
      "-0.103191 0.991433 0.080074 44769 4.39 2298\n",
      "-0.103\n",
      "-0.107263 0.961204 0.254129 44984 6.30 2308\n",
      "-0.108\n",
      "-0.055322 0.551059 -0.832631 45229 5.60 2320\n",
      "-0.06\n",
      "-0.113931 0.929740 0.350147 45394 6.22 2330\n",
      "-0.070\n",
      "-0.107134 0.855005 0.507434 45412 5.75 2332\n",
      "-0.118\n",
      "-0.118662 0.992923 -0.004817 45433 5.55 2335\n",
      "-0.08\n",
      "-0.118278 0.930936 0.345497 45542 4.13 2343\n",
      "-0.121\n",
      "-0.074700 0.662636 -0.745207 45572 5.76 2348\n",
      "-0.03\n",
      "-0.124467 0.984640 -0.122442 45725 3.76 2356\n",
      "-0.12\n",
      "-0.124497 0.984633 -0.122466 45727 5.60 2358\n",
      "-0.10\n",
      "-0.132284 0.952583 0.274018 46031 6.38 2371\n",
      "-0.119\n",
      "-0.085373 0.562072 0.822671 46101 6.45 2376\n",
      "-0.038\n",
      "-0.140053 0.986519 0.084652 46241 5.88 2382\n",
      "-0.141\n",
      "-0.127139 0.908776 -0.397443 46328 4.34 2387\n",
      "-0.07\n",
      "-0.078171 0.470994 0.878666 46480 5.94 2394\n",
      "-0.135\n",
      "-0.089388 0.539366 0.837313 46590 5.87 2402\n",
      "-0.149\n",
      "-0.124366 0.773262 0.621771 46687 5.40 2405\n",
      "-0.072\n",
      "-0.140290 0.909994 -0.390166 46933 4.54 2414\n",
      "-0.12\n",
      "-0.129320 0.756158 0.641484 47100 5.34 2420\n",
      "-0.157\n",
      "-0.149767 0.935522 -0.319951 47138 5.71 2423\n",
      "-0.14\n",
      "-0.125927 0.726575 0.675449 47174 4.80 2427\n",
      "-0.150\n",
      "-0.091541 0.595156 -0.798380 47306 4.35 2435\n",
      "-0.15\n",
      "-0.156309 0.936817 -0.312956 47442 4.42 2443\n",
      "-0.11\n",
      "-0.158145 0.867026 0.472499 47731 6.45 2453\n",
      "-0.175\n",
      "-0.133238 0.700390 0.701215 47914 5.04 2459\n",
      "-0.111\n",
      "-0.175318 0.936684 0.303127 48097 5.20 2466\n",
      "-0.101\n",
      "-0.172484 0.888755 0.424692 48329 3.06 2473\n",
      "-0.110\n",
      "-0.185697 0.955591 0.228829 48433 4.49 2478\n",
      "-0.169\n",
      "-0.146720 0.709435 0.689329 48682 5.24 2483\n",
      "-0.191\n",
      "-0.136021 0.644633 0.752294 48781 5.22 2487\n",
      "-0.194\n",
      "-0.084123 0.372134 0.924359 48879 5.14 2490\n",
      "-0.187\n",
      "-0.165175 0.840456 -0.516093 48917 5.23 2492\n",
      "-0.19\n",
      "-0.203040 0.969137 0.139817 49161 4.77 2503\n",
      "-0.196\n",
      "-0.207135 0.977407 0.042088 49293 4.48 2506\n",
      "-0.190\n",
      "-0.083632 0.350344 0.932880 49340 5.11 2511\n",
      "-0.163\n",
      "-0.161828 0.771987 -0.614694 49591 5.27 2518\n",
      "-0.20\n",
      "-0.116687 0.494736 0.861174 49618 5.34 2520\n",
      "-0.212\n",
      "-0.115980 0.553816 -0.824522 49877 5.60 2526\n",
      "-0.20\n",
      "-0.181955 0.823448 -0.537425 50013 3.50 2538\n",
      "-0.17\n",
      "-0.189359 0.807510 0.558634 50019 3.60 2540\n",
      "-0.180\n",
      "-0.182521 0.760970 0.622584 50204 6.46 2547\n",
      "-0.148\n",
      "-0.098181 0.460005 -0.882472 50241 3.24 2550\n",
      "-0.13\n",
      "-0.128005 0.579125 -0.805127 50337 4.41 2554\n",
      "-0.02\n",
      "-0.129509 0.507375 0.851938 50522 4.35 2560\n",
      "-0.229\n",
      "-0.168782 0.670287 0.722654 50658 5.85 2568\n",
      "-0.215\n",
      "-0.217255 0.912850 -0.345695 50707 4.82 2571\n",
      "-0.22\n",
      "-0.213469 0.886905 -0.409672 50877 3.89 2580\n",
      "-0.17\n",
      "-0.222953 0.910348 -0.348652 51055 5.80 2588\n",
      "-0.22\n",
      "-0.235147 0.941182 -0.242658 51250 5.00 2593\n",
      "-0.23\n",
      "-0.200645 0.761454 0.616385 51440 6.02 2600\n",
      "-0.227\n",
      "-0.072609 0.317986 -0.945311 51557 5.41 2602\n",
      "-0.23\n",
      "-0.249762 0.927853 0.276962 52005 5.73 2615\n",
      "-0.221\n",
      "-0.208764 0.801194 -0.560808 52092 5.07 2619\n",
      "-0.24\n",
      "-0.235057 0.851638 -0.468467 52877 3.49 2646\n",
      "-0.27\n",
      "-0.258491 0.899851 0.351356 52973 4.01 2650\n",
      "-0.163\n",
      "-0.248387 0.880355 -0.404077 53138 3.02 2653\n",
      "-0.26\n",
      "-0.259454 0.885741 0.384899 53257 6.00 2659\n",
      "-0.203\n",
      "-0.267239 0.882958 0.385964 53791 7.68 2671\n",
      "-0.178\n",
      "-0.282616 0.919124 0.274478 54131 5.47 2684\n",
      "-0.044\n",
      "-0.218229 0.723744 -0.654652 54475 5.80 2691\n",
      "-0.26\n",
      "-0.237951 0.736109 0.633658 54716 4.91 2696\n",
      "-0.263\n",
      "-0.273407 0.849212 0.451760 54801 5.75 2700\n",
      "-0.300\n",
      "-0.227828 0.735412 -0.638172 54893 4.83 2702\n",
      "-0.28\n",
      "-0.306496 0.951857 -0.005269 55057 5.44 2707\n",
      "-0.30\n",
      "-0.164389 0.477982 0.862850 55280 5.20 2715\n",
      "-0.302\n",
      "-0.278638 0.854974 -0.437471 55522 5.91 2718\n",
      "-0.29\n",
      "-0.235815 0.722931 -0.649432 55719 5.30 2727\n",
      "-0.09\n",
      "-0.098640 0.318914 -0.942637 55865 3.78 2736\n",
      "-0.28\n",
      "-0.213294 0.651011 -0.728485 55892 4.49 2740\n",
      "-0.05\n",
      "-0.322774 0.946472 -0.002815 56003 6.42 2744\n",
      "-0.28\n",
      "-0.221384 0.669181 -0.709356 56022 4.87 2746\n",
      "-0.22\n",
      "-0.286284 0.845656 -0.450452 56139 4.01 2749\n",
      "-0.25\n",
      "-0.320362 0.903503 0.284693 56537 3.58 2763\n",
      "-0.301\n",
      "-0.176209 0.469503 0.865169 56820 6.36 2772\n",
      "-0.263\n",
      "-0.317623 0.871206 0.374321 56986 3.50 2777\n",
      "-0.306\n",
      "-0.305283 0.853701 -0.421897 57061 4.37 2782\n",
      "-0.20\n",
      "-0.201477 0.532718 0.821960 57103 5.80 2784\n",
      "-0.268\n",
      "-0.326020 0.902243 -0.282256 57167 5.70 2788\n",
      "-0.24\n",
      "-0.269586 0.754621 -0.598223 57219 5.11 2790\n",
      "-0.26\n",
      "-0.280713 0.750353 0.598473 57264 5.12 2793\n",
      "-0.327\n",
      "-0.123471 0.354408 -0.926904 57623 3.97 2803\n",
      "-0.27\n",
      "-0.322723 0.846503 0.423419 57727 5.04 2808\n",
      "-0.328\n",
      "-0.319488 0.826282 0.463881 57927 5.77 2816\n",
      "-0.241\n",
      "-0.354826 0.912790 0.202267 58187 5.37 2820\n",
      "-0.323\n",
      "-0.312850 0.813992 -0.489430 58350 2.45 2827\n",
      "-0.36\n",
      "-0.347404 0.871451 0.346241 58579 5.94 2837\n",
      "-0.367\n",
      "-0.347691 0.863386 0.365617 58728 5.20 2846\n",
      "-0.247\n",
      "-0.372000 0.920330 0.120866 58923 5.22 2851\n",
      "-0.322\n",
      "-0.370725 0.915692 0.155150 58972 4.33 2854\n",
      "-0.335\n",
      "-0.337486 0.816646 0.468180 59148 5.01 2861\n",
      "-0.373\n",
      "-0.295345 0.721064 -0.626769 59635 5.41 2875\n",
      "-0.27\n",
      "-0.390911 0.919822 0.033408 59881 5.24 2880\n",
      "-0.382\n",
      "-0.394872 0.916942 0.057395 60111 5.59 2887\n",
      "-0.340\n",
      "-0.340607 0.777768 0.528265 60179 1.98 2891\n",
      "-0.399\n",
      "-0.362465 0.814849 0.452372 60522 4.06 2905\n",
      "-0.366\n",
      "-0.366915 0.840652 -0.398344 60585 5.87 2910\n",
      "-0.32\n",
      "-0.069061 0.176140 -0.981940 60816 5.54 2919\n",
      "-0.35\n",
      "-0.341274 0.744142 0.574269 60986 5.58 2924\n",
      "-0.410\n",
      "-0.231435 0.491680 0.839458 61106 6.09 2929\n",
      "-0.345\n",
      "-0.246595 0.556068 -0.793712 61248 4.93 2934\n",
      "-0.33\n",
      "-0.400696 0.864444 0.303610 61338 5.04 2938\n",
      "-0.269\n",
      "-0.418137 0.903803 0.091111 61421 0.40 2943\n",
      "-0.375\n",
      "-0.225650 0.467781 0.854554 61497 4.93 2946\n",
      "-0.373\n",
      "-0.373076 0.810847 -0.450934 61556 4.62 2949\n",
      "-0.33\n",
      "-0.275030 0.601387 -0.750128 61715 5.68 2957\n",
      "-0.40\n",
      "-0.329934 0.711955 -0.619889 61831 4.84 2961\n",
      "-0.33\n",
      "-0.331213 0.711927 -0.619240 61899 5.76 2964\n",
      "-0.33\n",
      "-0.421621 0.891462 -0.165927 61935 3.94 2970\n",
      "-0.38\n",
      "-0.186431 0.371212 0.909640 62066 5.93 2975\n",
      "-0.204\n",
      "-0.395134 0.809110 0.434983 62285 5.30 2983\n",
      "-0.400\n",
      "-0.391537 0.791148 0.469877 62509 1.16 2990\n",
      "-0.415\n",
      "-0.383985 0.791314 -0.475792 62576 4.63 2993\n",
      "-0.38\n",
      "-0.330280 0.679451 -0.655180 62713 5.12 3002\n",
      "-0.42\n",
      "-0.439377 0.878658 0.186838 62832 5.25 3008\n",
      "-0.429\n",
      "-0.429668 0.866645 -0.253597 62864 6.06 3010\n",
      "-0.37\n",
      "-0.431664 0.866276 -0.251458 62952 5.03 3015\n",
      "-0.34\n",
      "-0.367807 0.741054 -0.561745 63077 5.36 3018\n",
      "-0.41\n",
      "-0.128484 0.269919 -0.954272 63295 3.93 3024\n",
      "-0.44\n",
      "-0.408563 0.801106 -0.437385 63462 4.40 3034\n",
      "-0.41\n",
      "-0.439871 0.847817 -0.296177 63697 5.17 3044\n",
      "-0.41\n",
      "-0.310064 0.606327 -0.732276 63744 4.69 3046\n",
      "-0.31\n",
      "-0.468093 0.883141 0.030833 63975 5.12 3059\n",
      "-0.456\n",
      "-0.454878 0.857554 -0.240181 64096 5.16 3064\n",
      "-0.32\n",
      "-0.323809 0.591986 0.738038 64144 5.47 3066\n",
      "-0.424\n",
      "-0.454971 0.852849 -0.256225 64238 5.69 3073\n",
      "-0.38\n",
      "-0.357222 0.670301 -0.650454 64440 3.71 3080\n",
      "-0.36\n",
      "-0.454704 0.823143 0.340118 64648 5.38 3086\n",
      "-0.316\n",
      "-0.470150 0.839589 0.272119 64960 5.80 3095\n",
      "-0.449\n",
      "-0.250733 0.426902 0.868843 65339 6.02 3109\n",
      "-0.493\n",
      "-0.423919 0.751810 -0.505049 65456 4.76 3113\n",
      "-0.35\n",
      "-0.293673 0.525579 -0.798450 65575 3.46 3117\n",
      "-0.27\n",
      "-0.344301 0.609405 -0.714201 65685 5.14 3121\n",
      "-0.49\n",
      "-0.456044 0.797142 -0.395712 65699 5.09 3123\n",
      "-0.45\n",
      "-0.480200 0.825161 0.297520 65759 5.60 3128\n",
      "-0.322\n",
      "-0.458729 0.780874 0.424033 65856 6.32 3132\n",
      "-0.484\n",
      "-0.504460 0.863093 -0.024300 65953 4.69 3141\n",
      "-0.50\n",
      "-0.454022 0.759229 0.466300 66216 4.94 3149\n",
      "-0.223\n",
      "-0.505508 0.832436 0.226963 66664 5.14 3163\n",
      "-0.393\n",
      "-0.383661 0.618988 0.685316 66824 6.35 3167\n",
      "-0.487\n",
      "-0.483304 0.786317 0.384867 66875 5.96 3169\n",
      "-0.330\n",
      "-0.491956 0.789100 0.367832 67228 5.30 3176\n",
      "-0.200\n",
      "-0.517513 0.822534 0.235837 67483 6.25 3184\n",
      "-0.481\n",
      "-0.531395 0.845523 -0.052053 67594 4.36 3188\n",
      "-0.48\n",
      "-0.503890 0.798407 -0.329608 67797 4.40 3192\n",
      "-0.52\n",
      "-0.362782 0.572269 -0.735457 68243 4.27 3206\n",
      "-0.51\n",
      "-0.519745 0.798722 0.303165 68257 6.02 3208\n",
      "-0.362\n",
      "-0.528236 0.819097 -0.223710 68290 4.72 3211\n",
      "-0.47\n",
      "-0.256266 0.406100 -0.877160 68456 4.74 3220\n",
      "-0.27\n",
      "-0.193114 0.309255 -0.931165 68520 4.35 3223\n",
      "-0.41\n",
      "-0.528777 0.803969 -0.272082 68752 4.99 3229\n",
      "-0.37\n",
      "-0.286576 0.417593 0.862259 68930 5.63 3235\n",
      "-0.445\n",
      "-0.420781 0.635440 -0.647425 69142 4.42 3243\n",
      "-0.26\n",
      "-0.352328 0.534484 -0.768239 69194 5.52 3247\n",
      "-0.54\n",
      "-0.553863 0.817162 0.159634 69267 3.53 3249\n",
      "-0.306\n",
      "-0.541559 0.792515 -0.280417 69665 6.32 3257\n",
      "-0.25\n",
      "-0.510268 0.728302 0.457387 69897 5.13 3262\n",
      "-0.525\n",
      "-0.455974 0.660007 -0.597059 70060 4.44 3270\n",
      "-0.42\n",
      "-0.484882 0.683660 -0.545435 70555 4.83 3282\n",
      "-0.55\n",
      "-0.568395 0.791142 -0.225881 70673 6.13 3289\n",
      "-0.57\n",
      "-0.386101 0.538663 -0.748845 70930 4.79 3294\n",
      "-0.58\n",
      "-0.568131 0.768954 0.293150 71030 6.11 3299\n",
      "-0.181\n",
      "-0.181957 0.259839 -0.948354 71066 5.63 3302\n",
      "-0.52\n",
      "-0.295572 0.412416 -0.861714 71129 1.86 3307\n",
      "-0.53\n",
      "-0.532742 0.714837 0.452984 71151 6.30 3311\n",
      "-0.543\n",
      "-0.543244 0.729692 0.415253 71153 7.81 3313\n",
      "-0.592\n",
      "-0.128608 0.186217 -0.974055 71243 4.05 3318\n",
      "-0.58\n",
      "-0.594970 0.800735 -0.069535 71297 5.60 3321\n",
      "-0.29\n",
      "-0.551112 0.727293 0.409048 71496 6.05 3329\n",
      "-0.585\n",
      "-0.165976 0.232528 -0.958323 71576 5.28 3334\n",
      "-0.12\n",
      "-0.240268 0.325483 -0.914512 71878 3.77 3347\n",
      "-0.36\n",
      "-0.262519 0.328255 0.907376 72037 5.47 3354\n",
      "-0.560\n",
      "-0.583893 0.750070 0.310586 72094 5.33 3357\n",
      "-0.405\n",
      "-0.499074 0.631009 0.593930 72291 6.20 3365\n",
      "-0.579\n",
      "-0.565204 0.716943 0.408090 72324 6.35 3369\n",
      "-0.608\n",
      "-0.502939 0.628154 0.593696 72524 5.76 3377\n",
      "-0.590\n",
      "-0.270306 0.324444 0.906460 72905 5.63 3391\n",
      "-0.621\n",
      "-0.278780 0.331605 0.901288 73108 4.59 3403\n",
      "-0.624\n",
      "-0.402204 0.502361 -0.765419 73155 5.01 3407\n",
      "-0.63\n",
      "-0.627505 0.760639 0.166332 73316 6.54 3412\n",
      "-0.396\n",
      "-0.332193 0.412694 -0.848134 73389 4.84 3414\n",
      "-0.33\n",
      "-0.637539 0.768210 0.058287 73471 4.45 3418\n",
      "-0.570\n",
      "-0.450223 0.531742 0.717321 73593 5.35 3422\n",
      "-0.464\n",
      "-0.604330 0.719528 0.342148 73665 6.39 3427\n",
      "-0.607\n",
      "-0.627693 0.747888 -0.216020 73840 4.98 3431\n",
      "-0.55\n",
      "-0.524828 0.624899 -0.577976 74006 3.97 3438\n",
      "-0.62\n",
      "-0.442689 0.524658 -0.727159 74180 3.77 3445\n",
      "-0.38\n",
      "-0.608352 0.704243 0.365991 74198 4.66 3449\n",
      "-0.637\n",
      "-0.438527 0.517007 -0.735117 74272 4.74 3452\n",
      "-0.65\n",
      "-0.324751 0.384913 -0.863932 74375 4.31 3457\n",
      "-0.64\n",
      "-0.214738 0.257998 -0.941979 74405 5.19 3460\n",
      "-0.62\n",
      "-0.567960 0.645602 0.510509 74485 6.12 3464\n",
      "-0.648\n",
      "-0.547928 0.632587 -0.547365 74575 3.68 3468\n",
      "-0.65\n",
      "-0.582760 0.654842 0.481221 74738 6.58 3474\n",
      "-0.582\n",
      "-0.422560 0.487510 -0.764053 74753 5.15 3476\n",
      "-0.48\n",
      "-0.650854 0.729641 0.209791 74873 5.89 3481\n",
      "-0.660\n",
      "-0.645375 0.727060 -0.234255 74918 4.32 3484\n",
      "-0.38\n",
      "-0.460011 0.519823 -0.719843 75063 3.87 3487\n",
      "-0.66\n",
      "-0.364387 0.409305 -0.836476 75311 4.50 3498\n",
      "-0.67\n",
      "-0.123899 0.145934 -0.981505 75416 5.46 3502\n",
      "-0.32\n",
      "-0.492723 0.528624 0.691217 75506 5.15 3508\n",
      "-0.654\n",
      "-0.514245 0.562910 -0.647058 75630 5.47 3514\n",
      "-0.59\n",
      "-0.576909 0.615544 0.536918 75698 5.67 3519\n",
      "-0.474\n",
      "-0.602053 0.642937 0.473461 75716 6.25 3521\n",
      "-0.601\n",
      "-0.675305 0.726880 -0.124939 75737 5.55 3523\n",
      "-0.12\n",
      "-0.466029 0.506103 -0.725725 75821 5.09 3527\n",
      "-0.29\n",
      "-0.593290 0.623861 0.508728 75959 5.40 3532\n",
      "-0.612\n",
      "-0.661623 0.688842 0.296229 76221 6.28 3541\n",
      "-0.689\n",
      "-0.680179 0.704801 0.201523 76351 5.44 3550\n",
      "-0.686\n",
      "-0.686370 0.713909 -0.138674 76370 6.67 3553\n",
      "-0.58\n",
      "-0.613829 0.638279 -0.464558 76483 4.87 3556\n",
      "-0.67\n",
      "-0.605509 0.616293 0.503529 76572 6.25 3563\n",
      "-0.673\n",
      "-0.471134 0.474377 0.743639 76644 3.12 3569\n",
      "-0.339\n",
      "-0.687433 0.696572 0.205483 76756 4.26 3572\n",
      "-0.421\n",
      "-0.595720 0.598091 0.536101 76813 5.23 3575\n",
      "-0.272\n",
      "-0.528751 0.525779 0.666317 76943 3.96 3579\n",
      "-0.356\n",
      "-0.601652 0.594335 0.533649 77104 5.89 3587\n",
      "-0.629\n",
      "-0.531811 0.531390 -0.659395 77258 4.45 3591\n",
      "-0.48\n",
      "-0.651324 0.635945 0.413946 77350 5.45 3595\n",
      "-0.362\n",
      "-0.636178 0.613468 0.467904 77557 6.67 3601\n",
      "-0.287\n",
      "-0.722431 0.685723 0.088761 77996 4.99 3613\n",
      "-0.490\n",
      "-0.286143 0.280098 -0.916334 78045 4.00 3615\n",
      "-0.28\n",
      "-0.455842 0.421844 0.783745 78209 4.46 3619\n",
      "-0.635\n",
      "-0.717972 0.671003 0.185122 78316 5.23 3623\n",
      "-0.330\n",
      "-0.655870 0.607394 0.448227 78418 5.95 3626\n",
      "-0.681\n",
      "-0.658254 0.613576 -0.436151 78541 4.62 3628\n",
      "-0.72\n",
      "-0.531089 0.495264 -0.687501 78647 2.23 3634\n",
      "-0.63\n",
      "-0.684558 0.625374 0.374549 78715 6.04 3640\n",
      "-0.727\n",
      "-0.241314 0.229721 -0.942866 78764 4.66 3642\n",
      "-0.21\n",
      "-0.635986 0.583079 -0.505511 78922 5.59 3644\n",
      "-0.35\n",
      "-0.718677 0.645411 0.258742 79096 6.49 3650\n",
      "-0.545\n",
      "-0.738687 0.662587 -0.123773 79193 6.10 3655\n",
      "-0.38\n",
      "-0.413629 0.360101 0.836205 79354 5.28 3660\n",
      "-0.443\n",
      "-0.344270 0.311948 -0.885532 79447 3.96 3663\n",
      "-0.74\n",
      "-0.727062 0.636319 0.257833 79554 5.36 3669\n",
      "-0.546\n",
      "-0.595548 0.522499 -0.610178 79807 5.85 3677\n",
      "-0.05\n",
      "-0.752049 0.649751 -0.110657 79910 5.24 3681\n",
      "-0.58\n",
      "-0.747884 0.646185 -0.152033 79931 5.49 3683\n",
      "-0.59\n",
      "-0.258826 0.230597 -0.937995 80007 1.67 3685\n",
      "-0.61\n",
      "-0.405354 0.351743 -0.843780 80230 4.34 3696\n",
      "-0.48\n",
      "-0.387182 0.333351 -0.859632 80404 2.21 3699\n",
      "-0.47\n",
      "-0.634571 0.527497 0.564859 80493 3.14 3705\n",
      "-0.748\n",
      "-0.756752 0.632273 -0.166005 80586 4.80 3709\n",
      "-0.69\n",
      "-0.356078 0.296286 -0.886241 81101 4.79 3728\n",
      "-0.69\n",
      "-0.678882 0.553654 -0.482272 81169 4.71 3733\n",
      "-0.44\n",
      "-0.777865 0.622070 -0.089197 81420 5.60 3738\n",
      "-0.55\n",
      "-0.775813 0.610263 -0.160289 81728 6.53 3744\n",
      "-0.77\n",
      "-0.727118 0.571646 -0.380157 81799 4.72 3749\n",
      "-0.46\n",
      "-0.779396 0.606435 0.157413 81858 5.40 3754\n",
      "-0.781\n",
      "-0.361241 0.273387 0.891496 81937 3.65 3757\n",
      "-0.790\n",
      "-0.661962 0.504643 0.554203 82087 5.87 3764\n",
      "-0.640\n",
      "-0.246361 0.180821 0.952161 82189 5.77 3768\n",
      "-0.652\n",
      "-0.277605 0.204513 0.938675 82210 4.54 3771\n",
      "-0.734\n",
      "-0.496628 0.371281 0.784545 82328 3.17 3775\n",
      "-0.787\n",
      "-0.675300 0.514643 -0.528311 82383 7.00 3780\n",
      "-0.67\n",
      "-0.783016 0.590331 0.195947 82395 4.99 3782\n",
      "-0.604\n",
      "-0.798418 0.601749 -0.020675 82446 4.54 3787\n",
      "-0.67\n",
      "-0.645261 0.479626 0.594641 82522 6.19 3791\n",
      "-0.124\n",
      "-0.495647 0.364006 0.788564 82621 4.47 3799\n",
      "-0.647\n",
      "-0.433453 0.328941 -0.838997 82668 3.16 3803\n",
      "-0.80\n",
      "-0.655382 0.477619 0.585110 82885 5.40 3815\n",
      "-0.365\n",
      "-0.783378 0.569775 0.248345 83023 6.32 3818\n",
      "-0.503\n",
      "-0.232118 0.175541 -0.956717 83095 5.46 3821\n",
      "-0.41\n",
      "-0.778508 0.560223 0.282977 83189 5.73 3826\n",
      "-0.806\n",
      "-0.622155 0.442293 0.645988 83287 5.28 3829\n",
      "-0.802\n",
      "-0.812588 0.577175 0.081059 83425 4.68 3834\n",
      "-0.528\n",
      "-0.251926 0.171604 0.952410 83506 5.15 3839\n",
      "-0.593\n",
      "-0.818627 0.573979 -0.019942 83618 3.90 3845\n",
      "-0.80\n",
      "-0.794399 0.554663 -0.247544 83754 5.07 3849\n",
      "-0.63\n",
      "-0.809803 0.560985 0.171798 83808 3.52 3852\n",
      "-0.740\n",
      "-0.392242 0.276310 -0.877382 83944 4.51 3856\n",
      "-0.67\n",
      "-0.753622 0.521425 -0.400214 83953 4.76 3858\n",
      "-0.12\n",
      "-0.717207 0.485794 0.499618 84107 5.64 3861\n",
      "-0.369\n",
      "-0.803700 0.543473 0.242289 84194 5.36 3866\n",
      "-0.453\n",
      "-0.733992 0.494143 -0.465917 84367 4.78 3871\n",
      "-0.76\n",
      "-0.488142 0.330171 -0.807901 84461 5.56 3875\n",
      "-0.81\n",
      "-0.820312 0.535606 0.200534 84722 6.44 3880\n",
      "-0.583\n",
      "-0.821011 0.535423 0.198152 84748 6.02 3882\n",
      "-0.384\n",
      "-0.435081 0.274529 0.857519 84999 3.78 3888\n",
      "-0.786\n",
      "-0.352580 0.230936 -0.906838 85123 2.92 3890\n",
      "-0.35\n",
      "-0.842142 0.533910 0.075741 85217 6.24 3893\n",
      "-0.497\n",
      "-0.823906 0.519681 0.226078 85268 6.45 3896\n",
      "-0.588\n",
      "-0.843952 0.531292 -0.073991 85364 6.01 3899\n",
      "-0.77\n",
      "-0.190946 0.125977 -0.973483 85396 5.43 3902\n",
      "-0.81\n",
      "-0.763762 0.473709 0.438482 85503 3.88 3905\n",
      "-0.847\n",
      "-0.840738 0.522765 -0.140986 85558 5.07 3909\n",
      "-0.58\n",
      "-0.552628 0.332982 0.764019 85795 5.27 3917\n",
      "-0.649\n",
      "-0.841866 0.494794 0.215499 86360 5.26 3937\n",
      "-0.498\n",
      "-0.863901 0.500189 0.059041 86611 6.69 3945\n",
      "-0.699\n",
      "-0.857965 0.494280 0.139938 86663 4.68 3950\n",
      "-0.736\n",
      "-0.873553 0.483514 0.055844 87301 6.43 3961\n",
      "-0.854\n",
      "-0.876239 0.471852 0.097783 87682 6.20 3973\n",
      "-0.720\n",
      "-0.844116 0.451983 0.288408 87737 3.48 3975\n",
      "-0.869\n",
      "-0.882803 0.469699 -0.006486 87887 4.48 3981\n",
      "-0.86\n",
      "-0.117528 0.067355 -0.990783 87971 5.53 3983\n",
      "-0.87\n",
      "-0.547069 0.288017 -0.785978 88206 4.85 3990\n",
      "-0.86\n",
      "-0.879302 0.453205 -0.146400 88333 5.64 3996\n",
      "-0.12\n",
      "-0.866209 0.443088 0.230987 88355 6.43 3998\n",
      "-0.421\n",
      "-0.889705 0.449391 0.080455 88547 5.77 4004\n",
      "-0.448\n",
      "-0.765145 0.376888 0.522024 88786 6.47 4014\n",
      "-0.664\n",
      "-0.784132 0.381425 0.489543 88960 5.49 4024\n",
      "-0.358\n",
      "-0.379930 0.181144 0.907105 88983 5.74 4026\n",
      "-0.789\n",
      "-0.825175 0.400059 0.398797 89010 5.95 4030\n",
      "-0.659\n",
      "-0.825972 0.399780 0.397426 89025 3.43 4031\n",
      "-0.874\n",
      "-0.305355 0.152680 -0.939919 89080 3.29 4037\n",
      "-0.82\n",
      "-0.892963 0.427685 -0.140364 89254 5.25 4042\n",
      "-0.43\n",
      "-0.854019 0.399422 0.333337 89449 4.78 4054\n",
      "-0.852\n",
      "-0.852470 0.397619 0.339404 89485 3.80 4058\n",
      "-0.907\n",
      "-0.681973 0.309608 0.662613 89758 3.06 4069\n",
      "-0.878\n",
      "-0.507171 0.234041 -0.829459 89890 4.50 4074\n",
      "-0.75\n",
      "-0.905837 0.408013 0.113947 89962 6.06 4077\n",
      "-0.680\n",
      "-0.760076 0.337837 0.555113 90040 5.52 4081\n",
      "-0.910\n",
      "-0.905013 0.397022 0.152726 90254 5.61 4088\n",
      "-0.357\n",
      "-0.761972 0.331653 0.556241 90277 4.72 4090\n",
      "-0.877\n",
      "-0.737809 0.313619 0.597730 90537 4.20 4100\n",
      "-0.906\n",
      "-0.251516 0.111462 -0.961413 90589 3.99 4102\n",
      "-0.78\n",
      "-0.381208 0.158083 0.910873 90633 6.32 4106\n",
      "-0.492\n",
      "-0.517472 0.212681 0.828848 90839 4.82 4112\n",
      "-0.718\n",
      "-0.477572 0.203014 -0.854816 90853 3.81 4114\n",
      "-0.92\n",
      "-0.794573 0.330790 -0.509148 90972 5.57 4118\n",
      "-0.92\n",
      "-0.782826 0.316854 0.535525 91130 5.90 4124\n",
      "-0.899\n",
      "-0.916282 0.366434 0.161717 91316 3.84 4133\n",
      "-0.548\n",
      "-0.654805 0.264700 -0.707930 91355 5.76 4135\n",
      "-0.76\n",
      "-0.285779 0.117885 -0.951017 91375 4.72 4138\n",
      "-0.43\n",
      "-0.506619 0.196605 0.839454 91480 5.16 4141\n",
      "-0.633\n",
      "-0.851675 0.335420 -0.402670 91550 5.08 4145\n",
      "-0.92\n",
      "-0.921463 0.358168 0.150406 91636 5.67 4148\n",
      "-0.752\n",
      "-0.718774 0.278741 -0.636921 91793 5.50 4153\n",
      "-0.89\n",
      "-0.500474 0.193146 -0.843932 91942 4.45 4159\n",
      "-0.91\n",
      "-0.473196 0.180832 -0.862198 92063 5.08 4164\n",
      "-0.79\n",
      "-0.623299 0.235201 -0.745774 92139 3.84 4167\n",
      "-0.74\n",
      "-0.897182 0.332842 -0.290312 92214 4.91 4171\n",
      "-0.18\n",
      "-0.480440 0.177839 -0.858808 92397 4.69 4177\n",
      "-0.38\n",
      "-0.530264 0.194819 -0.825146 92449 4.29 4180\n",
      "-0.94\n",
      "-0.511990 0.176987 0.840560 92728 5.79 4187\n",
      "-0.846\n",
      "-0.868371 0.301476 0.393756 92825 5.08 4192\n",
      "-0.941\n",
      "-0.407983 0.142560 -0.901791 93030 2.74 4199\n",
      "-0.46\n",
      "-0.946259 0.320484 0.043411 93102 6.27 4201\n",
      "-0.511\n",
      "-0.815406 0.273365 0.510279 93152 5.36 4203\n",
      "-0.942\n",
      "-0.897773 0.298614 0.323779 93257 5.50 4208\n",
      "-0.919\n",
      "-0.478021 0.162127 -0.863256 93308 6.21 4210\n",
      "-0.90\n",
      "-0.617580 0.204339 -0.759500 93497 2.69 4216\n",
      "-0.82\n",
      "-0.936646 0.298665 0.183012 93702 5.32 4227\n",
      "-0.950\n",
      "-0.842165 0.265956 0.469069 93765 6.05 4230\n",
      "-0.156\n",
      "-0.915400 0.290277 -0.278893 93813 3.11 4232\n",
      "-0.15\n",
      "-0.526098 0.162893 0.834677 93859 5.66 4235\n",
      "-0.487\n",
      "-0.942629 0.295849 -0.154671 93903 5.80 4237\n",
      "-0.55\n",
      "-0.792165 0.237244 0.562308 94264 3.79 4247\n",
      "-0.699\n",
      "-0.899609 0.268649 -0.344285 94388 5.23 4251\n",
      "-0.95\n",
      "-0.866266 0.253711 0.430365 94480 6.19 4254\n",
      "-0.795\n",
      "-0.495605 0.147999 -0.855846 94510 3.78 4257\n",
      "-0.80\n",
      "-0.872542 0.251788 0.418656 94601 4.30 4259\n",
      "-0.872\n",
      "-0.960827 0.276849 0.012862 94672 5.91 4265\n",
      "-0.955\n",
      "-0.868239 0.246612 0.430515 94747 6.36 4270\n",
      "-0.472\n",
      "-0.766991 0.217338 -0.603729 94890 4.60 4273\n",
      "-0.73\n",
      "-0.916842 0.246614 -0.313978 95272 4.08 4287\n",
      "-0.74\n",
      "-0.964630 0.255944 0.063096 95345 4.84 4291\n",
      "-0.715\n",
      "-0.961288 0.254220 0.106290 95382 4.98 4294\n",
      "-0.535\n",
      "-0.967049 0.250871 -0.043349 95578 4.73 4299\n",
      "-0.90\n",
      "-0.459109 0.115042 0.880900 95689 1.81 4301\n",
      "-0.969\n",
      "-0.762510 0.188274 0.618976 95934 6.01 4309\n",
      "-0.963\n",
      "-0.090923 0.024688 -0.995552 96124 6.19 4312\n",
      "-0.86\n",
      "-0.864123 0.207620 -0.458460 96314 5.69 4317\n",
      "-0.97\n",
      "-0.894441 0.207888 0.395926 96528 6.48 4322\n",
      "-0.450\n",
      "-0.886242 0.201276 0.417208 96738 5.70 4332\n",
      "-0.696\n",
      "-0.502498 0.114649 -0.856943 96918 3.93 4337\n",
      "-0.45\n",
      "-0.901262 0.192975 -0.387928 97277 4.46 4343\n",
      "-0.92\n",
      "-0.484638 0.101687 -0.868784 97534 4.59 4352\n",
      "-0.97\n",
      "-0.917811 0.186285 0.350600 97603 2.56 4357\n",
      "-0.944\n",
      "-0.902337 0.178651 0.392265 97778 4.56 4362\n",
      "-0.955\n",
      "-0.980181 0.187588 -0.063688 98058 4.45 4368\n",
      "-0.98\n",
      "-0.838213 0.154645 0.522957 98230 3.79 4374\n",
      "-0.838\n",
      "-0.824062 0.150949 0.546018 98262 3.49 4377\n",
      "-0.773\n",
      "-0.983567 0.178229 0.028803 98366 5.90 4381\n",
      "-0.951\n",
      "-0.980205 0.167825 0.105038 98664 4.05 4386\n",
      "-0.572\n",
      "-0.716058 0.117173 0.688136 98839 4.99 4392\n",
      "-0.934\n",
      "-0.971004 0.154127 0.182745 99028 4.00 4399\n",
      "-0.987\n",
      "-0.970407 0.151050 -0.188399 99167 4.81 4402\n",
      "-0.94\n",
      "-0.948257 0.143378 0.283288 99285 5.58 4408\n",
      "-0.986\n",
      "-0.988135 0.144318 0.052557 99491 6.49 4414\n",
      "-0.966\n",
      "-0.989000 0.139271 0.049831 99648 4.95 4418\n",
      "-0.766\n",
      "-0.955619 0.127092 0.265781 99902 5.74 4426\n",
      "-0.723\n",
      "-0.990261 0.128987 -0.052396 99998 4.77 4432\n",
      "-0.94\n",
      "-0.350223 0.043925 0.935636 100029 3.82 4434\n",
      "-0.96\n",
      "-0.504557 0.062471 -0.861115 100261 5.07 4441\n",
      "-0.5\n",
      "-0.866023 0.105285 -0.488794 100286 4.93 4443\n",
      "-0.8\n",
      "-0.843478 0.099816 -0.527809 100407 3.54 4450\n",
      "-0.9\n",
      "-0.951512 0.105433 0.288980 100600 5.95 4456\n",
      "-0.58\n",
      "-0.351168 0.036842 0.935587 100696 5.19 4461\n",
      "-0.67\n",
      "-0.670053 0.070644 -0.738944 100825 5.26 4466\n",
      "-0.4\n",
      "-0.980305 0.100084 -0.170248 100889 4.70 4468\n",
      "-0.9\n",
      "-0.669182 0.065710 -0.740187 101067 5.46 4476\n",
      "-0.7\n",
      "-0.242476 0.024132 -0.969857 101132 5.64 4479\n",
      "-0.6\n",
      "-0.985570 0.092903 0.141493 101153 5.24 4483\n",
      "-0.96\n",
      "-0.818640 0.070853 -0.569920 101431 4.70 4494\n",
      "-0.9\n",
      "-0.824230 0.068305 0.562120 101501 5.31 4496\n",
      "-0.84\n",
      "-0.393673 0.030164 0.918755 101673 5.32 4504\n",
      "-0.94\n",
      "-0.987591 0.063504 0.143634 102124 4.84 4515\n",
      "-0.99\n",
      "-0.670744 0.040871 0.740562 102224 3.69 4518\n",
      "-0.39\n",
      "-0.937090 0.049163 0.345608 102509 4.50 4527\n",
      "-0.98\n",
      "-0.393185 0.020191 -0.919237 102584 4.75 4530\n",
      "-0.9\n",
      "-0.441239 0.019873 -0.897170 102776 4.30 4537\n",
      "-0.9\n",
      "-0.704437 0.027228 -0.709244 102964 4.47 4546\n",
      "-0.8\n",
      "-0.591873 0.015941 0.805874 103287 2.41 4554\n",
      "-0.68\n",
      "-0.988930 0.021352 0.146841 103484 5.58 4559\n",
      "-0.68\n",
      "-0.962771 0.018169 0.269707 103578 5.53 4564\n",
      "-0.55\n",
      "-0.955388 0.016608 -0.294888 103632 5.17 4567\n",
      "-0.2\n",
      "-0.997966 0.000224 0.063752 104181 5.36 4585\n",
      "-0.99\n",
      "-0.941705 -0.003504 -0.336421 104337 5.28 4590\n",
      "-0.\n",
      "-0.449078 -0.005934 -0.893473 104671 4.32 4599\n",
      "-0.\n",
      "-0.451331 -0.008510 -0.892316 104841 4.72 4603\n",
      "-0.\n",
      "-0.988152 -0.022472 0.151827 104979 4.12 4608\n",
      "-0.4\n",
      "-0.659673 -0.023744 -0.751177 105416 5.34 4620\n",
      "-0.\n",
      "-0.907686 -0.033333 -0.418323 105452 4.02 4623\n",
      "-0.\n",
      "-0.993910 -0.043649 0.101177 105702 5.72 4629\n",
      "-0.9\n",
      "-0.956263 -0.043956 0.289187 105778 6.40 4632\n",
      "-0.9\n",
      "-0.609793 -0.031031 -0.791953 105937 3.97 4638\n",
      "-0.\n",
      "-0.543127 -0.027866 0.839188 106002 6.34 4641\n",
      "-0.9\n",
      "-0.339002 -0.018929 -0.940595 106111 6.05 4645\n",
      "-0.\n",
      "-0.696806 -0.042757 -0.715984 106321 5.31 4652\n",
      "-0.\n",
      "-0.517657 -0.034260 -0.854902 106490 2.79 4656\n",
      "-0.\n",
      "-0.951229 -0.065715 -0.301404 106625 2.58 4662\n",
      "-0.\n",
      "-0.756710 -0.053331 0.651572 106690 5.69 4666\n",
      "-0.9\n",
      "-0.374140 -0.028751 -0.926926 106849 4.06 4671\n",
      "-0.\n",
      "-0.436905 -0.035226 -0.898817 106983 4.06 4679\n",
      "-0.\n",
      "-0.569568 -0.047320 -0.820581 107079 5.01 4682\n",
      "-0.\n",
      "-0.878468 -0.074903 0.471893 107213 6.38 4688\n",
      "-0.9\n",
      "-0.653817 -0.056661 0.754528 107274 5.28 4690\n",
      "-0.9\n",
      "-0.922043 -0.082946 -0.378097 107348 5.20 4696\n",
      "-0.\n",
      "-0.491777 -0.045975 -0.869507 107446 3.59 4700\n",
      "-0.\n",
      "-0.380547 -0.036849 -0.924027 107566 5.15 4703\n",
      "-0.\n",
      "-0.895632 -0.088233 0.435957 107700 4.78 4707\n",
      "-0.9\n",
      "-0.902770 -0.092337 -0.420095 107815 5.66 4711\n",
      "-0.\n",
      "-0.732809 -0.076325 0.676140 107904 6.03 4715\n",
      "-0.6\n",
      "-0.892991 -0.095075 0.439917 107966 5.17 4717\n",
      "-0.8\n",
      "-0.544616 -0.059774 0.836553 108135 5.82 4726\n",
      "-0.7\n",
      "-0.449406 -0.052393 -0.891790 108248 0.77 4730\n",
      "-0.\n",
      "-0.449062 -0.052187 -0.891975 108250 4.86 4729\n",
      "-0.\n",
      "-0.882980 -0.102169 0.458157 108283 4.92 4733\n",
      "-0.8\n",
      "-0.886203 -0.104843 0.451278 108382 4.98 4738\n",
      "-0.6\n",
      "-0.559266 -0.067643 0.826224 108502 5.68 4745\n",
      "-0.7\n",
      "-0.892497 -0.112523 0.436792 108651 6.63 4751\n",
      "-0.8\n",
      "-0.905245 -0.116972 0.408473 108722 5.47 4753\n",
      "-0.9\n",
      "-0.950616 -0.124587 -0.284268 108767 2.94 4757\n",
      "-0.\n",
      "-0.616689 -0.081330 0.782995 108845 6.21 4761\n",
      "-0.5\n",
      "-0.537978 -0.073611 -0.839739 108903 1.59 4763\n",
      "-0.\n",
      "-0.538398 -0.073939 -0.839441 108925 6.42 4764\n",
      "-0.\n",
      "-0.503832 -0.070075 -0.860954 108968 5.49 4768\n",
      "-0.\n",
      "-0.950925 -0.133960 -0.278922 109085 4.30 4775\n",
      "-0.\n",
      "-0.901764 -0.133042 0.411244 109307 6.28 4780\n",
      "-0.9\n",
      "-0.742485 -0.110142 0.660746 109358 4.24 4785\n",
      "-0.9\n",
      "-0.341810 -0.050297 0.938422 109387 3.85 4787\n",
      "-0.9\n",
      "-0.937891 -0.144799 0.315269 109510 6.57 4791\n",
      "-0.9\n",
      "-0.337746 -0.051584 0.939823 109551 4.95 4795\n",
      "-0.3\n",
      "-0.982034 -0.159009 -0.101610 109704 5.88 4799\n",
      "-0.\n",
      "-0.943435 -0.153532 0.293867 109742 5.70 4801\n",
      "-0.6\n",
      "-0.978599 -0.165957 0.121667 109914 7.08 4808\n",
      "-0.7\n",
      "-0.975794 -0.168754 -0.139095 110014 4.66 4813\n",
      "-0.\n",
      "-0.754619 -0.132639 -0.642617 110073 4.63 4817\n",
      "-0.\n",
      "-0.345805 -0.064222 -0.936106 110311 6.31 4820\n",
      "-0.\n",
      "-0.967351 -0.177430 0.180970 110377 6.22 4824\n",
      "-0.9\n",
      "-0.983209 -0.180719 -0.025295 110380 3.68 4826\n",
      "-0.\n",
      "-0.976362 -0.180749 0.118519 110423 5.57 4829\n",
      "-0.6\n",
      "-0.450927 -0.082691 0.888722 110462 6.02 4833\n",
      "-0.4\n",
      "-0.365280 -0.074784 -0.927889 110879 3.04 4844\n",
      "-0.\n",
      "-0.688093 -0.137278 0.712519 110914 5.42 4846\n",
      "-0.9\n",
      "-0.966049 -0.198183 0.165750 111028 5.65 4849\n",
      "-0.9\n",
      "-0.493796 -0.104334 -0.863296 111123 1.25 4853\n",
      "-0.\n",
      "-0.976376 -0.206898 0.062315 111239 6.42 4858\n",
      "-0.9\n",
      "-0.385638 -0.081218 0.919069 111335 5.43 4863\n",
      "-0.9\n",
      "-0.648142 -0.139830 0.748572 111421 6.25 4866\n",
      "-0.8\n",
      "-0.082576 -0.020196 -0.996380 111482 5.45 4870\n",
      "-0.\n",
      "-0.973360 -0.222997 0.053325 111765 6.02 4878\n",
      "-0.8\n",
      "-0.931234 -0.215867 0.293606 111862 6.32 4884\n",
      "-0.6\n",
      "-0.743361 -0.176531 -0.645175 111968 4.25 4889\n",
      "-0.\n",
      "-0.971320 -0.229559 -0.061973 111998 6.11 4891\n",
      "-0.\n",
      "-0.498329 -0.121142 -0.858483 112078 4.62 4897\n",
      "-0.\n",
      "-0.526726 -0.127901 -0.840357 112092 4.03 4898\n",
      "-0.\n",
      "-0.958570 -0.231694 -0.165718 112142 4.77 4902\n",
      "-0.\n",
      "-0.660051 -0.161337 0.733691 112264 5.75 4909\n",
      "-0.9\n",
      "-0.607291 -0.154438 -0.779324 112409 5.17 4913\n",
      "-0.\n",
      "-0.761248 -0.189909 0.620029 112413 2.89 4915\n",
      "-0.4\n",
      "-0.922827 -0.242635 0.299197 112769 4.76 4920\n",
      "-0.9\n",
      "-0.304889 -0.084930 -0.948594 112985 3.61 4923\n",
      "-0.\n",
      "-0.963578 -0.260893 -0.058759 112992 5.99 4925\n",
      "-0.\n",
      "-0.921846 -0.252017 0.294427 113095 5.97 4929\n",
      "-0.5\n",
      "-0.945851 -0.263105 0.190108 113226 2.85 4932\n",
      "-0.6\n",
      "-0.959409 -0.274686 -0.063889 113459 6.62 4937\n",
      "-0.\n",
      "-0.616787 -0.185371 -0.764991 113791 4.27 4942\n",
      "-0.\n",
      "-0.893801 -0.266261 0.360868 113848 6.00 4946\n",
      "-0.8\n",
      "-0.399453 -0.122353 -0.908552 113904 5.44 4952\n",
      "-0.\n",
      "-0.939681 -0.286826 -0.186359 114038 5.15 4955\n",
      "-0.\n",
      "-0.878265 -0.272938 -0.392626 114149 4.94 4958\n",
      "-0.\n",
      "-0.949329 -0.299095 -0.096522 114330 4.38 4963\n",
      "-0.\n",
      "-0.909440 -0.286712 0.301190 114378 4.32 4968\n",
      "-0.9\n",
      "-0.746342 -0.235516 0.622499 114447 5.91 4971\n",
      "-0.9\n",
      "-0.840838 -0.272726 0.467560 114710 4.23 4983\n",
      "-0.8\n",
      "-0.356209 -0.121350 -0.926493 114911 4.79 4993\n",
      "-0.\n",
      "-0.888851 -0.305953 -0.341082 115202 5.21 5001\n",
      "-0.\n",
      "-0.805057 -0.280686 -0.522589 115310 5.10 5006\n",
      "-0.\n",
      "-0.938921 -0.330668 0.095322 115521 4.78 5015\n",
      "-0.7\n",
      "-0.894346 -0.318534 -0.314135 115617 4.74 5019\n",
      "-0.\n",
      "-0.609688 -0.216628 0.762465 115735 5.14 5023\n",
      "-0.7\n",
      "-0.717895 -0.262416 0.644798 116010 5.60 5032\n",
      "-0.4\n",
      "-0.932637 -0.349451 0.089848 116235 5.89 5040\n",
      "-0.4\n",
      "-0.242938 -0.094623 -0.965416 116244 5.04 5042\n",
      "-0.\n",
      "-0.931197 -0.354264 -0.085841 116365 5.88 5047\n",
      "-0.\n",
      "-0.245085 -0.098163 -0.964519 116579 6.62 5051\n",
      "-0.\n",
      "-0.536579 -0.205812 0.818367 116657 3.95 5055\n",
      "-0.9\n",
      "-0.534534 -0.208470 0.819032 116842 3.99 5062\n",
      "-0.9\n",
      "-0.892239 -0.358018 -0.275195 116976 4.76 5068\n",
      "-0.\n",
      "-0.899808 -0.365523 0.238198 117176 4.97 5072\n",
      "-0.8\n",
      "-0.908738 -0.372781 0.187697 117304 5.65 5081\n",
      "-0.0\n",
      "-0.917283 -0.381961 -0.112688 117436 6.10 5088\n",
      "-0.\n",
      "-0.871686 -0.370223 -0.321090 117661 6.01 5094\n",
      "-0.\n",
      "-0.886190 -0.380103 -0.264933 117789 5.52 5099\n",
      "-0.\n",
      "-0.911536 -0.391682 -0.125247 117833 6.68 5101\n",
      "-0.\n",
      "-0.891631 -0.390817 -0.228594 118054 5.92 5106\n",
      "-0.\n",
      "-0.521305 -0.227000 0.822625 118214 5.60 5109\n",
      "-0.9\n",
      "-0.600932 -0.262716 0.754892 118232 4.68 5112\n",
      "-0.7\n",
      "-0.539643 -0.251318 -0.803507 118716 2.29 5132\n",
      "-0.\n",
      "-0.546970 -0.253633 0.797806 119024 5.46 5142\n",
      "-0.8\n",
      "-0.752181 -0.357804 -0.553354 119090 6.58 5147\n",
      "-0.\n",
      "-0.892908 -0.424050 -0.151314 119149 5.03 5150\n",
      "-0.\n",
      "-0.898859 -0.433871 0.061712 119425 5.35 5159\n",
      "-0.8\n",
      "-0.750687 -0.373023 -0.545274 119756 4.23 5168\n",
      "-0.\n",
      "-0.557133 -0.279771 -0.781876 119834 4.64 5172\n",
      "-0.\n",
      "-0.720216 -0.362780 -0.591337 119921 5.15 5174\n",
      "-0.\n",
      "-0.805118 -0.404589 0.433697 120064 5.97 5182\n",
      "-0.8\n",
      "-0.519871 -0.260885 0.813433 120198 5.68 5187\n",
      "-0.6\n",
      "-0.581457 -0.294806 0.758286 120315 1.85 5191\n",
      "-0.7\n",
      "-0.654817 -0.339486 -0.675252 120324 3.47 5193\n",
      "-0.\n",
      "-0.854516 -0.442364 0.272243 120477 4.05 5200\n",
      "-0.6\n",
      "-0.827159 -0.429279 0.362667 120539 4.92 5201\n",
      "-0.5\n",
      "-0.740849 -0.393200 -0.544552 120709 4.32 5210\n",
      "-0.\n",
      "-0.747260 -0.402397 -0.528847 120955 4.75 5221\n",
      "-0.\n",
      "-0.837671 -0.451114 0.307902 121107 5.71 5225\n",
      "-0.3\n",
      "-0.593921 -0.327661 -0.734776 121263 2.55 5231\n",
      "-0.\n",
      "-0.832538 -0.455260 0.315626 121370 2.68 5235\n",
      "-0.5\n",
      "-0.873488 -0.486501 0.018335 121607 5.90 5244\n",
      "-0.7\n",
      "-0.645343 -0.366127 -0.670436 121743 3.83 5248\n",
      "-0.\n",
      "-0.787975 -0.448176 -0.422178 121847 5.20 5250\n",
      "-0.\n",
      "-0.784812 -0.453131 -0.422779 122066 5.77 5257\n",
      "-0.\n",
      "-0.195095 -0.118777 -0.973566 122250 5.69 5261\n",
      "-0.\n",
      "-0.862098 -0.506024 0.026955 122408 4.23 5264\n",
      "-0.4\n",
      "-0.641659 -0.393389 -0.658421 122980 4.36 5285\n",
      "-0.\n",
      "-0.685294 -0.422786 -0.592979 123139 2.06 5288\n",
      "-0.\n",
      "-0.370316 -0.223368 0.901650 123299 3.67 5291\n",
      "-0.8\n",
      "-0.550800 -0.345146 0.759930 123782 5.26 5300\n",
      "-0.1\n",
      "-0.762951 -0.487924 0.424070 123999 4.82 5304\n",
      "-0.2\n",
      "-0.743893 -0.486638 -0.458046 124206 5.07 5312\n",
      "-0.\n",
      "-0.182440 -0.114945 0.976475 124547 4.80 5321\n",
      "-0.8\n",
      "-0.414899 -0.281357 -0.865273 124601 6.39 5326\n",
      "-0.\n",
      "-0.516566 -0.340233 0.785749 124675 4.53 5329\n",
      "-0.8\n",
      "-0.139677 -0.099987 -0.985136 124771 5.06 5336\n",
      "-0.\n",
      "-0.088392 -0.065963 -0.993899 124882 4.31 5339\n",
      "-0.\n",
      "-0.517337 -0.349499 0.781161 125161 4.75 5350\n",
      "-0.5\n",
      "-0.796308 -0.544601 0.263256 125180 5.84 5352\n",
      "-0.5\n",
      "-0.779050 -0.538627 -0.320876 125248 5.86 5355\n",
      "-0.\n",
      "-0.799108 -0.554929 -0.231258 125337 4.52 5359\n",
      "-0.\n",
      "-0.799918 -0.556322 0.225026 125451 5.41 5365\n",
      "-0.8\n",
      "-0.645405 -0.454263 -0.614082 125473 4.05 5367\n",
      "-0.\n",
      "-0.626050 -0.450848 -0.636237 125823 4.41 5378\n",
      "-0.\n",
      "-0.793604 -0.573562 -0.203025 126035 6.22 5383\n",
      "-0.\n",
      "-0.564309 -0.418253 -0.711772 126354 4.33 5396\n",
      "-0.\n",
      "-0.757898 -0.563157 0.329309 126661 5.40 5405\n",
      "-0.7\n",
      "-0.694757 -0.524364 -0.492296 126769 4.97 5407\n",
      "-0.\n",
      "-0.791034 -0.599859 -0.120144 126927 5.42 5410\n",
      "-0.\n",
      "-0.500633 -0.393316 -0.771148 127381 4.44 5425\n",
      "-0.\n",
      "-0.197624 -0.148280 0.968998 127700 4.25 5430\n",
      "-0.7\n",
      "-0.618178 -0.483318 0.619887 127762 3.04 5435\n",
      "-0.5\n",
      "-0.677892 -0.542503 0.496138 128167 4.47 5447\n",
      "-0.5\n",
      "-0.502093 -0.413480 -0.759564 128345 4.05 5453\n",
      "-0.\n",
      "-0.373730 -0.312644 -0.873258 128621 1.35 5460\n",
      "-0.\n",
      "-0.549596 -0.456438 0.699720 129002 5.39 5468\n",
      "-0.5\n",
      "-0.141306 -0.127078 -0.981776 129078 3.83 5470\n",
      "-0.\n",
      "-0.732851 -0.618902 0.282648 129174 4.49 5475\n",
      "-0.7\n",
      "-0.741021 -0.628146 0.237319 129246 3.78 5477\n",
      "-0.7\n",
      "-0.753696 -0.641707 0.141968 129312 4.86 5480\n",
      "-0.7\n",
      "-0.686016 -0.592289 -0.422582 129433 5.70 5484\n",
      "-0.\n",
      "-0.753707 -0.649775 -0.098580 129502 3.87 5487\n",
      "-0.\n",
      "-0.676728 -0.585285 0.446633 129712 4.80 5490\n",
      "-0.4\n",
      "-0.676309 -0.598364 -0.429612 129926 5.15 5497\n",
      "-0.\n",
      "-0.718459 -0.631413 0.291778 129972 4.60 5502\n",
      "-0.7\n",
      "-0.669484 -0.587057 0.455143 129988 2.35 5505\n",
      "-0.6\n",
      "-0.747825 -0.663074 0.033032 130109 3.73 5511\n",
      "-0.6\n",
      "-0.668101 -0.600223 -0.439743 130259 5.23 5516\n",
      "-0.\n",
      "-0.716857 -0.652965 -0.244444 130559 5.32 5523\n",
      "-0.\n",
      "-0.650459 -0.597558 -0.468858 130694 4.42 5526\n",
      "-0.\n",
      "-0.706775 -0.651552 -0.275588 130819 5.15 5530\n",
      "-0.\n",
      "-0.512482 -0.466778 0.720749 130945 5.76 5533\n",
      "-0.7\n",
      "-0.487009 -0.445049 0.751501 131041 5.68 5538\n",
      "-0.2\n",
      "-0.164616 -0.161607 -0.973029 131109 5.37 5540\n",
      "-0.\n",
      "-0.083899 -0.087475 -0.992627 131246 5.65 5545\n",
      "-0.\n",
      "-0.328003 -0.318783 -0.889265 131492 5.08 5551\n",
      "-0.\n",
      "-0.434290 -0.420442 -0.796631 131562 5.38 5556\n",
      "-0.\n",
      "-0.200728 -0.185075 0.962006 131873 2.07 5563\n",
      "-0.7\n",
      "-0.713682 -0.696358 -0.075781 132052 4.47 5570\n",
      "-0.\n",
      "-0.714611 -0.699516 -0.002924 132132 5.51 5573\n",
      "-0.\n",
      "-0.629978 -0.622626 -0.464182 132219 5.65 5577\n",
      "-0.\n",
      "-0.697114 -0.690418 -0.193273 132345 5.88 5582\n",
      "-0.\n",
      "-0.548376 -0.546542 0.632911 132772 5.64 5588\n",
      "-0.2\n",
      "-0.618226 -0.629696 -0.470404 132851 5.83 5591\n",
      "-0.\n",
      "-0.701482 -0.712683 -0.002448 132933 5.71 5594\n",
      "-0.\n",
      "-0.697634 -0.715524 0.036492 133165 4.39 5601\n",
      "-0.5\n",
      "-0.627921 -0.650634 -0.427072 133216 3.25 5603\n",
      "-0.\n",
      "-0.470902 -0.492426 -0.731962 133243 4.82 5606\n",
      "-0.\n",
      "-0.468360 -0.484132 0.739091 133640 4.83 5618\n",
      "-0.6\n",
      "-0.477987 -0.516377 -0.710552 133955 4.07 5626\n",
      "-0.\n",
      "-0.620781 -0.661638 0.420554 134083 4.93 5634\n",
      "-0.6\n",
      "-0.441433 -0.489986 -0.751698 134481 3.88 5646\n",
      "-0.\n",
      "-0.410474 -0.457026 -0.789074 134505 3.41 5649\n",
      "-0.\n",
      "-0.628928 -0.699856 -0.338601 134759 4.54 5652\n",
      "-0.\n",
      "-0.600546 -0.675711 -0.427503 134987 6.47 5657\n",
      "-0.\n",
      "-0.629258 -0.714776 -0.305172 135230 6.18 5662\n",
      "-0.\n",
      "-0.289179 -0.337535 -0.895793 135291 4.85 5666\n",
      "-0.\n",
      "-0.235028 -0.277409 -0.931561 135382 2.87 5671\n",
      "-0.\n",
      "-0.577227 -0.655236 0.487314 135502 5.28 5676\n",
      "-0.6\n",
      "-0.549614 -0.629489 0.549243 135722 3.46 5681\n",
      "-0.4\n",
      "-0.644001 -0.747452 -0.163031 135742 2.61 5685\n",
      "-0.\n",
      "-0.644785 -0.763742 0.030829 136202 5.04 5694\n",
      "-0.4\n",
      "-0.425902 -0.517303 -0.742297 136351 4.99 5698\n",
      "-0.\n",
      "-0.607929 -0.730273 -0.311647 136366 6.16 5701\n",
      "-0.\n",
      "-0.322175 -0.395652 -0.860037 136415 4.48 5704\n",
      "-0.\n",
      "-0.450572 -0.549911 -0.703265 136504 3.37 5708\n",
      "-0.\n",
      "-0.639276 -0.768876 0.012489 136514 5.35 5710\n",
      "-0.5\n",
      "-0.203520 -0.236401 0.950102 136726 5.02 5714\n",
      "-0.6\n",
      "-0.534397 -0.647183 0.543668 136849 5.38 5718\n",
      "-0.4\n",
      "-0.630143 -0.776274 -0.017842 137006 6.11 5721\n",
      "-0.\n",
      "-0.487364 -0.609078 -0.625700 137058 4.60 5724\n",
      "-0.\n",
      "-0.545745 -0.669179 0.504343 137108 6.08 5728\n",
      "-0.0\n",
      "-0.172521 -0.227935 -0.958270 137387 5.40 5730\n",
      "-0.\n",
      "-0.498901 -0.618937 0.606642 137392 6.51 5734\n",
      "-0.1\n",
      "-0.600773 -0.753857 0.266028 137471 5.16 5739\n",
      "-0.5\n",
      "-0.322816 -0.401967 0.856862 137759 3.29 5744\n",
      "-0.6\n",
      "-0.538427 -0.688108 0.486419 137909 3.66 5747\n",
      "-0.5\n",
      "-0.458162 -0.602128 0.653857 138481 5.04 5763\n",
      "-0.5\n",
      "-0.577799 -0.767889 0.276579 138527 6.22 5770\n",
      "-0.2\n",
      "-0.598316 -0.800993 -0.020703 138562 5.50 5772\n",
      "-0.\n",
      "-0.523042 -0.710876 -0.470194 138688 5.13 5775\n",
      "-0.\n",
      "-0.585065 -0.791936 -0.174748 138716 4.61 5777\n",
      "-0.\n",
      "-0.416209 -0.572274 -0.706592 138769 4.55 5781\n",
      "-0.\n",
      "-0.569930 -0.781036 -0.255270 138905 3.91 5787\n",
      "-0.\n",
      "-0.582020 -0.792337 0.182908 138918 3.80 5789\n",
      "-0.5\n",
      "-0.515138 -0.715732 -0.471552 139063 3.60 5794\n",
      "-0.\n",
      "-0.427532 -0.599684 -0.676458 139127 4.34 5797\n",
      "-0.\n",
      "-0.458789 -0.627134 0.629457 139153 5.14 5800\n",
      "-0.5\n",
      "-0.563026 -0.778409 0.277635 139225 5.93 5804\n",
      "-0.5\n",
      "-0.545012 -0.770521 -0.330543 139446 5.36 5814\n",
      "-0.\n",
      "-0.443006 -0.620074 0.647499 139641 5.25 5823\n",
      "-0.5\n",
      "-0.404940 -0.584763 -0.702905 139664 4.64 5825\n",
      "-0.\n",
      "-0.101475 -0.131293 0.986136 139777 6.57 5829\n",
      "-0.4\n",
      "-0.462045 -0.656073 0.596727 139892 5.07 5834\n",
      "-0.4\n",
      "-0.533506 -0.775871 -0.336743 139997 4.75 5838\n",
      "-0.\n",
      "-0.547901 -0.789684 0.276051 140027 6.00 5840\n",
      "-0.5\n",
      "-0.552963 -0.802988 0.222357 140160 5.34 5843\n",
      "-0.5\n",
      "-0.538146 -0.798388 -0.270141 140417 5.41 5848\n",
      "-0.\n",
      "-0.558543 -0.828314 0.043890 140538 5.86 5853\n",
      "-0.5\n",
      "-0.471570 -0.699057 0.537533 140716 5.57 5855\n",
      "-0.5\n",
      "-0.551321 -0.833699 -0.031482 140873 5.39 5863\n",
      "-0.\n",
      "-0.545788 -0.828091 0.127986 141004 4.42 5868\n",
      "-0.5\n",
      "-0.539968 -0.839047 -0.066597 141378 5.53 5875\n",
      "-0.\n",
      "-0.537728 -0.840993 -0.059831 141513 3.54 5881\n",
      "-0.\n",
      "-0.444445 -0.704124 -0.553786 141556 3.97 5883\n",
      "-0.\n",
      "-0.535830 -0.843455 0.038329 141680 5.21 5888\n",
      "-0.4\n",
      "-0.188591 -0.312303 -0.931075 141767 5.11 5891\n",
      "-0.\n",
      "-0.516195 -0.815711 0.261071 141850 5.20 5894\n",
      "-0.5\n",
      "-0.231800 -0.382546 -0.894387 141891 2.83 5897\n",
      "-0.\n",
      "-0.432870 -0.687600 0.582949 142091 4.79 5901\n",
      "-0.4\n",
      "-0.118180 -0.175304 0.977396 142105 4.29 5903\n",
      "-0.4\n",
      "-0.501008 -0.816168 -0.287855 142198 4.13 5908\n",
      "-0.\n",
      "-0.470382 -0.772571 -0.426469 142301 5.87 5912\n",
      "-0.\n",
      "-0.489348 -0.806470 -0.331879 142378 5.95 5915\n",
      "-0.\n",
      "-0.514179 -0.844607 0.149196 142500 6.28 5919\n",
      "-0.4\n",
      "-0.424365 -0.712599 -0.558674 142630 5.59 5926\n",
      "-0.\n",
      "-0.379554 -0.623223 0.683763 142780 5.35 5932\n",
      "-0.4\n",
      "-0.406761 -0.675580 0.614929 142908 5.43 5936\n",
      "-0.3\n",
      "-0.494312 -0.832880 0.248931 142980 5.54 5940\n",
      "-0.4\n",
      "-0.452849 -0.775363 -0.440159 143018 2.89 5944\n",
      "-0.\n",
      "-0.391503 -0.678939 -0.621102 143118 3.42 5948\n",
      "-0.\n",
      "-0.478123 -0.830919 -0.284557 143333 5.47 5954\n",
      "-0.\n",
      "-0.491651 -0.858418 -0.146279 143459 5.53 5959\n",
      "-0.\n",
      "-0.318550 -0.570062 -0.757334 143546 4.65 5962\n",
      "-0.\n",
      "-0.414568 -0.725687 0.549101 143761 5.39 5968\n",
      "-0.4\n",
      "-0.452900 -0.802906 0.387586 143894 4.82 5972\n",
      "-0.4\n",
      "-0.473940 -0.858191 -0.197205 144069 4.16 5977\n",
      "-0.\n",
      "-0.335054 -0.620254 -0.709242 144197 4.73 5980\n",
      "-0.\n",
      "-0.450964 -0.825729 -0.338826 144217 2.56 5984\n",
      "-0.\n",
      "-0.257026 -0.453807 0.853227 144284 4.01 5986\n",
      "-0.3\n",
      "-0.443547 -0.823819 -0.352971 144470 3.93 5993\n",
      "-0.\n",
      "-0.440814 -0.823884 -0.356227 144608 4.31 5997\n",
      "-0.\n",
      "-0.463912 -0.869066 0.171787 144874 5.63 6004\n",
      "-0.4\n",
      "-0.448566 -0.844303 0.293156 145001 5.00 6008\n",
      "-0.4\n",
      "-0.445599 -0.844951 0.295803 145122 6.13 6013\n",
      "-0.3\n",
      "-0.253836 -0.505686 -0.824530 145361 5.78 6019\n",
      "-0.\n",
      "-0.265994 -0.529346 -0.805630 145384 6.03 6022\n",
      "-0.\n",
      "-0.330242 -0.626161 0.706302 145389 4.23 6023\n",
      "-0.2\n",
      "-0.400081 -0.787780 -0.468336 145482 4.58 6028\n",
      "-0.\n",
      "-0.428169 -0.840117 -0.332980 145501 6.30 6026\n",
      "-0.\n",
      "-0.195305 -0.397954 -0.896375 145544 3.86 6030\n",
      "-0.\n",
      "-0.448481 -0.881348 -0.148631 145607 5.43 6033\n",
      "-0.\n",
      "-0.436860 -0.852588 0.286787 145647 6.09 6035\n",
      "-0.4\n",
      "-0.298856 -0.607729 -0.735765 145842 5.13 6045\n",
      "-0.\n",
      "-0.437287 -0.875613 -0.205140 145897 5.24 6048\n",
      "-0.\n",
      "-0.278821 -0.578156 -0.766808 146143 4.97 6058\n",
      "-0.\n",
      "-0.368309 -0.744267 0.557149 146361 5.23 6063\n",
      "-0.3\n",
      "-0.416900 -0.849853 0.322403 146388 5.72 6065\n",
      "-0.3\n",
      "-0.312770 -0.665378 -0.677825 146667 5.44 6071\n",
      "-0.\n",
      "-0.380292 -0.786199 0.487102 146738 5.80 6074\n",
      "-0.4\n",
      "-0.111884 -0.216831 0.969776 146926 5.48 6079\n",
      "-0.3\n",
      "-0.115356 -0.227715 0.966871 147142 6.36 6082\n",
      "-0.3\n",
      "-0.292616 -0.625670 0.723127 147394 3.91 6092\n",
      "-0.4\n",
      "-0.392036 -0.859455 0.328092 147547 3.74 6095\n",
      "-0.1\n",
      "-0.071002 -0.179007 -0.981282 147675 3.86 6102\n",
      "-0.\n",
      "-0.381730 -0.858421 -0.342631 147700 4.48 6104\n",
      "-0.\n",
      "-0.343383 -0.757748 0.554893 147767 5.40 6108\n",
      "-0.1\n",
      "-0.347236 -0.770308 0.534840 147835 6.41 6110\n",
      "-0.4\n",
      "-0.367345 -0.840673 -0.397902 147933 4.57 6112\n",
      "-0.\n",
      "-0.265909 -0.620293 -0.737922 147971 4.46 6115\n",
      "-0.\n",
      "-0.389116 -0.888700 0.242488 148112 4.57 6117\n",
      "-0.3\n",
      "-0.378044 -0.867318 0.323794 148206 6.70 6119\n",
      "-0.3\n",
      "-0.387347 -0.910365 -0.145594 148367 4.62 6129\n",
      "-0.\n",
      "-0.344816 -0.826412 -0.445135 148478 1.06 6134\n",
      "-0.\n",
      "-0.310018 -0.761406 -0.569342 148703 4.24 6143\n",
      "-0.\n",
      "-0.362302 -0.887129 -0.285900 148786 4.29 6147\n",
      "-0.\n",
      "-0.378769 -0.924844 0.034622 148857 3.82 6149\n",
      "-0.1\n",
      "-0.356381 -0.866362 0.349869 148897 5.24 6152\n",
      "-0.3\n",
      "-0.263193 -0.668871 -0.695227 149038 4.86 6155\n",
      "-0.\n",
      "-0.370473 -0.923847 0.096214 149121 5.63 6158\n",
      "-0.3\n",
      "-0.141524 -0.333346 0.932122 149212 4.94 6161\n",
      "-0.0\n",
      "-0.316205 -0.822483 -0.472796 149438 2.82 6165\n",
      "-0.\n",
      "-0.270176 -0.686789 0.674778 149630 4.20 6168\n",
      "-0.3\n",
      "-0.124379 -0.348266 -0.929107 149671 5.89 6172\n",
      "-0.\n",
      "-0.215702 -0.563323 0.797584 150100 5.53 6184\n",
      "-0.2\n",
      "-0.215473 -0.563050 0.797838 150118 6.53 6186\n",
      "-0.3\n",
      "-0.338702 -0.938029 0.073364 150379 6.92 6194\n",
      "-0.3\n",
      "-0.228077 -0.616145 0.753888 150450 4.86 6200\n",
      "-0.3\n",
      "-0.286788 -0.801974 0.524014 150680 2.81 6212\n",
      "-0.2\n",
      "-0.109615 -0.340719 -0.933753 150798 1.91 6217\n",
      "-0.\n",
      "-0.145146 -0.403814 0.903254 151101 4.84 6223\n",
      "-0.3\n",
      "-0.283129 -0.856803 -0.430960 151179 6.72 6225\n",
      "-0.\n",
      "-0.155149 -0.490466 -0.857538 151249 3.77 6229\n",
      "-0.\n",
      "-0.308657 -0.946767 0.091447 151525 5.22 6234\n",
      "-0.2\n",
      "-0.296080 -0.936662 -0.187087 151769 4.64 6243\n",
      "-0.\n",
      "-0.296972 -0.946516 0.126159 151956 5.48 6250\n",
      "-0.2\n",
      "-0.211156 -0.662006 0.719139 152107 4.82 6254\n",
      "-0.2\n",
      "-0.258579 -0.828284 0.497073 152173 5.73 6258\n",
      "-0.2\n",
      "-0.282118 -0.923930 0.258384 152308 6.51 6268\n",
      "-0.2\n",
      "-0.208054 -0.709022 -0.673796 152334 3.62 6271\n",
      "-0.\n",
      "-0.279902 -0.954025 -0.107200 152601 5.23 6280\n",
      "-0.\n",
      "-0.148016 -0.539397 -0.828941 152786 3.12 6285\n",
      "-0.\n",
      "-0.250353 -0.884738 -0.393145 152849 5.57 6291\n",
      "-0.\n",
      "-0.263998 -0.911221 0.316199 152879 5.35 6293\n",
      "-0.1\n",
      "-0.265033 -0.950380 0.162896 153210 3.19 6299\n",
      "-0.2\n",
      "-0.233987 -0.875666 -0.422443 153363 5.74 6310\n",
      "-0.\n",
      "-0.115862 -0.404209 0.907299 153597 4.88 6315\n",
      "-0.2\n",
      "-0.115572 -0.405866 0.906596 153697 6.40 6319\n",
      "-0.2\n",
      "-0.043974 -0.131365 0.990358 153751 4.21 6322\n",
      "-0.2\n",
      "-0.210010 -0.806327 0.552930 154029 5.27 6332\n",
      "-0.1\n",
      "-0.238208 -0.940199 0.243481 154143 4.97 6337\n",
      "-0.1\n",
      "-0.230272 -0.947806 0.220542 154494 4.89 6355\n",
      "-0.1\n",
      "-0.137316 -0.564669 0.813814 154906 5.80 6370\n",
      "-0.1\n",
      "-0.206790 -0.940098 -0.271023 155125 2.43 6378\n",
      "-0.\n",
      "-0.193269 -0.891134 0.410522 155514 6.20 6391\n",
      "-0.2\n",
      "-0.091141 -0.401056 0.911508 155763 3.17 6396\n",
      "-0.1\n",
      "-0.173112 -0.877226 -0.447781 155886 5.07 6402\n",
      "-0.\n",
      "-0.190406 -0.949728 0.248521 156015 5.39 6407\n",
      "-0.1\n",
      "-0.055973 -0.335360 -0.940426 156190 5.39 6411\n",
      "-0.\n",
      "-0.188182 -0.982103 -0.007769 156266 4.72 6415\n",
      "-0.\n",
      "-0.156033 -0.785284 0.599152 156283 3.16 6418\n",
      "-0.1\n",
      "-0.166069 -0.896262 -0.411261 156350 6.59 6425\n",
      "-0.\n",
      "-0.176371 -0.966108 0.188491 156681 5.03 6433\n",
      "-0.1\n",
      "-0.157968 -0.919403 -0.360199 156897 4.39 6445\n",
      "-0.\n",
      "-0.092434 -0.481030 0.871818 156947 6.32 6448\n",
      "-0.1\n",
      "-0.149547 -0.893888 -0.422610 157056 3.27 6453\n",
      "-0.\n",
      "-0.144116 -0.831270 0.536862 157214 5.38 6458\n",
      "-0.1\n",
      "-0.085366 -0.559502 -0.824421 157244 2.84 6461\n",
      "-0.\n",
      "-0.119053 -0.681307 0.722251 157325 5.51 6464\n",
      "-0.0\n",
      "-0.143604 -0.909508 0.390094 157728 5.70 6480\n",
      "-0.1\n",
      "-0.125782 -0.787114 0.603846 157779 4.52 6485\n",
      "-0.1\n",
      "-0.123108 -0.858404 -0.497984 157919 4.28 6492\n",
      "-0.\n",
      "-0.145208 -0.986763 0.072200 157999 4.34 6498\n",
      "-0.0\n",
      "-0.101206 -0.789054 -0.605929 158408 2.70 6508\n",
      "-0.\n",
      "-0.078979 -0.639586 -0.764651 158427 2.84 6510\n",
      "-0.\n",
      "-0.114337 -0.890637 0.440105 158899 4.41 6526\n",
      "-0.0\n",
      "-0.107857 -0.872949 0.475738 159139 5.66 6533\n",
      "-0.0\n",
      "-0.072960 -0.684406 -0.725441 159217 4.56 6537\n",
      "-0.\n",
      "-0.079795 -0.777054 -0.624355 159433 4.26 6546\n",
      "-0.\n",
      "-0.055424 -0.578051 -0.814116 159492 5.25 6549\n",
      "-0.\n",
      "-0.069151 -0.566738 0.820991 159541 4.89 6554\n",
      "-0.0\n",
      "-0.106544 -0.970234 0.217472 159561 2.08 6556\n",
      "-0.0\n",
      "-0.045444 -0.369643 0.928062 159966 5.07 6566\n",
      "-0.0\n",
      "-0.055583 -0.648194 -0.759444 160032 4.76 6569\n",
      "-0.\n",
      "-0.051344 -0.468579 0.881928 160269 5.23 6573\n",
      "-0.0\n",
      "-0.059299 -0.774551 -0.629726 160578 2.39 6580\n",
      "-0.\n",
      "-0.026563 -0.426156 -0.904259 160635 3.61 6582\n",
      "-0.\n",
      "-0.062152 -0.691793 0.719417 160762 3.82 6588\n",
      "-0.0\n",
      "-0.036377 -0.360490 0.932053 160922 4.77 6596\n",
      "-0.0\n",
      "-0.071821 -0.994234 0.079623 161096 2.76 6603\n",
      "-0.0\n",
      "-0.067215 -0.996723 0.045004 161270 6.16 6609\n",
      "-0.0\n",
      "-0.047976 -0.883028 -0.466861 161592 4.53 6616\n",
      "-0.\n",
      "-0.052260 -0.883667 0.465190 161797 3.42 6623\n",
      "-0.0\n",
      "-0.035312 -0.797398 -0.602419 161892 3.19 6630\n",
      "-0.\n",
      "-0.023075 -0.599554 -0.800002 161917 6.09 6632\n",
      "-0.\n",
      "-0.024083 -0.305452 0.951903 162004 5.81 6637\n",
      "-0.0\n",
      "-0.030137 -0.631574 0.774730 162579 5.02 6656\n",
      "-0.0\n",
      "-0.028803 -0.663378 0.747730 162732 6.78 6664\n",
      "-0.0\n",
      "-0.022388 -0.765629 0.642892 163217 5.17 6677\n",
      "-0.0\n",
      "-0.015433 -0.546287 0.837456 163588 3.73 6688\n",
      "-0.0\n",
      "-0.004185 -0.985478 -0.169751 163917 3.32 6698\n",
      "-0.\n",
      "-0.010382 -0.225353 0.974222 163989 5.02 6701\n",
      "-0.0\n",
      "-0.008513 -0.872472 0.488590 163993 3.70 6703\n",
      "-0.0\n",
      "-0.005648 -0.864350 0.502858 164136 4.41 6707\n",
      "0.00\n",
      "0.001146 -0.997094 0.076173 164284 4.79 6712\n",
      "0.000\n",
      "0.002812 -0.998687 0.051143 164353 3.93 6714\n",
      "0.005\n",
      "0.009894 -0.040591 -0.999127 164461 5.29 6721\n",
      "0.00\n",
      "0.011342 -0.911459 -0.411235 164584 5.37 6724\n",
      "-0.0\n",
      "0.006079 -0.929787 0.368048 164668 5.18 6729\n",
      "0.006\n",
      "0.013316 -0.989736 -0.142288 164764 5.94 6733\n",
      "0.01\n",
      "0.015398 -0.910836 -0.412480 164794 5.89 6736\n",
      "0.00\n",
      "0.010057 -0.920973 0.389498 164900 6.22 6741\n",
      "0.019\n",
      "0.018561 -0.641296 -0.767069 165024 3.65 6743\n",
      "0.01\n",
      "0.021853 -0.862028 -0.506390 165135 2.98 6746\n",
      "0.02\n",
      "0.023770 -0.998764 0.043662 165341 4.03 6752\n",
      "0.021\n",
      "0.024362 -0.925425 0.378146 165625 4.96 6765\n",
      "0.031\n",
      "0.031621 -0.985594 0.166143 165777 3.71 6771\n",
      "0.026\n",
      "0.028845 -0.876147 0.481180 166014 3.84 6779\n",
      "0.030\n",
      "0.030657 -0.897525 0.439897 166046 5.79 6782\n",
      "0.034\n",
      "0.035712 -0.934053 0.355345 166182 4.37 6787\n",
      "-0.00\n",
      "0.036394 -0.938717 0.342763 166230 5.10 6794\n",
      "0.041\n",
      "0.046813 -0.914457 -0.401966 166464 4.96 6801\n",
      "0.00\n",
      "0.000114 -0.173583 0.984819 166866 5.74 6810\n",
      "-0.00\n",
      "0.056010 -0.931530 -0.359326 166937 3.84 6812\n",
      "0.04\n",
      "0.057790 -0.927249 -0.369959 167036 5.49 6816\n",
      "0.06\n",
      "0.062046 -0.933209 -0.353936 167264 5.29 6822\n",
      "0.02\n",
      "0.061563 -0.798767 -0.598482 167618 3.10 6832\n",
      "0.06\n",
      "0.026173 -0.431337 0.901811 168151 4.99 6850\n",
      "0.048\n",
      "0.079356 -0.863885 -0.497398 168454 2.72 6859\n",
      "0.07\n",
      "0.088164 -0.942195 -0.323256 168608 5.76 6863\n",
      "0.02\n",
      "0.090769 -0.994128 0.058908 168656 4.85 6866\n",
      "0.082\n",
      "0.092753 -0.994406 -0.050543 168723 3.23 6869\n",
      "0.06\n",
      "0.079165 -0.863634 0.497864 168913 5.61 6876\n",
      "0.080\n",
      "0.086882 -0.820682 -0.564741 169022 1.79 6879\n",
      "0.10\n",
      "0.093648 -0.854231 -0.511389 169233 5.58 6888\n",
      "0.09\n",
      "0.103369 -0.930695 -0.350888 169420 4.81 6896\n",
      "0.08\n",
      "0.081418 -0.767236 0.636176 169702 5.11 6903\n",
      "0.082\n",
      "0.109957 -0.896458 -0.429270 169916 2.82 6913\n",
      "0.06\n",
      "0.118440 -0.992955 0.003423 169985 5.20 6918\n",
      "0.028\n",
      "0.053947 -0.515202 0.855370 170073 4.98 6923\n",
      "0.027\n",
      "0.122970 -0.960016 -0.251492 170296 4.67 6930\n",
      "0.09\n",
      "0.129076 -0.991029 -0.034642 170474 5.38 6935\n",
      "0.09\n",
      "0.046800 -0.411028 0.910421 170693 4.82 6945\n",
      "0.107\n",
      "0.113250 -0.771949 -0.625515 170867 6.31 6953\n",
      "0.11\n",
      "0.138935 -0.990147 -0.017504 170920 5.93 6957\n",
      "0.13\n",
      "0.136945 -0.901619 -0.410279 171237 6.53 6965\n",
      "0.15\n",
      "0.077058 -0.538486 0.839104 171635 4.77 6978\n",
      "0.059\n",
      "0.163320 -0.986558 -0.005400 171978 5.76 6993\n",
      "0.12\n",
      "0.127403 -0.759136 0.638342 172380 6.02 7009\n",
      "0.166\n",
      "0.181125 -0.970792 -0.157340 172748 4.70 7020\n",
      "0.14\n",
      "0.186790 -0.971799 -0.143929 173009 4.88 7032\n",
      "0.08\n",
      "0.176341 -0.873457 -0.453847 173300 3.17 7039\n",
      "0.19\n",
      "0.185692 -0.905759 -0.380944 173460 5.37 7046\n",
      "0.10\n",
      "0.157484 -0.745006 -0.648201 173540 5.20 7050\n",
      "0.14\n",
      "0.147985 -0.755362 0.638380 173583 6.02 7052\n",
      "0.148\n",
      "0.148253 -0.755971 0.637596 173608 5.37 7054\n",
      "0.153\n",
      "0.153912 -0.777255 0.610070 173649 5.73 7057\n",
      "0.201\n",
      "0.185332 -0.917860 0.350977 173667 4.19 7061\n",
      "0.152\n",
      "0.203687 -0.975531 -0.082771 173764 4.22 7063\n",
      "0.20\n",
      "0.155882 -0.709238 -0.687519 173861 5.60 7068\n",
      "0.19\n",
      "0.105388 -0.454521 -0.884480 173948 4.22 7074\n",
      "0.20\n",
      "0.139885 -0.598045 -0.789161 174295 5.18 7087\n",
      "0.20\n",
      "0.181065 -0.820709 0.541896 174585 5.93 7100\n",
      "0.221\n",
      "0.182016 -0.823026 0.538051 174602 5.22 7102\n",
      "0.181\n",
      "0.095175 -0.375090 -0.922090 174694 4.40 7107\n",
      "0.21\n",
      "0.217416 -0.905578 -0.364224 174947 5.68 7114\n",
      "0.21\n",
      "0.219781 -0.896175 -0.385443 175190 5.00 7120\n",
      "0.21\n",
      "0.050540 -0.246368 0.967858 175286 5.37 7124\n",
      "0.112\n",
      "0.125710 -0.480802 -0.867771 175329 5.14 7127\n",
      "0.18\n",
      "0.218376 -0.896700 0.385022 175492 4.57 7133\n",
      "0.152\n",
      "0.238028 -0.964401 0.115206 175515 5.58 7135\n",
      "0.188\n",
      "0.242197 -0.967454 0.073300 175638 4.62 7141\n",
      "0.242\n",
      "0.231679 -0.906578 -0.352762 175687 5.02 7145\n",
      "0.24\n",
      "0.232517 -0.903471 -0.360104 175775 3.52 7150\n",
      "0.20\n",
      "0.172154 -0.699111 0.693979 175865 4.08 7157\n",
      "0.247\n",
      "0.239965 -0.923786 0.298390 176155 5.33 7165\n",
      "0.246\n",
      "0.247831 -0.939738 0.235525 176303 5.27 7172\n",
      "0.130\n",
      "0.248386 -0.933123 0.259973 176411 4.02 7176\n",
      "0.214\n",
      "0.075396 -0.311671 0.947194 176524 4.82 7180\n",
      "0.201\n",
      "0.219191 -0.817836 0.532071 176670 4.94 7192\n",
      "0.264\n",
      "0.233945 -0.834913 -0.498187 176687 2.60 7194\n",
      "0.27\n",
      "0.174372 -0.585554 -0.791657 177171 5.17 7213\n",
      "0.18\n",
      "0.258687 -0.892117 -0.370417 177241 3.76 7217\n",
      "0.14\n",
      "0.278974 -0.957722 -0.070302 177463 5.40 7225\n",
      "0.22\n",
      "0.228032 -0.764694 -0.602697 177475 4.99 7227\n",
      "0.01\n",
      "0.255018 -0.848128 -0.464375 177716 3.32 7234\n",
      "0.27\n",
      "0.284023 -0.955033 -0.085110 177756 3.43 7236\n",
      "0.22\n",
      "0.282622 -0.948490 0.143147 177940 6.09 7243\n",
      "0.282\n",
      "0.166653 -0.572510 0.802782 178207 5.40 7251\n",
      "0.235\n",
      "0.232657 -0.737566 -0.633930 178345 4.10 7259\n",
      "0.24\n",
      "0.233879 -0.773399 0.589199 178475 5.25 7262\n",
      "0.279\n",
      "0.294872 -0.949661 0.105802 178596 5.23 7266\n",
      "0.116\n",
      "0.308842 -0.941030 -0.138127 179406 5.35 7279\n",
      "0.26\n",
      "0.315858 -0.947962 0.040022 179761 5.14 7287\n",
      "0.122\n",
      "0.292729 -0.855722 -0.426673 179950 4.86 7292\n",
      "0.16\n",
      "0.273294 -0.787602 -0.552262 180093 6.58 7296\n",
      "0.24\n",
      "0.300733 -0.882275 0.362147 180317 5.65 7301\n",
      "0.326\n",
      "0.314289 -0.892039 -0.324791 180540 4.88 7304\n",
      "0.30\n",
      "0.169350 -0.506725 0.845311 180610 5.00 7309\n",
      "0.118\n",
      "0.069078 -0.221910 0.972617 180777 5.11 7312\n",
      "0.257\n",
      "0.326256 -0.923665 0.200999 180868 5.28 7315\n",
      "0.306\n",
      "0.335973 -0.941681 0.018937 180972 5.10 7319\n",
      "0.337\n",
      "0.317569 -0.886852 0.335624 181182 6.50 7326\n",
      "0.196\n",
      "0.205773 -0.544181 -0.813342 181296 5.03 7329\n",
      "0.33\n",
      "0.334646 -0.920883 0.199965 181383 6.03 7332\n",
      "0.342\n",
      "0.344415 -0.938688 -0.015571 181440 5.46 7336\n",
      "0.25\n",
      "0.332082 -0.892071 -0.306480 181577 3.92 7340\n",
      "0.33\n",
      "0.252026 -0.663310 -0.704630 181623 4.27 7343\n",
      "0.33\n",
      "0.271682 -0.708810 -0.650981 181869 3.96 7348\n",
      "0.09\n",
      "0.317164 -0.838818 0.442483 182255 5.22 7358\n",
      "0.330\n",
      "0.333037 -0.850963 -0.406137 182416 5.45 7363\n",
      "0.34\n",
      "0.141793 -0.386070 0.911507 182564 4.60 7371\n",
      "0.311\n",
      "0.354445 -0.911892 0.206936 182572 5.17 7373\n",
      "0.341\n",
      "0.363915 -0.929846 0.054333 182640 3.36 7377\n",
      "0.342\n",
      "0.368597 -0.929570 0.005909 182835 4.64 7387\n",
      "0.345\n",
      "0.220224 -0.527909 -0.820252 183028 6.29 7393\n",
      "-0.0\n",
      "0.295803 -0.749482 0.592264 183056 5.17 7395\n",
      "0.378\n",
      "0.377217 -0.917970 -0.122632 183344 6.37 7402\n",
      "0.34\n",
      "0.343637 -0.840470 0.418956 183491 5.82 7406\n",
      "0.227\n",
      "0.356496 -0.867627 0.346605 183537 6.34 7409\n",
      "0.384\n",
      "0.340583 -0.814974 0.468850 183912 3.05 7417\n",
      "0.340\n",
      "0.236290 -0.572532 0.785095 184006 3.76 7420\n",
      "0.269\n",
      "0.321438 -0.759360 0.565730 184171 4.74 7426\n",
      "0.395\n",
      "0.396399 -0.899599 -0.183273 184492 5.12 7430\n",
      "0.36\n",
      "0.377426 -0.862034 0.338301 184606 5.00 7437\n",
      "0.371\n",
      "0.350135 -0.797169 0.491860 184759 5.39 7441\n",
      "0.407\n",
      "0.409507 -0.912031 -0.022453 184930 4.36 7447\n",
      "0.32\n",
      "0.412489 -0.907352 -0.081025 185124 5.45 7460\n",
      "0.13\n",
      "0.394986 -0.873885 0.283392 185194 5.67 7463\n",
      "0.261\n",
      "0.387141 -0.831892 -0.397590 185404 6.33 7470\n",
      "0.41\n",
      "0.408385 -0.868627 -0.280552 185644 5.30 7476\n",
      "0.36\n",
      "0.402264 -0.861713 0.309248 185758 4.39 7479\n",
      "0.425\n",
      "0.308374 -0.665543 0.679675 185872 5.41 7483\n",
      "0.414\n",
      "0.407063 -0.862621 0.300308 185958 4.39 7488\n",
      "0.415\n",
      "0.421621 -0.881831 0.211210 186122 6.33 7493\n",
      "0.423\n",
      "0.273236 -0.574022 0.771907 186408 5.99 7503\n",
      "0.273\n",
      "0.393762 -0.809883 0.434789 186486 5.50 7506\n",
      "0.251\n",
      "0.428782 -0.873614 0.230097 186547 6.25 7511\n",
      "0.421\n",
      "0.349320 -0.714031 0.606742 186675 4.89 7517\n",
      "0.440\n",
      "0.439560 -0.879127 0.184179 186791 2.72 7525\n",
      "0.311\n",
      "0.372476 -0.743604 0.555261 187013 5.00 7534\n",
      "0.428\n",
      "0.447036 -0.870764 0.204768 187259 5.75 7544\n",
      "0.432\n",
      "0.456588 -0.869856 -0.186757 187532 5.38 7553\n",
      "0.45\n",
      "0.458037 -0.870354 0.180795 187691 5.12 7560\n",
      "0.444\n",
      "0.389463 -0.743676 0.543383 187796 10.50 7564\n",
      "0.43\n",
      "0.361960 -0.691143 0.625545 187849 5.18 7566\n",
      "0.352\n",
      "0.471219 -0.881842 0.017551 187929 3.87 7570\n",
      "0.446\n",
      "0.279427 -0.533198 0.798511 188056 5.03 7576\n",
      "0.358\n",
      "0.153501 -0.300711 0.941281 188119 3.84 7582\n",
      "0.472\n",
      "0.147590 -0.254120 -0.955845 188228 3.97 7590\n",
      "0.43\n",
      "0.474628 -0.868476 -0.143099 188293 5.70 7593\n",
      "0.47\n",
      "0.472901 -0.868742 0.147147 188310 4.71 7595\n",
      "0.480\n",
      "0.434069 -0.784395 -0.443066 188376 4.70 7597\n",
      "0.47\n",
      "0.196346 -0.338765 -0.920156 188584 5.75 7603\n",
      "0.43\n",
      "0.254748 -0.472676 0.843611 188665 5.14 7608\n",
      "0.464\n",
      "0.476092 -0.856801 0.198063 188728 5.28 7610\n",
      "0.198\n",
      "0.379076 -0.684838 0.622333 188892 4.95 7613\n",
      "0.474\n",
      "0.397684 -0.715183 0.574770 188947 3.89 7615\n",
      "0.445\n",
      "0.294682 -0.533649 0.792705 189037 4.91 7619\n",
      "0.470\n",
      "0.407374 -0.707473 -0.577519 189103 4.37 7623\n",
      "0.41\n",
      "0.466907 -0.818937 0.333677 189319 3.51 7635\n",
      "0.457\n",
      "0.477014 -0.825753 0.300981 189577 5.33 7645\n",
      "0.398\n",
      "0.493143 -0.837389 -0.235774 189741 5.69 7649\n",
      "0.45\n",
      "0.446153 -0.764264 0.465669 189849 4.66 7653\n",
      "0.460\n",
      "0.323982 -0.553546 0.767217 190147 5.06 7660\n",
      "0.493\n",
      "0.215063 -0.341853 -0.914814 190248 3.55 7665\n",
      "0.51\n",
      "0.511402 -0.849952 0.126683 190327 5.51 7669\n",
      "0.492\n",
      "0.318421 -0.512631 -0.797382 190421 4.93 7673\n",
      "0.50\n",
      "0.215091 -0.367071 0.904983 190544 5.22 7676\n",
      "0.488\n",
      "0.217967 -0.368797 0.903593 190713 6.27 7682\n",
      "0.192\n",
      "0.116536 -0.202639 0.972295 190960 6.20 7686\n",
      "0.481\n",
      "0.423952 -0.689357 0.587411 191026 5.38 7689\n",
      "0.529\n",
      "0.244542 -0.400838 0.882909 191277 5.40 7701\n",
      "0.501\n",
      "0.428321 -0.676054 0.599577 191610 4.93 7708\n",
      "0.542\n",
      "0.480977 -0.750937 0.452499 191747 5.51 7711\n",
      "0.531\n",
      "0.533019 -0.817421 -0.218433 191862 5.84 7715\n",
      "0.48\n",
      "0.487544 -0.750668 0.445867 192044 5.91 7719\n",
      "0.549\n",
      "0.533605 -0.804080 0.262147 192425 4.94 7724\n",
      "0.254\n",
      "0.375974 -0.571818 0.729156 192514 4.80 7730\n",
      "0.484\n",
      "0.377320 -0.572063 0.728267 192577 3.80 7735\n",
      "0.443\n",
      "0.547622 -0.808986 -0.213663 192666 6.30 7738\n",
      "0.30\n",
      "0.511132 -0.761334 0.398892 192713 5.18 7741\n",
      "0.493\n",
      "0.521037 -0.770078 0.368104 192836 6.11 7746\n",
      "0.551\n",
      "0.525941 -0.765084 -0.371528 192879 5.86 7748\n",
      "0.11\n",
      "0.374955 -0.558666 0.739798 192909 3.96 7751\n",
      "0.510\n",
      "0.553072 -0.804322 -0.217204 192947 3.58 7754\n",
      "0.53\n",
      "0.445529 -0.649543 0.616114 193237 4.77 7763\n",
      "0.453\n",
      "0.465987 -0.673905 0.573330 193370 5.14 7770\n",
      "0.561\n",
      "0.557262 -0.790150 -0.255191 193452 6.09 7775\n",
      "0.55\n",
      "0.432419 -0.603673 -0.669771 193571 5.60 7779\n",
      "0.43\n",
      "0.528828 -0.740999 0.413837 193911 5.50 7789\n",
      "0.325\n",
      "0.266353 -0.381767 0.885048 193964 5.71 7792\n",
      "0.443\n",
      "0.206798 -0.295066 0.932829 194258 5.59 7804\n",
      "0.497\n",
      "0.569416 -0.760323 -0.312529 194636 5.08 7814\n",
      "0.60\n",
      "0.575812 -0.758190 -0.305922 194943 4.77 7822\n",
      "0.47\n",
      "0.389591 -0.521551 0.759081 195068 5.73 7828\n",
      "0.576\n",
      "0.576688 -0.752247 -0.318678 195094 5.94 7830\n",
      "0.60\n",
      "0.523427 -0.685881 0.505560 195295 4.01 7834\n",
      "0.487\n",
      "0.598803 -0.778270 0.189025 195325 6.03 7836\n",
      "0.399\n",
      "0.443687 -0.558202 -0.701108 195569 5.12 7846\n",
      "0.48\n",
      "0.308414 -0.382291 -0.871054 195627 4.75 7848\n",
      "0.27\n",
      "0.400577 -0.515893 0.757227 195774 5.44 7851\n",
      "0.607\n",
      "0.606327 -0.762599 0.225413 195943 5.39 7858\n",
      "0.302\n",
      "0.155162 -0.181604 -0.971053 196051 5.99 7863\n",
      "0.16\n",
      "0.508096 -0.639318 0.577157 196093 4.61 7866\n",
      "0.430\n",
      "0.606522 -0.753630 0.253322 196180 4.64 7871\n",
      "0.631\n",
      "0.566616 -0.698848 0.436529 196362 6.40 7874\n",
      "0.316\n",
      "0.159375 -0.204898 0.965721 196502 5.18 7879\n",
      "0.566\n",
      "0.256191 -0.300091 -0.918864 196519 5.14 7881\n",
      "0.61\n",
      "0.622978 -0.756955 0.197276 196544 5.42 7883\n",
      "0.637\n",
      "0.540574 -0.658518 0.523577 196606 6.32 7885\n",
      "0.618\n",
      "0.594662 -0.718047 0.361644 196724 4.81 7891\n",
      "0.621\n",
      "0.582194 -0.702928 0.408585 196740 5.06 7894\n",
      "0.629\n",
      "0.640803 -0.767658 0.008491 196758 5.15 7897\n",
      "0.611\n",
      "0.089882 -0.119017 0.988815 196787 5.38 7901\n",
      "0.616\n",
      "0.093986 -0.123090 0.987935 196925 5.96 7908\n",
      "0.265\n",
      "0.626179 -0.737907 0.251780 197121 6.01 7918\n",
      "0.404\n",
      "0.546219 -0.644978 0.534460 197177 5.53 7921\n",
      "0.455\n",
      "0.631761 -0.730231 0.260078 197461 4.43 7928\n",
      "0.414\n",
      "0.531924 -0.615135 0.581950 197572 6.48 7932\n",
      "0.243\n",
      "0.599493 -0.677031 -0.426893 197692 4.13 7936\n",
      "0.61\n",
      "0.595875 -0.680212 0.426901 197752 4.92 7939\n",
      "0.628\n",
      "0.568691 -0.644698 0.510838 197912 4.22 7942\n",
      "0.482\n",
      "0.258882 -0.299963 0.918152 197950 5.59 7945\n",
      "0.638\n",
      "0.638617 -0.717659 0.277730 197964 4.27 7948\n",
      "0.550\n",
      "0.658924 -0.733896 -0.164973 198001 3.78 7950\n",
      "0.66\n",
      "0.466223 -0.511106 -0.722085 198048 4.90 7952\n",
      "0.66\n",
      "0.354107 -0.402529 0.844144 198084 4.52 7955\n",
      "0.550\n",
      "0.311646 -0.354466 0.881607 198149 3.41 7957\n",
      "0.536\n",
      "0.561453 -0.612890 -0.556001 198232 4.89 7965\n",
      "0.42\n",
      "0.658295 -0.720742 0.217204 198390 6.01 7973\n",
      "0.668\n",
      "0.465962 -0.513263 0.720722 198478 4.81 7977\n",
      "0.570\n",
      "0.607594 -0.652582 -0.452733 198542 4.12 7980\n",
      "0.67\n",
      "0.485682 -0.529655 0.695398 198639 5.06 7984\n",
      "0.679\n",
      "0.361473 -0.378228 -0.852221 198700 3.67 7986\n",
      "0.59\n",
      "0.675690 -0.720459 -0.156146 198743 4.73 7990\n",
      "0.60\n",
      "0.657348 -0.687890 -0.307736 199012 5.78 8000\n",
      "0.49\n",
      "0.084672 -0.098628 0.991516 199095 5.75 8002\n",
      "0.605\n",
      "0.609020 -0.638637 0.470360 199169 5.03 8008\n",
      "0.673\n",
      "0.676916 -0.703159 0.217607 199254 5.54 8012\n",
      "0.687\n",
      "0.162024 -0.155488 -0.974460 199532 5.13 8021\n",
      "0.52\n",
      "0.689725 -0.699224 0.188056 199665 5.51 8030\n",
      "0.649\n",
      "0.667280 -0.669600 -0.326149 199728 6.26 8033\n",
      "0.70\n",
      "0.601328 -0.594591 -0.533729 199951 4.67 8039\n",
      "0.70\n",
      "0.477161 -0.477887 0.737524 200120 4.74 8047\n",
      "0.559\n",
      "0.492333 -0.487280 0.721226 200310 5.38 8053\n",
      "0.417\n",
      "0.715859 -0.690834 -0.101461 200496 7.31 8058\n",
      "0.71\n",
      "0.677733 -0.652167 -0.339640 200499 4.82 8060\n",
      "0.71\n",
      "0.545186 -0.515444 -0.661128 200702 5.55 8069\n",
      "0.62\n",
      "0.692658 -0.657616 -0.296254 200761 4.08 8075\n",
      "0.61\n",
      "0.719800 -0.686376 0.103808 200790 5.94 8077\n",
      "0.520\n",
      "0.660445 -0.620588 -0.422709 200914 4.49 8080\n",
      "0.62\n",
      "0.567757 -0.534806 0.625808 201091 5.20 8085\n",
      "0.567\n",
      "0.683440 -0.634203 -0.361519 201184 5.30 8087\n",
      "0.48\n",
      "0.689086 -0.633931 -0.351128 201352 6.25 8091\n",
      "0.25\n",
      "0.721627 -0.663610 -0.197173 201381 4.50 8093\n",
      "0.63\n",
      "0.726769 -0.663973 0.175916 201601 4.70 8097\n",
      "0.727\n",
      "0.661784 -0.589173 -0.463591 201901 5.41 8110\n",
      "0.14\n",
      "0.269824 -0.248261 0.930355 202012 7.33 8113\n",
      "0.644\n",
      "0.738924 -0.650992 0.173781 202275 4.47 8123\n",
      "0.705\n",
      "0.727707 -0.633996 -0.261709 202369 5.31 8128\n",
      "0.59\n",
      "0.751042 -0.653888 0.091468 202447 3.92 8131\n",
      "0.643\n",
      "0.723128 -0.617857 -0.308770 202671 5.40 8137\n",
      "0.72\n",
      "0.455980 -0.383071 -0.803330 202730 4.39 8140\n",
      "0.75\n",
      "0.586355 -0.503385 0.634659 202850 4.22 8143\n",
      "0.623\n",
      "0.581418 -0.484593 -0.653546 203006 4.80 8151\n",
      "0.54\n",
      "0.269454 -0.217657 -0.938094 203133 6.28 8156\n",
      "0.76\n",
      "0.350861 -0.298141 0.887698 203280 2.45 8162\n",
      "0.762\n",
      "0.703335 -0.584590 0.404443 203344 5.58 8165\n",
      "0.739\n",
      "0.324545 -0.273849 0.905360 203467 5.19 8171\n",
      "0.726\n",
      "0.764002 -0.624562 -0.161936 203525 5.99 8175\n",
      "0.76\n",
      "0.587315 -0.473847 -0.656147 203585 5.76 8180\n",
      "0.32\n",
      "0.726658 -0.587596 -0.355948 203638 5.38 8183\n",
      "0.75\n",
      "0.453080 -0.359566 -0.815740 203760 6.10 8188\n",
      "0.77\n",
      "0.769208 -0.616158 -0.169317 203875 5.71 8195\n",
      "0.27\n",
      "0.779152 -0.623757 -0.062034 203926 5.48 8199\n",
      "0.72\n",
      "0.732811 -0.576421 -0.361562 204139 5.78 8207\n",
      "0.62\n",
      "0.733417 -0.569297 -0.371484 204381 4.50 8213\n",
      "0.67\n",
      "0.626983 -0.492697 0.603442 204403 5.30 8215\n",
      "0.697\n",
      "0.726657 -0.557846 0.400970 204724 4.52 8225\n",
      "0.310\n",
      "0.544694 -0.420045 0.725859 204771 5.22 8228\n",
      "0.601\n",
      "0.663059 -0.498550 -0.558391 204854 5.97 8230\n",
      "0.79\n",
      "0.262845 -0.204141 0.942995 205021 3.23 8238\n",
      "0.757\n",
      "0.562475 -0.416281 0.714376 205435 3.98 8252\n",
      "0.726\n",
      "0.179641 -0.124071 -0.975877 205478 3.73 8254\n",
      "0.63\n",
      "0.679873 -0.490283 -0.545340 205529 6.10 8256\n",
      "0.76\n",
      "0.568382 -0.412800 0.711714 205730 5.96 8262\n",
      "0.805\n",
      "0.808002 -0.577797 0.115256 205811 6.19 8265\n",
      "0.617\n",
      "0.767692 -0.548823 0.330820 205852 5.46 8267\n",
      "0.811\n",
      "0.577741 -0.414138 0.703353 205939 6.19 8272\n",
      "0.817\n",
      "0.784971 -0.549188 -0.286729 206088 3.69 8278\n",
      "0.38\n",
      "0.107158 -0.067674 -0.991936 206240 5.27 8280\n",
      "0.79\n",
      "0.596749 -0.417133 0.685486 206330 5.09 8284\n",
      "0.757\n",
      "0.824335 -0.565657 0.022430 206445 5.66 8287\n",
      "0.781\n",
      "0.820712 -0.562704 0.098975 206487 5.30 8289\n",
      "0.623\n",
      "0.800796 -0.544868 -0.248686 206561 5.88 8295\n",
      "0.67\n",
      "0.621960 -0.425935 0.657073 206644 5.73 8300\n",
      "0.516\n",
      "0.801758 -0.540710 -0.254592 206677 5.96 8302\n",
      "0.69\n",
      "0.649657 -0.440566 0.619555 206774 5.69 8307\n",
      "0.817\n",
      "0.727186 -0.489847 0.480885 206826 4.49 8309\n",
      "0.727\n",
      "0.821055 -0.548590 -0.157855 206834 5.10 8311\n",
      "0.79\n",
      "0.748787 -0.502003 0.432794 206901 4.14 8315\n",
      "0.429\n",
      "0.264008 -0.181587 0.947273 206952 4.55 8317\n",
      "0.823\n",
      "0.818792 -0.539204 -0.197075 207052 5.57 8319\n",
      "0.76\n",
      "0.803466 -0.526584 -0.277760 207098 2.85 8322\n",
      "0.25\n",
      "0.719108 -0.468172 -0.513516 207155 5.02 8326\n",
      "0.83\n",
      "0.294217 -0.186020 -0.937461 207241 5.52 8333\n",
      "0.40\n",
      "0.544913 -0.357963 0.758243 207330 4.23 8335\n",
      "0.409\n",
      "0.728797 -0.464990 0.502632 207650 5.07 8343\n",
      "0.805\n",
      "0.827330 -0.510506 -0.234324 207958 5.08 8351\n",
      "0.67\n",
      "0.744205 -0.462780 0.481657 207978 5.52 8354\n",
      "0.764\n",
      "0.455782 -0.273228 -0.847118 208149 6.17 8362\n",
      "0.49\n",
      "0.444185 -0.260338 -0.857277 208496 6.13 8369\n",
      "0.47\n",
      "0.840256 -0.500198 0.209218 208565 5.54 8373\n",
      "0.381\n",
      "0.860366 -0.496072 0.116973 209008 6.00 8385\n",
      "0.763\n",
      "0.478343 -0.267089 -0.836571 209100 4.69 8387\n",
      "0.86\n",
      "0.845723 -0.482937 0.226991 209166 5.61 8392\n",
      "0.859\n",
      "0.833379 -0.469405 -0.291785 209278 6.39 8396\n",
      "0.25\n",
      "0.867428 -0.484423 -0.113592 209396 5.55 8401\n",
      "0.87\n",
      "0.855985 -0.477820 0.197427 209459 5.83 8404\n",
      "0.758\n",
      "0.461300 -0.260788 0.848051 209481 5.55 8406\n",
      "0.444\n",
      "0.876177 -0.481730 -0.015816 209625 5.29 8410\n",
      "0.67\n",
      "0.874726 -0.476529 0.088169 209747 4.86 8413\n",
      "0.878\n",
      "0.395326 -0.219399 0.891954 209772 5.26 8416\n",
      "0.374\n",
      "0.854076 -0.461620 -0.239712 209819 4.29 8418\n",
      "0.76\n",
      "0.602936 -0.319806 -0.730885 209952 1.73 8425\n",
      "0.40\n",
      "0.407956 -0.223473 0.885230 209975 5.07 8428\n",
      "0.796\n",
      "0.741256 -0.392547 -0.544469 210049 4.50 8431\n",
      "0.73\n",
      "0.820051 -0.436769 0.369797 210129 5.79 8438\n",
      "0.839\n",
      "0.747934 -0.388764 -0.538013 210302 4.94 8447\n",
      "0.61\n",
      "0.741146 -0.388995 0.547162 210354 5.58 8449\n",
      "0.882\n",
      "0.870232 -0.450005 -0.200479 210424 5.43 8452\n",
      "0.74\n",
      "0.829162 -0.429324 0.358009 210516 6.45 8459\n",
      "0.864\n",
      "0.468303 -0.241569 0.849904 210745 3.39 8465\n",
      "0.268\n",
      "0.452869 -0.231970 0.860871 210839 5.05 8469\n",
      "0.195\n",
      "0.792420 -0.393739 -0.465876 210934 5.45 8478\n",
      "0.83\n",
      "0.150533 -0.070175 -0.986111 210967 5.09 8481\n",
      "0.67\n",
      "0.672465 -0.326376 -0.664281 211202 5.11 8488\n",
      "0.48\n",
      "0.877837 -0.424360 -0.222084 211361 5.34 8496\n",
      "0.71\n",
      "0.892086 -0.431094 -0.135426 211391 4.17 8499\n",
      "0.44\n",
      "0.896924 -0.432102 -0.093886 211434 5.75 8504\n",
      "0.06\n",
      "0.880200 -0.415074 -0.230134 211676 5.96 8508\n",
      "0.41\n",
      "0.898239 -0.417909 -0.136081 211838 5.35 8512\n",
      "0.90\n",
      "0.278759 -0.123277 -0.952416 211998 5.28 8515\n",
      "0.84\n",
      "0.909069 -0.415941 -0.024212 212061 3.86 8518\n",
      "0.88\n",
      "0.633630 -0.286307 -0.718708 212087 6.42 8521\n",
      "0.79\n",
      "0.624736 -0.287923 0.725813 212120 4.55 8523\n",
      "0.634\n",
      "0.828759 -0.371099 -0.418860 212271 5.53 8529\n",
      "0.85\n",
      "0.910494 -0.404833 -0.084321 212404 5.79 8533\n",
      "0.88\n",
      "0.559068 -0.250198 0.790470 212496 4.42 8538\n",
      "0.915\n",
      "0.389027 -0.166474 -0.906060 212581 4.51 8540\n",
      "0.59\n",
      "0.879137 -0.379663 -0.288052 212697 6.57 8544\n",
      "0.87\n",
      "0.915438 -0.395101 0.076608 212754 5.76 8548\n",
      "0.917\n",
      "0.714897 -0.301055 -0.631101 212953 5.47 8552\n",
      "0.66\n",
      "0.921914 -0.387395 -0.000350 213051 3.65 8558\n",
      "0.92\n",
      "0.667093 -0.277146 -0.691503 213080 4.12 8560\n",
      "0.38\n",
      "0.910740 -0.381286 0.158659 213119 5.60 8562\n",
      "0.921\n",
      "0.894571 -0.369223 -0.251827 213236 6.36 8567\n",
      "0.83\n",
      "0.483163 -0.202184 0.851866 213306 4.07 8571\n",
      "0.621\n",
      "0.908940 -0.373493 -0.185287 213320 4.82 8573\n",
      "0.77\n",
      "0.782629 -0.318171 -0.535031 213398 4.29 8576\n",
      "0.17\n",
      "0.674917 -0.277879 0.683572 213420 4.52 8579\n",
      "0.436\n",
      "0.909938 -0.369081 -0.189189 213464 6.39 8583\n",
      "0.59\n",
      "0.870890 -0.349258 0.345789 213617 6.43 8586\n",
      "0.930\n",
      "0.179026 -0.074262 0.981038 213798 5.45 8591\n",
      "0.871\n",
      "0.932567 -0.360991 -0.002048 213998 4.04 8597\n",
      "0.70\n",
      "0.710095 -0.269101 -0.650653 214150 5.85 8602\n",
      "0.71\n",
      "0.933753 -0.350245 -0.073721 214376 5.04 8610\n",
      "0.58\n",
      "0.262810 -0.101195 0.959526 214470 5.08 8615\n",
      "0.884\n",
      "0.728899 -0.267961 0.630002 214680 4.89 8622\n",
      "0.884\n",
      "0.417145 -0.154615 0.895592 214734 5.19 8627\n",
      "0.837\n",
      "0.142122 -0.047511 -0.988708 214846 4.13 8630\n",
      "0.67\n",
      "0.925074 -0.330036 0.187919 214923 3.41 8634\n",
      "0.644\n",
      "0.822023 -0.289609 -0.490311 214966 6.12 8637\n",
      "0.71\n",
      "0.821677 -0.291953 0.489500 214994 4.80 8641\n",
      "0.708\n",
      "0.937465 -0.326288 -0.121227 215143 6.40 8647\n",
      "0.89\n",
      "0.815778 -0.284874 0.503341 215182 2.93 8650\n",
      "0.563\n",
      "0.704747 -0.242349 0.666783 215373 5.11 8656\n",
      "0.893\n",
      "0.163666 -0.051306 -0.985181 215573 5.32 8663\n",
      "0.92\n",
      "0.869907 -0.288829 0.399800 215665 3.97 8667\n",
      "0.895\n",
      "0.922202 -0.300921 -0.242877 215766 5.68 8673\n",
      "0.59\n",
      "0.935627 -0.301734 -0.183188 215874 6.19 8676\n",
      "0.92\n",
      "0.867144 -0.273403 0.416308 216131 3.51 8684\n",
      "0.709\n",
      "0.831301 -0.256739 -0.492975 216210 5.99 8693\n",
      "0.38\n",
      "0.803716 -0.243705 -0.542815 216336 4.46 8695\n",
      "0.94\n",
      "0.948722 -0.287275 -0.131905 216386 3.73 8698\n",
      "0.69\n",
      "0.633798 -0.188856 -0.750089 216435 6.03 8700\n",
      "0.32\n",
      "0.938545 -0.280336 -0.201360 216494 5.80 8704\n",
      "0.92\n",
      "0.951946 -0.279411 -0.125412 216637 6.20 8710\n",
      "0.92\n",
      "0.959873 -0.279818 0.018585 216701 6.11 8715\n",
      "0.948\n",
      "0.810309 -0.232551 -0.537884 216763 4.20 8720\n",
      "0.64\n",
      "0.719139 -0.204873 0.663977 216916 5.60 8725\n",
      "0.837\n",
      "0.900427 -0.251979 0.354596 217014 5.45 8729\n",
      "0.635\n",
      "0.944863 -0.256728 0.203282 217232 5.76 8739\n",
      "0.965\n",
      "0.585212 -0.154398 -0.796045 217364 4.11 8747\n",
      "0.96\n",
      "0.960145 -0.251020 -0.122928 217531 6.23 8757\n",
      "0.71\n",
      "0.962368 -0.246456 -0.114485 217701 6.18 8763\n",
      "0.71\n",
      "0.796805 -0.200528 -0.569991 217792 5.12 8767\n",
      "0.96\n",
      "0.571217 -0.140676 -0.808654 217902 5.37 8774\n",
      "0.85\n",
      "0.623145 -0.154846 0.766624 218031 4.64 8780\n",
      "0.937\n",
      "0.962764 -0.234866 -0.133879 218060 5.44 8782\n",
      "0.70\n",
      "0.890699 -0.211044 -0.402637 218240 4.48 8789\n",
      "0.75\n",
      "0.960287 -0.226098 0.163490 218329 4.54 8795\n",
      "0.878\n",
      "0.495004 -0.117439 0.860918 218376 4.84 8797\n",
      "0.671\n",
      "0.635286 -0.147385 0.758082 218470 5.68 8805\n",
      "0.974\n",
      "0.909903 -0.204029 -0.361177 218594 3.68 8812\n",
      "0.96\n",
      "0.902182 -0.200361 -0.381999 218640 4.71 8817\n",
      "0.24\n",
      "0.687604 -0.151314 -0.710144 218670 3.88 8820\n",
      "0.96\n",
      "0.497834 -0.110970 0.860143 218753 5.68 8822\n",
      "0.707\n",
      "0.966604 -0.206620 0.151608 218918 5.15 8826\n",
      "0.872\n",
      "0.636798 -0.133763 0.759339 219080 4.53 8830\n",
      "0.974\n",
      "0.969213 -0.188888 -0.157946 219449 4.24 8841\n",
      "0.86\n",
      "0.517368 -0.097220 -0.850223 219571 3.99 8848\n",
      "0.97\n",
      "0.980967 -0.185541 0.057255 219615 3.70 8852\n",
      "0.970\n",
      "0.744147 -0.137372 -0.653738 219693 5.54 8859\n",
      "0.64\n",
      "0.043503 -0.006102 -0.999035 219765 5.50 8862\n",
      "0.82\n",
      "0.733523 -0.134664 0.666190 219815 5.98 8864\n",
      "0.970\n",
      "0.957100 -0.172604 -0.232740 219834 5.20 8866\n",
      "0.98\n",
      "0.366744 -0.066940 0.927911 219916 4.75 8872\n",
      "0.650\n",
      "0.730885 -0.129292 0.670142 219981 5.81 8876\n",
      "0.980\n",
      "0.901911 -0.156448 0.402593 220061 4.58 8880\n",
      "0.849\n",
      "0.774626 -0.133501 0.618168 220117 5.77 8885\n",
      "0.838\n",
      "0.952952 -0.156685 -0.259483 220278 5.19 8890\n",
      "0.92\n",
      "0.926862 -0.151067 -0.343665 220321 3.96 8892\n",
      "0.96\n",
      "0.834555 -0.129021 0.535604 220599 5.56 8903\n",
      "0.459\n",
      "0.907275 -0.138113 0.397212 220657 4.42 8905\n",
      "0.925\n",
      "0.599267 -0.087934 -0.795705 220729 5.53 8907\n",
      "0.98\n",
      "0.989615 -0.142402 0.019593 220858 6.26 8912\n",
      "0.724\n",
      "0.896081 -0.127241 0.425264 220933 5.99 8915\n",
      "0.984\n",
      "0.966482 -0.130870 0.220876 221115 4.54 8923\n",
      "0.517\n",
      "0.768472 -0.096785 0.632521 221345 5.22 8930\n",
      "0.924\n",
      "0.992346 -0.122024 -0.018952 221409 6.39 8934\n",
      "0.78\n",
      "0.927771 -0.108671 -0.356975 221565 4.70 8939\n",
      "0.91\n",
      "0.848718 -0.096877 0.519897 221673 4.97 8943\n",
      "0.993\n",
      "0.758710 -0.084346 0.645945 221756 5.55 8947\n",
      "0.828\n",
      "0.731571 -0.079876 -0.677070 221760 4.69 8949\n",
      "0.99\n",
      "0.952647 -0.093152 0.289458 222098 6.26 8960\n",
      "0.685\n",
      "0.944483 -0.091167 0.315659 222133 5.49 8963\n",
      "0.724\n",
      "0.683853 -0.061437 -0.727029 222287 6.07 8966\n",
      "0.63\n",
      "0.965582 -0.085395 -0.245681 222345 4.97 8968\n",
      "0.99\n",
      "0.213321 -0.019273 0.976792 222404 3.21 8974\n",
      "0.844\n",
      "0.712666 -0.061074 0.698840 222439 4.15 8976\n",
      "0.947\n",
      "0.949029 -0.075676 -0.305970 222574 4.82 8982\n",
      "0.99\n",
      "0.965202 -0.072907 -0.251136 222661 4.49 8988\n",
      "0.98\n",
      "0.962228 -0.068024 -0.263611 222800 6.36 8992\n",
      "0.86\n",
      "0.947297 -0.065407 -0.313610 222847 5.24 8998\n",
      "0.94\n",
      "0.688084 -0.041983 0.724416 223047 4.97 9003\n",
      "0.996\n",
      "0.638768 -0.035527 -0.768579 223145 5.18 9006\n",
      "0.51\n",
      "0.997456 -0.052530 -0.048181 223252 5.49 9012\n",
      "0.88\n",
      "0.465609 -0.022698 0.884699 223385 5.43 9018\n",
      "0.998\n",
      "0.875058 -0.039523 0.482401 223461 5.95 9025\n",
      "0.986\n",
      "0.945361 -0.035675 -0.324069 223640 5.17 9031\n",
      "0.13\n",
      "0.998078 -0.035011 0.051123 223719 5.59 9033\n",
      "0.944\n",
      "0.981293 -0.031616 0.189907 223781 5.30 9039\n",
      "0.987\n",
      "0.998008 -0.030817 -0.055044 223825 5.93 9041\n",
      "0.99\n",
      "0.537147 -0.013165 0.843386 224014 4.51 9045\n",
      "0.992\n",
      "0.538491 -0.010424 0.842567 224151 6.03 9052\n",
      "0.118\n",
      "0.136231 -0.001456 -0.990676 224362 5.72 9061\n",
      "0.43\n",
      "0.905218 -0.008851 0.424855 224427 4.63 9064\n",
      "0.961\n",
      "0.624020 -0.004320 0.781396 224490 4.80 9066\n",
      "0.998\n",
      "0.605344 -0.002830 -0.795959 224554 5.13 9069\n",
      "0.56\n",
      "0.992829 -0.002989 0.119506 224617 4.03 9072\n",
      "0.413\n",
      "0.703970 0.002233 0.710226 224801 6.36 9080\n",
      "0.6585\n",
      "0.223835 0.001560 -0.974626 224889 4.78 9084\n",
      "0.998\n",
      "0.890296 0.008394 0.455304 224930 5.80 9088\n",
      "0.9944\n",
      "0.868410 0.008836 -0.495769 224990 5.04 9091\n",
      "0.987\n",
      "0.988994 0.010771 0.147561 225003 5.70 9093\n",
      "0.9544\n",
      "0.464954 0.008578 0.885294 225180 5.90 9100\n",
      "0.9830\n",
      "\n"
     ]
    }
   ],
   "source": [
    "for i in f:\n",
    "    print(f.read(50))  # loop through each line of file, read first 50 characters of each line\n",
    " "
   ]
  },
  {
   "cell_type": "code",
   "execution_count": 479,
   "metadata": {},
   "outputs": [],
   "source": [
    "#  Try importing using pandas - holy moly!!!!  What a difference!\n",
    "\n",
    "import pandas as pd\n",
    "import numpy as np\n",
    "from pathlib import Path\n",
    "\n",
    "data_folder = Path(\"Data\")\n",
    "\n",
    "file_to_open = data_folder / \"stars.txt\"\n",
    "\n",
    "data = pd.read_csv(file_to_open, sep=' ',header=None, names=['X','Y','Z','Draper_Number','Apparent_Magnitude','Harvard_Revised_Number'])"
   ]
  },
  {
   "cell_type": "code",
   "execution_count": 474,
   "metadata": {},
   "outputs": [
    {
     "data": {
      "text/html": [
       "<div>\n",
       "<style scoped>\n",
       "    .dataframe tbody tr th:only-of-type {\n",
       "        vertical-align: middle;\n",
       "    }\n",
       "\n",
       "    .dataframe tbody tr th {\n",
       "        vertical-align: top;\n",
       "    }\n",
       "\n",
       "    .dataframe thead th {\n",
       "        text-align: right;\n",
       "    }\n",
       "</style>\n",
       "<table border=\"1\" class=\"dataframe\">\n",
       "  <thead>\n",
       "    <tr style=\"text-align: right;\">\n",
       "      <th></th>\n",
       "      <th>X</th>\n",
       "      <th>Y</th>\n",
       "      <th>Z</th>\n",
       "      <th>Draper Catalog Number</th>\n",
       "      <th>Apparent Magnitude</th>\n",
       "      <th>Harvard Revised Number</th>\n",
       "    </tr>\n",
       "  </thead>\n",
       "  <tbody>\n",
       "    <tr>\n",
       "      <th>0</th>\n",
       "      <td>0.994772</td>\n",
       "      <td>0.023164</td>\n",
       "      <td>-0.099456</td>\n",
       "      <td>28</td>\n",
       "      <td>4.61</td>\n",
       "      <td>3</td>\n",
       "    </tr>\n",
       "    <tr>\n",
       "      <th>1</th>\n",
       "      <td>0.972490</td>\n",
       "      <td>0.024187</td>\n",
       "      <td>0.231685</td>\n",
       "      <td>87</td>\n",
       "      <td>5.55</td>\n",
       "      <td>4</td>\n",
       "    </tr>\n",
       "    <tr>\n",
       "      <th>2</th>\n",
       "      <td>0.435119</td>\n",
       "      <td>0.012234</td>\n",
       "      <td>0.900290</td>\n",
       "      <td>144</td>\n",
       "      <td>5.57</td>\n",
       "      <td>7</td>\n",
       "    </tr>\n",
       "    <tr>\n",
       "      <th>3</th>\n",
       "      <td>0.998442</td>\n",
       "      <td>0.033711</td>\n",
       "      <td>-0.044468</td>\n",
       "      <td>315</td>\n",
       "      <td>6.43</td>\n",
       "      <td>11</td>\n",
       "    </tr>\n",
       "    <tr>\n",
       "      <th>4</th>\n",
       "      <td>0.998448</td>\n",
       "      <td>0.035746</td>\n",
       "      <td>-0.042707</td>\n",
       "      <td>352</td>\n",
       "      <td>6.18</td>\n",
       "      <td>14</td>\n",
       "    </tr>\n",
       "    <tr>\n",
       "      <th>5</th>\n",
       "      <td>0.873265</td>\n",
       "      <td>0.031968</td>\n",
       "      <td>0.486196</td>\n",
       "      <td>358</td>\n",
       "      <td>2.07</td>\n",
       "      <td>15</td>\n",
       "    </tr>\n",
       "    <tr>\n",
       "      <th>6</th>\n",
       "      <td>0.512379</td>\n",
       "      <td>0.020508</td>\n",
       "      <td>0.858515</td>\n",
       "      <td>432</td>\n",
       "      <td>2.28</td>\n",
       "      <td>21</td>\n",
       "    </tr>\n",
       "    <tr>\n",
       "      <th>7</th>\n",
       "      <td>0.949168</td>\n",
       "      <td>0.037455</td>\n",
       "      <td>0.312534</td>\n",
       "      <td>448</td>\n",
       "      <td>5.57</td>\n",
       "      <td>22</td>\n",
       "    </tr>\n",
       "    <tr>\n",
       "      <th>8</th>\n",
       "      <td>0.882312</td>\n",
       "      <td>0.036017</td>\n",
       "      <td>-0.469285</td>\n",
       "      <td>493</td>\n",
       "      <td>5.42</td>\n",
       "      <td>24</td>\n",
       "    </tr>\n",
       "    <tr>\n",
       "      <th>9</th>\n",
       "      <td>0.697240</td>\n",
       "      <td>0.028641</td>\n",
       "      <td>-0.716265</td>\n",
       "      <td>496</td>\n",
       "      <td>3.88</td>\n",
       "      <td>25</td>\n",
       "    </tr>\n",
       "    <tr>\n",
       "      <th>10</th>\n",
       "      <td>0.980198</td>\n",
       "      <td>0.042952</td>\n",
       "      <td>0.193306</td>\n",
       "      <td>560</td>\n",
       "      <td>5.54</td>\n",
       "      <td>26</td>\n",
       "    </tr>\n",
       "    <tr>\n",
       "      <th>11</th>\n",
       "      <td>0.693047</td>\n",
       "      <td>0.031231</td>\n",
       "      <td>0.720216</td>\n",
       "      <td>571</td>\n",
       "      <td>5.01</td>\n",
       "      <td>27</td>\n",
       "    </tr>\n",
       "    <tr>\n",
       "      <th>12</th>\n",
       "      <td>0.135171</td>\n",
       "      <td>0.005924</td>\n",
       "      <td>-0.990805</td>\n",
       "      <td>636</td>\n",
       "      <td>5.29</td>\n",
       "      <td>30</td>\n",
       "    </tr>\n",
       "    <tr>\n",
       "      <th>13</th>\n",
       "      <td>0.962619</td>\n",
       "      <td>0.047354</td>\n",
       "      <td>-0.266689</td>\n",
       "      <td>693</td>\n",
       "      <td>4.89</td>\n",
       "      <td>33</td>\n",
       "    </tr>\n",
       "    <tr>\n",
       "      <th>14</th>\n",
       "      <td>0.883455</td>\n",
       "      <td>0.044652</td>\n",
       "      <td>-0.466383</td>\n",
       "      <td>720</td>\n",
       "      <td>5.41</td>\n",
       "      <td>34</td>\n",
       "    </tr>\n",
       "    <tr>\n",
       "      <th>15</th>\n",
       "      <td>0.816743</td>\n",
       "      <td>0.041844</td>\n",
       "      <td>-0.575482</td>\n",
       "      <td>739</td>\n",
       "      <td>5.24</td>\n",
       "      <td>35</td>\n",
       "    </tr>\n",
       "    <tr>\n",
       "      <th>16</th>\n",
       "      <td>0.963482</td>\n",
       "      <td>0.055705</td>\n",
       "      <td>0.261913</td>\n",
       "      <td>886</td>\n",
       "      <td>2.83</td>\n",
       "      <td>39</td>\n",
       "    </tr>\n",
       "    <tr>\n",
       "      <th>17</th>\n",
       "      <td>0.752989</td>\n",
       "      <td>0.044458</td>\n",
       "      <td>0.656529</td>\n",
       "      <td>905</td>\n",
       "      <td>5.71</td>\n",
       "      <td>41</td>\n",
       "    </tr>\n",
       "    <tr>\n",
       "      <th>18</th>\n",
       "      <td>0.936549</td>\n",
       "      <td>0.059751</td>\n",
       "      <td>0.345408</td>\n",
       "      <td>1013</td>\n",
       "      <td>4.79</td>\n",
       "      <td>45</td>\n",
       "    </tr>\n",
       "    <tr>\n",
       "      <th>19</th>\n",
       "      <td>0.943971</td>\n",
       "      <td>0.060384</td>\n",
       "      <td>-0.324457</td>\n",
       "      <td>1038</td>\n",
       "      <td>4.44</td>\n",
       "      <td>48</td>\n",
       "    </tr>\n",
       "    <tr>\n",
       "      <th>20</th>\n",
       "      <td>0.986062</td>\n",
       "      <td>0.064542</td>\n",
       "      <td>0.153349</td>\n",
       "      <td>1061</td>\n",
       "      <td>6.02</td>\n",
       "      <td>50</td>\n",
       "    </tr>\n",
       "    <tr>\n",
       "      <th>21</th>\n",
       "      <td>0.987091</td>\n",
       "      <td>0.071481</td>\n",
       "      <td>0.143323</td>\n",
       "      <td>1227</td>\n",
       "      <td>6.12</td>\n",
       "      <td>59</td>\n",
       "    </tr>\n",
       "    <tr>\n",
       "      <th>22</th>\n",
       "      <td>0.778460</td>\n",
       "      <td>0.058165</td>\n",
       "      <td>0.624993</td>\n",
       "      <td>1280</td>\n",
       "      <td>4.61</td>\n",
       "      <td>63</td>\n",
       "    </tr>\n",
       "    <tr>\n",
       "      <th>23</th>\n",
       "      <td>0.621566</td>\n",
       "      <td>0.048148</td>\n",
       "      <td>0.781881</td>\n",
       "      <td>1337</td>\n",
       "      <td>6.11</td>\n",
       "      <td>65</td>\n",
       "    </tr>\n",
       "    <tr>\n",
       "      <th>24</th>\n",
       "      <td>0.798325</td>\n",
       "      <td>0.063981</td>\n",
       "      <td>0.598819</td>\n",
       "      <td>1404</td>\n",
       "      <td>4.51</td>\n",
       "      <td>68</td>\n",
       "    </tr>\n",
       "    <tr>\n",
       "      <th>25</th>\n",
       "      <td>0.719465</td>\n",
       "      <td>0.058843</td>\n",
       "      <td>0.692032</td>\n",
       "      <td>1438</td>\n",
       "      <td>6.10</td>\n",
       "      <td>70</td>\n",
       "    </tr>\n",
       "    <tr>\n",
       "      <th>26</th>\n",
       "      <td>0.984616</td>\n",
       "      <td>0.083667</td>\n",
       "      <td>-0.153397</td>\n",
       "      <td>1522</td>\n",
       "      <td>3.56</td>\n",
       "      <td>74</td>\n",
       "    </tr>\n",
       "    <tr>\n",
       "      <th>27</th>\n",
       "      <td>0.422933</td>\n",
       "      <td>0.037061</td>\n",
       "      <td>-0.905403</td>\n",
       "      <td>1581</td>\n",
       "      <td>4.23</td>\n",
       "      <td>77</td>\n",
       "    </tr>\n",
       "    <tr>\n",
       "      <th>28</th>\n",
       "      <td>0.985806</td>\n",
       "      <td>0.088838</td>\n",
       "      <td>0.142461</td>\n",
       "      <td>1635</td>\n",
       "      <td>5.38</td>\n",
       "      <td>80</td>\n",
       "    </tr>\n",
       "    <tr>\n",
       "      <th>29</th>\n",
       "      <td>0.785002</td>\n",
       "      <td>0.072548</td>\n",
       "      <td>0.615231</td>\n",
       "      <td>1671</td>\n",
       "      <td>5.16</td>\n",
       "      <td>82</td>\n",
       "    </tr>\n",
       "    <tr>\n",
       "      <th>...</th>\n",
       "      <td>...</td>\n",
       "      <td>...</td>\n",
       "      <td>...</td>\n",
       "      <td>...</td>\n",
       "      <td>...</td>\n",
       "      <td>...</td>\n",
       "    </tr>\n",
       "    <tr>\n",
       "      <th>3496</th>\n",
       "      <td>0.981293</td>\n",
       "      <td>-0.031616</td>\n",
       "      <td>0.189907</td>\n",
       "      <td>223781</td>\n",
       "      <td>5.30</td>\n",
       "      <td>9039</td>\n",
       "    </tr>\n",
       "    <tr>\n",
       "      <th>3497</th>\n",
       "      <td>0.987216</td>\n",
       "      <td>-0.030846</td>\n",
       "      <td>-0.156377</td>\n",
       "      <td>223807</td>\n",
       "      <td>5.76</td>\n",
       "      <td>9040</td>\n",
       "    </tr>\n",
       "    <tr>\n",
       "      <th>3498</th>\n",
       "      <td>0.998008</td>\n",
       "      <td>-0.030817</td>\n",
       "      <td>-0.055044</td>\n",
       "      <td>223825</td>\n",
       "      <td>5.93</td>\n",
       "      <td>9041</td>\n",
       "    </tr>\n",
       "    <tr>\n",
       "      <th>3499</th>\n",
       "      <td>0.998879</td>\n",
       "      <td>-0.030173</td>\n",
       "      <td>0.036480</td>\n",
       "      <td>223855</td>\n",
       "      <td>6.29</td>\n",
       "      <td>9042</td>\n",
       "    </tr>\n",
       "    <tr>\n",
       "      <th>3500</th>\n",
       "      <td>0.537147</td>\n",
       "      <td>-0.013165</td>\n",
       "      <td>0.843386</td>\n",
       "      <td>224014</td>\n",
       "      <td>4.51</td>\n",
       "      <td>9045</td>\n",
       "    </tr>\n",
       "    <tr>\n",
       "      <th>3501</th>\n",
       "      <td>0.992170</td>\n",
       "      <td>-0.021088</td>\n",
       "      <td>0.123100</td>\n",
       "      <td>224103</td>\n",
       "      <td>6.22</td>\n",
       "      <td>9048</td>\n",
       "    </tr>\n",
       "    <tr>\n",
       "      <th>3502</th>\n",
       "      <td>0.538491</td>\n",
       "      <td>-0.010424</td>\n",
       "      <td>0.842567</td>\n",
       "      <td>224151</td>\n",
       "      <td>6.03</td>\n",
       "      <td>9052</td>\n",
       "    </tr>\n",
       "    <tr>\n",
       "      <th>3503</th>\n",
       "      <td>0.118544</td>\n",
       "      <td>-0.001832</td>\n",
       "      <td>0.992947</td>\n",
       "      <td>224309</td>\n",
       "      <td>6.57</td>\n",
       "      <td>9056</td>\n",
       "    </tr>\n",
       "    <tr>\n",
       "      <th>3504</th>\n",
       "      <td>0.136231</td>\n",
       "      <td>-0.001456</td>\n",
       "      <td>-0.990676</td>\n",
       "      <td>224362</td>\n",
       "      <td>5.72</td>\n",
       "      <td>9061</td>\n",
       "    </tr>\n",
       "    <tr>\n",
       "      <th>3505</th>\n",
       "      <td>0.433665</td>\n",
       "      <td>-0.004574</td>\n",
       "      <td>-0.901063</td>\n",
       "      <td>224392</td>\n",
       "      <td>5.00</td>\n",
       "      <td>9062</td>\n",
       "    </tr>\n",
       "    <tr>\n",
       "      <th>3506</th>\n",
       "      <td>0.905218</td>\n",
       "      <td>-0.008851</td>\n",
       "      <td>0.424855</td>\n",
       "      <td>224427</td>\n",
       "      <td>4.63</td>\n",
       "      <td>9064</td>\n",
       "    </tr>\n",
       "    <tr>\n",
       "      <th>3507</th>\n",
       "      <td>0.961967</td>\n",
       "      <td>-0.006914</td>\n",
       "      <td>-0.273077</td>\n",
       "      <td>224481</td>\n",
       "      <td>6.28</td>\n",
       "      <td>9065</td>\n",
       "    </tr>\n",
       "    <tr>\n",
       "      <th>3508</th>\n",
       "      <td>0.624020</td>\n",
       "      <td>-0.004320</td>\n",
       "      <td>0.781396</td>\n",
       "      <td>224490</td>\n",
       "      <td>4.80</td>\n",
       "      <td>9066</td>\n",
       "    </tr>\n",
       "    <tr>\n",
       "      <th>3509</th>\n",
       "      <td>0.998058</td>\n",
       "      <td>-0.005777</td>\n",
       "      <td>-0.062021</td>\n",
       "      <td>224533</td>\n",
       "      <td>4.88</td>\n",
       "      <td>9067</td>\n",
       "    </tr>\n",
       "    <tr>\n",
       "      <th>3510</th>\n",
       "      <td>0.605344</td>\n",
       "      <td>-0.002830</td>\n",
       "      <td>-0.795959</td>\n",
       "      <td>224554</td>\n",
       "      <td>5.13</td>\n",
       "      <td>9069</td>\n",
       "    </tr>\n",
       "    <tr>\n",
       "      <th>3511</th>\n",
       "      <td>0.562728</td>\n",
       "      <td>-0.002434</td>\n",
       "      <td>0.826638</td>\n",
       "      <td>224572</td>\n",
       "      <td>4.88</td>\n",
       "      <td>9071</td>\n",
       "    </tr>\n",
       "    <tr>\n",
       "      <th>3512</th>\n",
       "      <td>0.992829</td>\n",
       "      <td>-0.002989</td>\n",
       "      <td>0.119506</td>\n",
       "      <td>224617</td>\n",
       "      <td>4.03</td>\n",
       "      <td>9072</td>\n",
       "    </tr>\n",
       "    <tr>\n",
       "      <th>3513</th>\n",
       "      <td>0.413469</td>\n",
       "      <td>-0.000153</td>\n",
       "      <td>-0.910518</td>\n",
       "      <td>224686</td>\n",
       "      <td>4.49</td>\n",
       "      <td>9076</td>\n",
       "    </tr>\n",
       "    <tr>\n",
       "      <th>3514</th>\n",
       "      <td>0.703970</td>\n",
       "      <td>0.002233</td>\n",
       "      <td>0.710226</td>\n",
       "      <td>224801</td>\n",
       "      <td>6.36</td>\n",
       "      <td>9080</td>\n",
       "    </tr>\n",
       "    <tr>\n",
       "      <th>3515</th>\n",
       "      <td>0.658553</td>\n",
       "      <td>0.003094</td>\n",
       "      <td>-0.752528</td>\n",
       "      <td>224834</td>\n",
       "      <td>5.71</td>\n",
       "      <td>9081</td>\n",
       "    </tr>\n",
       "    <tr>\n",
       "      <th>3516</th>\n",
       "      <td>0.223835</td>\n",
       "      <td>0.001560</td>\n",
       "      <td>-0.974626</td>\n",
       "      <td>224889</td>\n",
       "      <td>4.78</td>\n",
       "      <td>9084</td>\n",
       "    </tr>\n",
       "    <tr>\n",
       "      <th>3517</th>\n",
       "      <td>0.998573</td>\n",
       "      <td>0.007948</td>\n",
       "      <td>-0.052815</td>\n",
       "      <td>224926</td>\n",
       "      <td>5.13</td>\n",
       "      <td>9087</td>\n",
       "    </tr>\n",
       "    <tr>\n",
       "      <th>3518</th>\n",
       "      <td>0.890296</td>\n",
       "      <td>0.008394</td>\n",
       "      <td>0.455304</td>\n",
       "      <td>224930</td>\n",
       "      <td>5.80</td>\n",
       "      <td>9088</td>\n",
       "    </tr>\n",
       "    <tr>\n",
       "      <th>3519</th>\n",
       "      <td>0.994460</td>\n",
       "      <td>0.008504</td>\n",
       "      <td>-0.104771</td>\n",
       "      <td>224935</td>\n",
       "      <td>4.37</td>\n",
       "      <td>9089</td>\n",
       "    </tr>\n",
       "    <tr>\n",
       "      <th>3520</th>\n",
       "      <td>0.868410</td>\n",
       "      <td>0.008836</td>\n",
       "      <td>-0.495769</td>\n",
       "      <td>224990</td>\n",
       "      <td>5.04</td>\n",
       "      <td>9091</td>\n",
       "    </tr>\n",
       "    <tr>\n",
       "      <th>3521</th>\n",
       "      <td>0.987752</td>\n",
       "      <td>0.010356</td>\n",
       "      <td>0.155690</td>\n",
       "      <td>224995</td>\n",
       "      <td>6.33</td>\n",
       "      <td>9092</td>\n",
       "    </tr>\n",
       "    <tr>\n",
       "      <th>3522</th>\n",
       "      <td>0.988994</td>\n",
       "      <td>0.010771</td>\n",
       "      <td>0.147561</td>\n",
       "      <td>225003</td>\n",
       "      <td>5.70</td>\n",
       "      <td>9093</td>\n",
       "    </tr>\n",
       "    <tr>\n",
       "      <th>3523</th>\n",
       "      <td>0.954447</td>\n",
       "      <td>0.015575</td>\n",
       "      <td>-0.297974</td>\n",
       "      <td>225132</td>\n",
       "      <td>4.55</td>\n",
       "      <td>9098</td>\n",
       "    </tr>\n",
       "    <tr>\n",
       "      <th>3524</th>\n",
       "      <td>0.464954</td>\n",
       "      <td>0.008578</td>\n",
       "      <td>0.885294</td>\n",
       "      <td>225180</td>\n",
       "      <td>5.90</td>\n",
       "      <td>9100</td>\n",
       "    </tr>\n",
       "    <tr>\n",
       "      <th>3525</th>\n",
       "      <td>0.983035</td>\n",
       "      <td>0.019313</td>\n",
       "      <td>-0.182399</td>\n",
       "      <td>225212</td>\n",
       "      <td>4.99</td>\n",
       "      <td>9103</td>\n",
       "    </tr>\n",
       "  </tbody>\n",
       "</table>\n",
       "<p>3526 rows × 6 columns</p>\n",
       "</div>"
      ],
      "text/plain": [
       "             X         Y         Z  Draper Catalog Number  Apparent Magnitude  \\\n",
       "0     0.994772  0.023164 -0.099456                     28                4.61   \n",
       "1     0.972490  0.024187  0.231685                     87                5.55   \n",
       "2     0.435119  0.012234  0.900290                    144                5.57   \n",
       "3     0.998442  0.033711 -0.044468                    315                6.43   \n",
       "4     0.998448  0.035746 -0.042707                    352                6.18   \n",
       "5     0.873265  0.031968  0.486196                    358                2.07   \n",
       "6     0.512379  0.020508  0.858515                    432                2.28   \n",
       "7     0.949168  0.037455  0.312534                    448                5.57   \n",
       "8     0.882312  0.036017 -0.469285                    493                5.42   \n",
       "9     0.697240  0.028641 -0.716265                    496                3.88   \n",
       "10    0.980198  0.042952  0.193306                    560                5.54   \n",
       "11    0.693047  0.031231  0.720216                    571                5.01   \n",
       "12    0.135171  0.005924 -0.990805                    636                5.29   \n",
       "13    0.962619  0.047354 -0.266689                    693                4.89   \n",
       "14    0.883455  0.044652 -0.466383                    720                5.41   \n",
       "15    0.816743  0.041844 -0.575482                    739                5.24   \n",
       "16    0.963482  0.055705  0.261913                    886                2.83   \n",
       "17    0.752989  0.044458  0.656529                    905                5.71   \n",
       "18    0.936549  0.059751  0.345408                   1013                4.79   \n",
       "19    0.943971  0.060384 -0.324457                   1038                4.44   \n",
       "20    0.986062  0.064542  0.153349                   1061                6.02   \n",
       "21    0.987091  0.071481  0.143323                   1227                6.12   \n",
       "22    0.778460  0.058165  0.624993                   1280                4.61   \n",
       "23    0.621566  0.048148  0.781881                   1337                6.11   \n",
       "24    0.798325  0.063981  0.598819                   1404                4.51   \n",
       "25    0.719465  0.058843  0.692032                   1438                6.10   \n",
       "26    0.984616  0.083667 -0.153397                   1522                3.56   \n",
       "27    0.422933  0.037061 -0.905403                   1581                4.23   \n",
       "28    0.985806  0.088838  0.142461                   1635                5.38   \n",
       "29    0.785002  0.072548  0.615231                   1671                5.16   \n",
       "...        ...       ...       ...                    ...                 ...   \n",
       "3496  0.981293 -0.031616  0.189907                 223781                5.30   \n",
       "3497  0.987216 -0.030846 -0.156377                 223807                5.76   \n",
       "3498  0.998008 -0.030817 -0.055044                 223825                5.93   \n",
       "3499  0.998879 -0.030173  0.036480                 223855                6.29   \n",
       "3500  0.537147 -0.013165  0.843386                 224014                4.51   \n",
       "3501  0.992170 -0.021088  0.123100                 224103                6.22   \n",
       "3502  0.538491 -0.010424  0.842567                 224151                6.03   \n",
       "3503  0.118544 -0.001832  0.992947                 224309                6.57   \n",
       "3504  0.136231 -0.001456 -0.990676                 224362                5.72   \n",
       "3505  0.433665 -0.004574 -0.901063                 224392                5.00   \n",
       "3506  0.905218 -0.008851  0.424855                 224427                4.63   \n",
       "3507  0.961967 -0.006914 -0.273077                 224481                6.28   \n",
       "3508  0.624020 -0.004320  0.781396                 224490                4.80   \n",
       "3509  0.998058 -0.005777 -0.062021                 224533                4.88   \n",
       "3510  0.605344 -0.002830 -0.795959                 224554                5.13   \n",
       "3511  0.562728 -0.002434  0.826638                 224572                4.88   \n",
       "3512  0.992829 -0.002989  0.119506                 224617                4.03   \n",
       "3513  0.413469 -0.000153 -0.910518                 224686                4.49   \n",
       "3514  0.703970  0.002233  0.710226                 224801                6.36   \n",
       "3515  0.658553  0.003094 -0.752528                 224834                5.71   \n",
       "3516  0.223835  0.001560 -0.974626                 224889                4.78   \n",
       "3517  0.998573  0.007948 -0.052815                 224926                5.13   \n",
       "3518  0.890296  0.008394  0.455304                 224930                5.80   \n",
       "3519  0.994460  0.008504 -0.104771                 224935                4.37   \n",
       "3520  0.868410  0.008836 -0.495769                 224990                5.04   \n",
       "3521  0.987752  0.010356  0.155690                 224995                6.33   \n",
       "3522  0.988994  0.010771  0.147561                 225003                5.70   \n",
       "3523  0.954447  0.015575 -0.297974                 225132                4.55   \n",
       "3524  0.464954  0.008578  0.885294                 225180                5.90   \n",
       "3525  0.983035  0.019313 -0.182399                 225212                4.99   \n",
       "\n",
       "      Harvard Revised Number  \n",
       "0                          3  \n",
       "1                          4  \n",
       "2                          7  \n",
       "3                         11  \n",
       "4                         14  \n",
       "5                         15  \n",
       "6                         21  \n",
       "7                         22  \n",
       "8                         24  \n",
       "9                         25  \n",
       "10                        26  \n",
       "11                        27  \n",
       "12                        30  \n",
       "13                        33  \n",
       "14                        34  \n",
       "15                        35  \n",
       "16                        39  \n",
       "17                        41  \n",
       "18                        45  \n",
       "19                        48  \n",
       "20                        50  \n",
       "21                        59  \n",
       "22                        63  \n",
       "23                        65  \n",
       "24                        68  \n",
       "25                        70  \n",
       "26                        74  \n",
       "27                        77  \n",
       "28                        80  \n",
       "29                        82  \n",
       "...                      ...  \n",
       "3496                    9039  \n",
       "3497                    9040  \n",
       "3498                    9041  \n",
       "3499                    9042  \n",
       "3500                    9045  \n",
       "3501                    9048  \n",
       "3502                    9052  \n",
       "3503                    9056  \n",
       "3504                    9061  \n",
       "3505                    9062  \n",
       "3506                    9064  \n",
       "3507                    9065  \n",
       "3508                    9066  \n",
       "3509                    9067  \n",
       "3510                    9069  \n",
       "3511                    9071  \n",
       "3512                    9072  \n",
       "3513                    9076  \n",
       "3514                    9080  \n",
       "3515                    9081  \n",
       "3516                    9084  \n",
       "3517                    9087  \n",
       "3518                    9088  \n",
       "3519                    9089  \n",
       "3520                    9091  \n",
       "3521                    9092  \n",
       "3522                    9093  \n",
       "3523                    9098  \n",
       "3524                    9100  \n",
       "3525                    9103  \n",
       "\n",
       "[3526 rows x 6 columns]"
      ]
     },
     "execution_count": 474,
     "metadata": {},
     "output_type": "execute_result"
    }
   ],
   "source": [
    "data\n"
   ]
  },
  {
   "cell_type": "code",
   "execution_count": 480,
   "metadata": {},
   "outputs": [
    {
     "data": {
      "text/plain": [
       "0       4.61\n",
       "1       5.55\n",
       "2       5.57\n",
       "3       6.43\n",
       "4       6.18\n",
       "5       2.07\n",
       "6       2.28\n",
       "7       5.57\n",
       "8       5.42\n",
       "9       3.88\n",
       "10      5.54\n",
       "11      5.01\n",
       "12      5.29\n",
       "13      4.89\n",
       "14      5.41\n",
       "15      5.24\n",
       "16      2.83\n",
       "17      5.71\n",
       "18      4.79\n",
       "19      4.44\n",
       "20      6.02\n",
       "21      6.12\n",
       "22      4.61\n",
       "23      6.11\n",
       "24      4.51\n",
       "25      6.10\n",
       "26      3.56\n",
       "27      4.23\n",
       "28      5.38\n",
       "29      5.16\n",
       "        ... \n",
       "3496    5.30\n",
       "3497    5.76\n",
       "3498    5.93\n",
       "3499    6.29\n",
       "3500    4.51\n",
       "3501    6.22\n",
       "3502    6.03\n",
       "3503    6.57\n",
       "3504    5.72\n",
       "3505    5.00\n",
       "3506    4.63\n",
       "3507    6.28\n",
       "3508    4.80\n",
       "3509    4.88\n",
       "3510    5.13\n",
       "3511    4.88\n",
       "3512    4.03\n",
       "3513    4.49\n",
       "3514    6.36\n",
       "3515    5.71\n",
       "3516    4.78\n",
       "3517    5.13\n",
       "3518    5.80\n",
       "3519    4.37\n",
       "3520    5.04\n",
       "3521    6.33\n",
       "3522    5.70\n",
       "3523    4.55\n",
       "3524    5.90\n",
       "3525    4.99\n",
       "Name: Apparent_Magnitude, Length: 3526, dtype: float64"
      ]
     },
     "execution_count": 480,
     "metadata": {},
     "output_type": "execute_result"
    }
   ],
   "source": [
    "data.Apparent_Magnitude"
   ]
  },
  {
   "cell_type": "code",
   "execution_count": 516,
   "metadata": {},
   "outputs": [
    {
     "data": {
      "image/png": "[encoded data removed]",
      "text/plain": [
       "<Figure size 432x288 with 1 Axes>"
      ]
     },
     "metadata": {},
     "output_type": "display_data"
    }
   ],
   "source": [
    "# Plot stars!\n",
    "\n",
    "%matplotlib inline\n",
    "\n",
    "from mpl_toolkits import mplot3d\n",
    "\n",
    "import matplotlib.pyplot as plt\n",
    "import pandas as pd\n",
    "import numpy as np\n",
    "from pathlib import Path\n",
    "\n",
    "# Data file to import\n",
    "data_folder = Path(\"Data\")\n",
    "file_to_open = data_folder / \"stars.txt\"\n",
    "\n",
    "# Create a DataFrame pandas object from txt file.  Set column names\n",
    "df = pd.read_csv(file_to_open, sep=' ',header=None, names=['X','Y','Z','Draper_Number','Apparent_Magnitude','Harvard_Revised_Number'])\n",
    "\n",
    "# Define 3d grid axes\n",
    "ax = plt.axes(projection='3d')\n",
    "\n",
    "# Data for three-dimensional scattered points\n",
    "xdata = 15*df.X\n",
    "ydata = 15*df.Y\n",
    "zdata = 15*df.Z\n",
    "\n",
    "ax.set_yscale = 3\n",
    "\n",
    "ax.scatter3D(xdata, ydata, zdata, s=0.2, c=xdata, depthshade=False, cmap='Blues');"
   ]
  },
  {
   "cell_type": "code",
   "execution_count": 517,
   "metadata": {},
   "outputs": [
    {
     "data": {
      "text/plain": [
       "<bound method Axes3D.scatter of <matplotlib.axes._subplots.Axes3DSubplot object at 0x11efbdc50>>"
      ]
     },
     "execution_count": 517,
     "metadata": {},
     "output_type": "execute_result"
    }
   ],
   "source": [
    "ax.scatter3D"
   ]
  },
  {
   "cell_type": "code",
   "execution_count": null,
   "metadata": {},
   "outputs": [],
   "source": []
  }
 ],
 "metadata": {
  "kernelspec": {
   "display_name": "Python 3",
   "language": "python",
   "name": "python3"
  },
  "language_info": {
   "codemirror_mode": {
    "name": "ipython",
    "version": 3
   },
   "file_extension": ".py",
   "mimetype": "text/x-python",
   "name": "python",
   "nbconvert_exporter": "python",
   "pygments_lexer": "ipython3",
   "version": "3.6.5"
  }
 },
 "nbformat": 4,
 "nbformat_minor": 2
}
